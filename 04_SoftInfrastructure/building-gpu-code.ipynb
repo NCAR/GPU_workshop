{
 "cells": [
  {
   "cell_type": "markdown",
   "id": "b815b0a5-c18a-493d-8f35-03af86be6a9d",
   "metadata": {
    "tags": []
   },
   "source": [
    "![NCAR UCAR Logo](../NCAR_CISL_NSF_banner.jpeg)\n",
    "# Building and Monitoring GPU Programs\n",
    "## NCAR GPU Workshop Lab\n",
    "\n",
    "Presenter: Brian Vanderwende  \n",
    "Date: March 17, 2022"
   ]
  },
  {
   "cell_type": "markdown",
   "id": "36382aee-861a-4c55-93b4-bef71ec21bc7",
   "metadata": {},
   "source": [
    "## Configuring your environment\n",
    "The default compute environment on Casper provides the Intel compilers for CPU workflows. We want to use the NVIDIA HPC SDK, and so we need to switch our environment configuration. On most supercomputers, you will use environment modules to do so."
   ]
  },
  {
   "cell_type": "code",
   "execution_count": null,
   "id": "381146b5-43d5-48fe-ba15-63ee6414016e",
   "metadata": {},
   "outputs": [],
   "source": [
    "# See the available versions of the NVIDIA HPC SDK\n",
    "module avail nvhpc"
   ]
  },
  {
   "cell_type": "code",
   "execution_count": null,
   "id": "8775ad65-16e0-45d0-87e9-edb8a484b8f2",
   "metadata": {},
   "outputs": [],
   "source": [
    "# Remove any loaded modules and load the latest NVIDIA HPC SDK\n",
    "module purge\n",
    "module load nvhpc/22.2\n",
    "module list"
   ]
  },
  {
   "cell_type": "markdown",
   "id": "4418503e-5698-425b-80ad-8d52f30a8e40",
   "metadata": {},
   "source": [
    "## Compiling a basic OpenACC Fortran code\n",
    "For this demonstration, we will use a basic Fortran code from the set of OpenACC examples provided by the NVIDIA HPC SDK. We need to make a copy of the source file at a location in which we have write permissions."
   ]
  },
  {
   "cell_type": "code",
   "execution_count": null,
   "id": "a9edb5ca-9b1c-40dc-b305-845b6e62a433",
   "metadata": {},
   "outputs": [],
   "source": [
    "# Prepare a directory to contain the case\n",
    "mkdir -p openacc_f1\n",
    "cd openacc_f1\n",
    "cp $NVHPC/Linux_x86_64/22.2/examples/OpenACC/samples/acc_f1/acc_f1.f90 .\n",
    "ls"
   ]
  },
  {
   "cell_type": "markdown",
   "id": "f14ea306-8412-4c89-8673-5ed1ef2f5e76",
   "metadata": {},
   "source": [
    "This code contains a few OpenACC directives to offload scalar multiplication operations to a GPU.\n",
    "\n",
    "**The details of OpenACC programming will be taught in future sessions - for now we will only focus on how to compile the code.**\n",
    "\n",
    "As this is a Fortran code, we will use the `nvfortran` compiler. The `-acc` flag must be given to `nvfortran` in order to enable OpenACC directives (and the same to nvc++ for C++ pragmas). Without this flag, only CPU instructions will be generated."
   ]
  },
  {
   "cell_type": "code",
   "execution_count": null,
   "id": "e1c9365d-2f4c-4e62-b973-b7ad28ac8e98",
   "metadata": {},
   "outputs": [],
   "source": [
    "# Compile the fortran code and output into a binary called acc_f1\n",
    "nvfortran -o acc_f1 -acc acc_f1.f90\n",
    "ls"
   ]
  },
  {
   "cell_type": "markdown",
   "id": "af88921c-7d0d-419b-8422-0c7e8e858f45",
   "metadata": {},
   "source": [
    "We can verify that OpenACC was used in a number of ways - here via the `strings` utility, which can be used to extract human-readible text strings from binary files. We search the `strings` output using `grep`, and instruct it to only report the first match with `-m1`."
   ]
  },
  {
   "cell_type": "code",
   "execution_count": null,
   "id": "4515ff21-8c42-412b-be55-cac85f951e6c",
   "metadata": {},
   "outputs": [],
   "source": [
    "# Use strings to look for \"libacc\" OpenACC libraries in our binary\n",
    "echo \"OpenACC libraries:\"\n",
    "strings acc_f1 | grep -m1 libacc"
   ]
  },
  {
   "cell_type": "markdown",
   "id": "b941fcad-b7ca-45c1-a8e3-4c7ebb7fce09",
   "metadata": {},
   "source": [
    "The above output indicates that OpenACC libraries have been used by `nvfortran` when compiling our binary. Meanwhile, if we compile without OpenACC support, we should see that grep returns no match."
   ]
  },
  {
   "cell_type": "code",
   "execution_count": null,
   "id": "1a145f13-920e-4337-b3a0-369a18edb46a",
   "metadata": {},
   "outputs": [],
   "source": [
    "nvfortran -o no_acc_f1 acc_f1.f90\n",
    "echo \"OpenACC libraries:\"\n",
    "strings no_acc_f1 | grep -m1 libacc || echo \"None found\""
   ]
  },
  {
   "cell_type": "markdown",
   "id": "75953387-bba2-453e-8e86-ca3caf696562",
   "metadata": {},
   "source": [
    "### Compiling for OpenMP GPU offload\n",
    "Many of the concepts shown here extend to compiling OpenMP GPU code as well. However, the flags for activating GPU offload are slightly different:\n",
    "```\n",
    "nvfortran -o omp_gpu -mp=gpu omp.f90\n",
    "```"
   ]
  },
  {
   "cell_type": "markdown",
   "id": "8fae4a35-2ac5-402d-ab03-a549501c2029",
   "metadata": {},
   "source": [
    "## Getting acceleration information from the compiler\n",
    "The NVIDIA compilers themselves provide diagnostic options - the like the powerful flag `-Minfo` - which allow us to learn about compile-time decisions including GPU offloading. The `accel` argument to `-Minfo` will give us information specifically pertaining to OpenACC (*or OpenMP*) GPU acceleration at compile time."
   ]
  },
  {
   "cell_type": "code",
   "execution_count": null,
   "id": "d2035043-cca6-4dfa-b605-8b224ffc4b30",
   "metadata": {},
   "outputs": [],
   "source": [
    "nvfortran -o acc_f1 -acc -Minfo=accel acc_f1.f90"
   ]
  },
  {
   "cell_type": "markdown",
   "id": "534cfd3a-929b-48b8-9f2a-4f7cff269d68",
   "metadata": {},
   "source": [
    "Alternatively, you can specify `-Minfo` by itself to get all available information about compile-time decisions. Some of the information includes:\n",
    "* accel - information about accelerator region targeting\n",
    "* loop - information about loop optimizations\n",
    "* par - information about loop parallelization\n",
    "* vect - information about automatic loop vectorization\n",
    "\n",
    "*Note that using `-Minfo` without any arguments will produce both CPU and GPU diagnostic information!*"
   ]
  },
  {
   "cell_type": "markdown",
   "id": "1aa3716d-5ee6-47b4-a273-fec395eb38cb",
   "metadata": {},
   "source": [
    "## Customizing target offload capabilities\n",
    "New GPU generations almost always provide new features and capabilities. The NVIDIA compilers allow you to generate code for one or more specific GPU *compute capabilities*. For example, GPUs at NCAR fall into three capabilities:\n",
    "* Quadro GP100 - cc60\n",
    "* Volta V100   - cc70\n",
    "* Ampere A100  - cc80\n",
    "\n",
    "If you include more compute capabilities when compiling, the compile time and size of your binary file will grow, but you will have an executable that better matches the optimizations of each target GPU. All GPU compute capabilites are provided at https://developer.nvidia.com/cuda-gpus"
   ]
  },
  {
   "cell_type": "code",
   "execution_count": null,
   "id": "d2792d18-179d-4ea5-9b8c-35b9ef10b4f1",
   "metadata": {},
   "outputs": [],
   "source": [
    "# Here, we can compile our binary for GP100 and V100 execution\n",
    "echo \"Compile time for cc60, cc70:\"\n",
    "time nvfortran -o cc_ncar -acc -gpu=cc60,cc70 acc_f1.f90"
   ]
  },
  {
   "cell_type": "code",
   "execution_count": null,
   "id": "a4507770-af81-4712-8eef-aebe76e8aeae",
   "metadata": {},
   "outputs": [],
   "source": [
    "# We can also compile for all available compute capabilities\n",
    "echo \"Compile time for ccall:\"\n",
    "time nvfortran -o cc_all -acc -gpu=ccall acc_f1.f90"
   ]
  },
  {
   "cell_type": "code",
   "execution_count": null,
   "id": "2fbbf1f8-d341-42ae-9d1a-118aad87b5b9",
   "metadata": {},
   "outputs": [],
   "source": [
    "# Let's compare the sizes of each\n",
    "echo -e \"File sizes:\\n\"\n",
    "ls -l -h cc_*"
   ]
  },
  {
   "cell_type": "markdown",
   "id": "709c0bbc-38c2-4e7e-a022-6a0746a264f2",
   "metadata": {},
   "source": [
    "*The default compute capability depends on whether you are compiling on a system with a detectable GPU:*\n",
    "* *If a GPU is found (e.g., Casper's GPU nodes), that GPU's compute capability will be used*\n",
    "* *If no GPU is found (e.g., Casper's login nodes), the binary will be compiled with `-gpu=ccall`*"
   ]
  },
  {
   "cell_type": "markdown",
   "id": "95efa3d3-0b84-4278-9e68-2de67e368b25",
   "metadata": {},
   "source": [
    "### More details about compiler options\n",
    "As with many Linux programs, one of the best ways to learn about all of the features and configuration options of each compiler is to examine its *man* (manual) page.\n",
    "```\n",
    "man nvfortran\n",
    "```\n",
    "For example, here is an excerpt from the man page entry describing the -acc flag to nvfortran:\n",
    "```\n",
    "Target-specific Options\n",
    "       -acc   Enable OpenACC pragmas and directives to explicitly\n",
    "              parallelize regions of code for execution by accelerator\n",
    "              devices.  See the -gpu flag to select options specific to\n",
    "              NVIDIA GPUs.  The options are:\n",
    "\n",
    "              autopar (default) noautopar\n",
    "                        Enable loop autoparallelization within parallel\n",
    "                        constructs.\n",
    "\n",
    "              gpu (default)\n",
    "                        Compile OpenACC directives for parallel execution\n",
    "                        on the GPU.\n",
    "\n",
    "              host      Compile OpenACC directives for serial execution\n",
    "                        on the host CPU.\n",
    "              ...\n",
    "```"
   ]
  },
  {
   "cell_type": "markdown",
   "id": "8257a634-8035-4172-8a99-df100f696517",
   "metadata": {
    "tags": []
   },
   "source": [
    "## Compiling an CUDA Fortran program\n",
    "Next, let's shift from building a code with OpenACC offloading to a Fortran program written with CUDA instructions. Again, we will forgo analysis of the code itself and simply focus on compilation tasks. This program utilizes accelerated CUDA FFT routines, which we must link to via arguments to the compiler.  \n",
    "\n",
    "The program consists of three *.cuf* source files. First, let's copy the source files from the NVIDIA HPC SDK examples directory to our own working space."
   ]
  },
  {
   "cell_type": "code",
   "execution_count": null,
   "id": "30e391f3-568c-44b2-8ad7-4fae48900e6e",
   "metadata": {},
   "outputs": [],
   "source": [
    "# Make a directory for the source files and copy from the examples\n",
    "mkdir -p ../cuf_fft\n",
    "cd ../cuf_fft\n",
    "cp $NVHPC/Linux_x86_64/22.2/examples/CUDA-Fortran/SDK/cufftTest/*.cuf .\n",
    "ls"
   ]
  },
  {
   "cell_type": "markdown",
   "id": "4439bd6b-54fa-4478-84ab-4e59edd94af1",
   "metadata": {},
   "source": [
    "### Using Makefiles\n",
    "These three files will need to be compiled and then linked into a binary. We could do this interactively on the command line. We could also write a shell script to contain these commands. However, the standard way to build many open source applications in a Linux environment is to use a *Makefile*.  \n",
    "\n",
    "A *Makefile* simply defines a set of targets (rules) which are then interpreted by the `make` program to execute commands.\n",
    "\n",
    "Before creating our compilation rules, it is helpful to define settings - in the form of variables - which can then be used by the rules to affect compiler and linker behavior. Keep in mind that while some syntax may appear similar, variable definitions (and other code structures) differ in Makefiles from that of your shell (e.g., bash/tcsh)."
   ]
  },
  {
   "cell_type": "code",
   "execution_count": null,
   "id": "4f7548dd-fe78-4cbe-b745-382ca0c230c0",
   "metadata": {},
   "outputs": [],
   "source": [
    "cat > Makefile << 'EOF'\n",
    "# Specify the Fortran compiler\n",
    "# The ?= syntax tells Make to only set if currently undefined\n",
    "FC ?= nvfortran\n",
    "\n",
    "# Define some compiler flags\n",
    "# -fast -> let the compiler choose ideal optimizations for the target platform\n",
    "# -Mpreprocess -> force the compiler to preprocess specified files instead of guessing from extension\n",
    "FCFLAGS = -fast -Mpreprocess\n",
    "\n",
    "# Tell the compiler to link to the cuFFT library\n",
    "CULIBS = -cudalib=cufft\n",
    "\n",
    "EOF"
   ]
  },
  {
   "cell_type": "markdown",
   "id": "c42f9de8-8ccb-4027-bb60-cff693c25606",
   "metadata": {},
   "source": [
    "Now we can define our make rules, and use variables and shortcuts to generalize them. These generalizations can prove very powerful in more complex Makefiles."
   ]
  },
  {
   "cell_type": "code",
   "execution_count": null,
   "id": "6168296e-4828-4914-a6bc-ef3a0e2cac71",
   "metadata": {},
   "outputs": [],
   "source": [
    "cat >> Makefile << 'EOF'\n",
    "# Define another variable that lists all source files\n",
    "SRCS = precision_m.cuf cufft_m.cuf cufftTest.cuf\n",
    "\n",
    "# String replacement on SRCS to get list of object files (e.g., cufftTest.o)\n",
    "OBJS := $(SRCS:.cuf=.o)\n",
    "\n",
    "# target: prerequisites\n",
    "build: $(OBJS)\n",
    "    $(FC) -o cuFFTTest $(OBJS) $(CULIBS)\n",
    "\n",
    "# Fancy rule to generalize (%) to any .o file\n",
    "# $< variable references the specific prerequisite file\n",
    "%.o: %.cuf\n",
    "    $(FC) $(FCFLAGS) -c $<\n",
    "\n",
    "clean:\n",
    "    rm -f $(OBJS) *.mod cuFFTTest\n",
    "EOF"
   ]
  },
  {
   "cell_type": "markdown",
   "id": "025c46f7-8bb8-4a7c-8ef5-04df87e4d7f8",
   "metadata": {},
   "source": [
    "*JupyterLab replaces tabs with spaces, but Make requires tab indentation (Make, like Python, is very picky about white-space). The following command replaces spaces at the beginning of lines with a tab. In normal editing, this step should not be necessary!*"
   ]
  },
  {
   "cell_type": "code",
   "execution_count": null,
   "id": "baaf3cd7-7f6c-4b17-a85f-a7dbff1b91de",
   "metadata": {},
   "outputs": [],
   "source": [
    "sed -i 's/^ \\+/\\t/g' Makefile"
   ]
  },
  {
   "cell_type": "code",
   "execution_count": null,
   "id": "cfd212d2-5fa2-4b42-8a56-7059f749bd52",
   "metadata": {},
   "outputs": [],
   "source": [
    "# Finally, let's run our Makefile. By not specifying a target, we implicitly choose the first rule (build)\n",
    "make"
   ]
  },
  {
   "cell_type": "code",
   "execution_count": null,
   "id": "b9a49c1f-b850-4feb-9f43-37aef640a5b8",
   "metadata": {},
   "outputs": [],
   "source": [
    "ls -l"
   ]
  },
  {
   "cell_type": "markdown",
   "id": "74b84f0e-3c35-4b7a-97ea-04bb594540a6",
   "metadata": {},
   "source": [
    "## Monitoring your GPU application\n",
    "Typical Linux utilities like `top` and `ps` will give you a CPU-centric view of what is running on the node. NVIDIA provides additional utilities to monitor GPU usage. One of the most basic, though powerful, tools is `nvidia-smi`.\n",
    "\n",
    "`nvidia-smi` has multiple modes of operation, detailed in depth in its *man* page. The following cells demonstrate the default output, the *device monitoring* mode, and the *process monitoring* mode."
   ]
  },
  {
   "cell_type": "code",
   "execution_count": null,
   "id": "b0b01a0c-c4df-4278-b302-564080ad03c9",
   "metadata": {},
   "outputs": [],
   "source": [
    "# By default, nvidia-smi will provide an overview of the GPU states and running processes\n",
    "nvidia-smi"
   ]
  },
  {
   "cell_type": "markdown",
   "id": "2dfdafed-917d-4026-8375-e2b3a1ff2e0c",
   "metadata": {},
   "source": [
    "Alternatively, we can use device monitoring to log a particular GPU's state over time:"
   ]
  },
  {
   "cell_type": "code",
   "execution_count": null,
   "id": "26102c69-9e54-4993-81d8-1a5691f6581d",
   "metadata": {},
   "outputs": [],
   "source": [
    "# Display a single \"dmon\" instance from GPU ID 0 with Time labels\n",
    "nvidia-smi dmon -c 1 -o T -i 0"
   ]
  },
  {
   "cell_type": "markdown",
   "id": "cd90ebea-1dfc-4f3f-b78a-e6c5ffd37a45",
   "metadata": {},
   "source": [
    "Similarly, a list of processes running on one or more GPUs can be monitored over time:"
   ]
  },
  {
   "cell_type": "code",
   "execution_count": null,
   "id": "4dc462ad-9621-4ad6-a5fd-870151a07a85",
   "metadata": {},
   "outputs": [],
   "source": [
    "nvidia-smi pmon -c 1 -o T -i 0"
   ]
  },
  {
   "cell_type": "markdown",
   "id": "3896361f-bc6b-4ac6-80f4-559ac55543a9",
   "metadata": {},
   "source": [
    "Finally, we can correlate GPU information to CPU tasks via the process ID (pid):"
   ]
  },
  {
   "cell_type": "code",
   "execution_count": null,
   "id": "3eec0344-9c99-440d-b7ca-89e8d493bb1f",
   "metadata": {},
   "outputs": [],
   "source": [
    "# Get the process ID of the first listed GPU process and store in a bash variable\n",
    "GPUPID=$(nvidia-smi pmon -c 1 | awk 'FNR==3 {print $2}')\n",
    "\n",
    "# Next, look up the process using the standard Linux utility \"ps\"\n",
    "ps -o pid,uid,user,cmd,%mem,%cpu -p $GPUPID"
   ]
  },
  {
   "cell_type": "markdown",
   "id": "6c142f1f-bde8-4787-86e3-ae57b48d5247",
   "metadata": {},
   "source": [
    "You can perform live interrogation of running GPU code using `nvidia-smi` even in a batch job. First, identify the node(s) on which the job is running, and then `ssh` to that compute node from a Casper login node. Note that you may only `ssh` to a compute node if you have a job currently running on that node.\n",
    "```\n",
    "casper-login1$ qstat -n <jobid>\n",
    "casper-login1$ ssh <compute-node>\n",
    "compute-node$ nvidia-smi\n",
    "```\n",
    "**You should now be able to compile basic OpenACC, OpenMP GPU, and CUDA Fortran codes both on the command line and using a Makefile, and get basic diagnostic information for running GPU-enabled programs. In the next couple of workshop sessions, we will begin the coding portion of the series with an overview of using OpenACC.**"
   ]
  }
 ],
 "metadata": {
  "kernelspec": {
   "display_name": "Bash",
   "language": "bash",
   "name": "bash"
  },
  "language_info": {
   "codemirror_mode": "shell",
   "file_extension": ".sh",
   "mimetype": "text/x-sh",
   "name": "bash"
  }
 },
 "nbformat": 4,
 "nbformat_minor": 5
}
