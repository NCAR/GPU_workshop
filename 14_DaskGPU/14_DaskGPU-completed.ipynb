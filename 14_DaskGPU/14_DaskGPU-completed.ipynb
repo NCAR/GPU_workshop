{
 "cells": [
  {
   "cell_type": "markdown",
   "id": "e6597bb3-15b6-4639-82ed-841386591567",
   "metadata": {},
   "source": [
    "![NCAR UCAR Logo](../NCAR_CISL_NSF_banner.jpeg)\n",
    "# Using Dask with GPUs via CuPy and introducing cuDF\n",
    "**NCAR GPU Workshop  \n",
    "August 11th 2022**\n",
    "\n",
    "**Presenter:**  \n",
    "Brian Vanderwende  \n",
    "[vanderwb@ucar.edu](mailto:vanderwb@ucar.edu)  \n",
    "Consulting Services Group"
   ]
  },
  {
   "cell_type": "markdown",
   "id": "b77cb026-61af-4635-b40d-3ed940d9c4c9",
   "metadata": {},
   "source": [
    "## Obtaining this notebook\n",
    "Follow these steps to create a clone of this repo. If you have already done so in a prior session, simply run a pull operation to obtain the materials for this week.\n",
    "\n",
    "| JupyterLab | Terminal |\n",
    "|-|-|\n",
    "| Use the JupyterHub GitHub GUI on the left</br>panel or the below shell commands | `git clone git@github.com:NCAR/GPU_workshop.git`</br>`git pull` |\n",
    "\n",
    "Once cloned or updated, navigate to `GPU_workshop/13_DaskGPU` in the repo and open this notebook.\n",
    "\n",
    "*For this session, we do not have the resources allocated for attendees to follow along during the live presentation, as we will demonstrate scaling and memory effects and thus need to use V100s. Instructions are provided at the end of this notebook for running it independently after the presentation.*"
   ]
  },
  {
   "cell_type": "markdown",
   "id": "300697eb-0d7a-4e09-80fd-869a2d502971",
   "metadata": {},
   "source": [
    "## Workshop Etiquette\n",
    "* Please mute yourself and turn off video during the session.\n",
    "* Questions may be submitted in the chat and will be answered when appropriate. You may also raise your hand, unmute, and ask questions during Q&A at the end of the presentation.\n",
    "* By participating, you are agreeing to [UCAR’s Code of Conduct](https://www.ucar.edu/who-we-are/ethics-integrity/codes-conduct/participants)\n",
    "* Recordings & other material will be archived & shared publicly.\n",
    "* Feel free to follow up with the GPU workshop team via Slack or submit support requests to [support.ucar.edu](https://support.ucar.edu)\n",
    "    * Office Hours: Asynchronous support via [Slack](https://ncargpuusers.slack.com) or schedule a time with an organizer\n",
    "\n",
    "---"
   ]
  },
  {
   "cell_type": "markdown",
   "id": "d519440c-5da3-4d0a-a930-f56aa6a04d89",
   "metadata": {
    "tags": []
   },
   "source": [
    "## Recall from last session...\n",
    "\n",
    "We explored the **CuPy** package, which provides a GPU drop-in replacement for *most* **Numpy** functionality ([comparison table](https://docs.cupy.dev/en/stable/reference/comparison.html)).\n",
    "\n",
    "### **CuPy**: creating arrays of data"
   ]
  },
  {
   "cell_type": "code",
   "execution_count": 1,
   "id": "37561ab0-c0c0-4ec1-b06c-245daea3047d",
   "metadata": {},
   "outputs": [],
   "source": [
    "import numpy as np\n",
    "import cupy as cp"
   ]
  },
  {
   "cell_type": "markdown",
   "id": "73c1a336-bdc6-40e9-af47-fa1177a9438b",
   "metadata": {},
   "source": [
    "Creating a random Gaussian array on the CPU with Numpy ..."
   ]
  },
  {
   "cell_type": "code",
   "execution_count": 2,
   "id": "60bb7e8b-d094-405d-965d-173b132ea6c1",
   "metadata": {},
   "outputs": [
    {
     "name": "stdout",
     "output_type": "stream",
     "text": [
      "Mem used: 762.94 MiB\n"
     ]
    }
   ],
   "source": [
    "cpu_arr = np.random.randn(10_000, 10_000)\n",
    "print(f'Mem used: {cpu_arr.nbytes / 1024**2:.2f} MiB')"
   ]
  },
  {
   "cell_type": "markdown",
   "id": "8fd7b37b-e910-4e33-9baa-5f64f3ad6c11",
   "metadata": {},
   "source": [
    "And creating the same array on the GPU ..."
   ]
  },
  {
   "cell_type": "code",
   "execution_count": 3,
   "id": "c413692a-9734-4a36-9019-35a429bb8a63",
   "metadata": {},
   "outputs": [
    {
     "name": "stdout",
     "output_type": "stream",
     "text": [
      "Mem used: 762.94 MiB\n"
     ]
    }
   ],
   "source": [
    "gpu_arr = cp.random.randn(10_000, 10_000)\n",
    "print(f'Mem used: {gpu_arr.nbytes / 1024**2:.2f} MiB')"
   ]
  },
  {
   "cell_type": "markdown",
   "id": "eafaa657-8746-4ebc-85ac-8f9c8cbd897b",
   "metadata": {},
   "source": [
    "#### Comparing the speed of `.mean()`"
   ]
  },
  {
   "cell_type": "code",
   "execution_count": 4,
   "id": "b51cad4d-2095-406f-b7cd-594851f7e393",
   "metadata": {},
   "outputs": [
    {
     "name": "stdout",
     "output_type": "stream",
     "text": [
      "CPU times: user 65.6 ms, sys: 1.2 ms, total: 66.8 ms\n",
      "Wall time: 65.8 ms\n"
     ]
    },
    {
     "data": {
      "text/plain": [
       "0.00010802916697213106"
      ]
     },
     "execution_count": 4,
     "metadata": {},
     "output_type": "execute_result"
    }
   ],
   "source": [
    "%%time\n",
    "cpu_arr.mean()"
   ]
  },
  {
   "cell_type": "code",
   "execution_count": 6,
   "id": "a221ca21-2934-4926-a90a-2c02c42d9ec2",
   "metadata": {},
   "outputs": [
    {
     "name": "stdout",
     "output_type": "stream",
     "text": [
      "CPU times: user 411 µs, sys: 146 µs, total: 557 µs\n",
      "Wall time: 451 µs\n"
     ]
    },
    {
     "data": {
      "text/plain": [
       "array(-2.11241951e-05)"
      ]
     },
     "execution_count": 6,
     "metadata": {},
     "output_type": "execute_result"
    }
   ],
   "source": [
    "%%time\n",
    "gpu_arr.mean()"
   ]
  },
  {
   "cell_type": "markdown",
   "id": "a78917b8-e146-4b96-8c94-15b324f1c5ae",
   "metadata": {},
   "source": [
    "#### Checking GPU results for correctness"
   ]
  },
  {
   "cell_type": "code",
   "execution_count": 7,
   "id": "99f19a2e-5a47-43f2-972a-07dbd822236a",
   "metadata": {},
   "outputs": [
    {
     "name": "stdout",
     "output_type": "stream",
     "text": [
      "CPU times: user 154 ms, sys: 398 ms, total: 552 ms\n",
      "Wall time: 551 ms\n"
     ]
    }
   ],
   "source": [
    "%%time\n",
    "gpu_copy = cp.array(cpu_arr)"
   ]
  },
  {
   "cell_type": "code",
   "execution_count": 8,
   "id": "29b9c0ae-910c-490c-9ab8-a5b875a4e7e7",
   "metadata": {},
   "outputs": [
    {
     "name": "stdout",
     "output_type": "stream",
     "text": [
      "CPU times: user 340 µs, sys: 181 µs, total: 521 µs\n",
      "Wall time: 390 µs\n"
     ]
    },
    {
     "data": {
      "text/plain": [
       "array(0.00010803)"
      ]
     },
     "execution_count": 8,
     "metadata": {},
     "output_type": "execute_result"
    }
   ],
   "source": [
    "%%time\n",
    "gpu_copy.mean()"
   ]
  },
  {
   "cell_type": "markdown",
   "id": "5dec6c5f-0914-4add-bdcb-9a220106fe52",
   "metadata": {},
   "source": [
    "#### Analyzing CuPy's memory pool\n",
    "\n",
    "Once GPU memory is allocated to an object, CuPy will expand it's *memory pool* by at least that amount. When an object is deallocated, the memory pool will hold on to that space in memory for faster subsequent operations."
   ]
  },
  {
   "cell_type": "code",
   "execution_count": 9,
   "id": "75ac79a8-60f6-41dd-96ee-ba09891ac5d2",
   "metadata": {},
   "outputs": [],
   "source": [
    "mempool = cp.get_default_memory_pool()"
   ]
  },
  {
   "cell_type": "code",
   "execution_count": 10,
   "id": "580ac30b-c4d8-458d-8b38-85711e851571",
   "metadata": {},
   "outputs": [],
   "source": [
    "def cupy_mem_stats():\n",
    "    print(f'GPU: used memory = {mempool.used_bytes() / 1024**2:.2f} MiB')\n",
    "    print(f'GPU: total pool  = {mempool.total_bytes() / 1024**2:.2f} MiB')"
   ]
  },
  {
   "cell_type": "code",
   "execution_count": 11,
   "id": "0dd07a83-3bba-4f2d-aea3-dc8a6856bdb3",
   "metadata": {},
   "outputs": [
    {
     "name": "stdout",
     "output_type": "stream",
     "text": [
      "GPU: used memory = 1525.88 MiB\n",
      "GPU: total pool  = 1525.88 MiB\n"
     ]
    }
   ],
   "source": [
    "cupy_mem_stats()"
   ]
  },
  {
   "cell_type": "markdown",
   "id": "4352fca7-72ac-4724-8d86-4f7923bac772",
   "metadata": {},
   "source": [
    "Let's release our data for garbage collection. This will free up space in CuPy's memory pool on the GPU."
   ]
  },
  {
   "cell_type": "code",
   "execution_count": 12,
   "id": "b5585921-d3fc-4627-8082-18861be3881f",
   "metadata": {},
   "outputs": [],
   "source": [
    "del cpu_arr, gpu_arr, gpu_copy"
   ]
  },
  {
   "cell_type": "code",
   "execution_count": 13,
   "id": "449b2f11-983a-474f-a4bc-fcb7b6eb5a74",
   "metadata": {},
   "outputs": [
    {
     "name": "stdout",
     "output_type": "stream",
     "text": [
      "GPU: used memory = 0.00 MiB\n",
      "GPU: total pool  = 1525.88 MiB\n"
     ]
    }
   ],
   "source": [
    "cupy_mem_stats()"
   ]
  },
  {
   "cell_type": "markdown",
   "id": "7b087252-0fe0-49c9-a286-09bf30afef64",
   "metadata": {},
   "source": [
    "We can also explicitly release all GPU memory from CuPy's pool. This step can be useful if utilizing other GPU libraries in your workflow."
   ]
  },
  {
   "cell_type": "code",
   "execution_count": 14,
   "id": "56898727-8da5-4283-9bf2-6e3446812215",
   "metadata": {},
   "outputs": [],
   "source": [
    "mempool.free_all_blocks()"
   ]
  },
  {
   "cell_type": "code",
   "execution_count": 15,
   "id": "b5e14be9-08e4-4c88-831b-beb523626abd",
   "metadata": {},
   "outputs": [
    {
     "name": "stdout",
     "output_type": "stream",
     "text": [
      "GPU: used memory = 0.00 MiB\n",
      "GPU: total pool  = 0.00 MiB\n"
     ]
    }
   ],
   "source": [
    "cupy_mem_stats()"
   ]
  },
  {
   "cell_type": "markdown",
   "id": "6f549db0-c793-4e73-a806-d774687b7bda",
   "metadata": {},
   "source": [
    "#### Let's track performance and memory usage for something bigger ...\n",
    "\n",
    "Rather than load a big data file, we will use the following function to produce a facimile temperature dataset. Feel free to play with the array size but be aware of the memory footprint!"
   ]
  },
  {
   "cell_type": "code",
   "execution_count": 16,
   "id": "774e9246-15f6-4a63-8819-597287129007",
   "metadata": {},
   "outputs": [],
   "source": [
    "def aqua_gen(nx, ny, nt):\n",
    "    \"\"\"Takes dimensions nx, ny, nt and returns an ndarray with facimile dataset.\"\"\"\n",
    "    \n",
    "    t = np.random.random((nx, ny, nt))\n",
    "    t = t + np.linspace(287, 289, nt)\n",
    "    t = t + np.sin(np.linspace(0.0, np.pi * nt, nt))\n",
    "    t = t + (np.sin(np.linspace(0.0, np.pi, ny)) * 20 - 10)[None,:,None]\n",
    "    \n",
    "    return t"
   ]
  },
  {
   "cell_type": "markdown",
   "id": "0bb35767-ec20-42b4-a825-aa4d8a000b7e",
   "metadata": {},
   "source": [
    "First, we will use the function to create a NumPy array of decent size"
   ]
  },
  {
   "cell_type": "code",
   "execution_count": 17,
   "id": "db53a903-1088-4658-a5d4-fb27639ab02e",
   "metadata": {},
   "outputs": [
    {
     "name": "stdout",
     "output_type": "stream",
     "text": [
      "Size: 8.34 GiB\n"
     ]
    }
   ],
   "source": [
    "t = aqua_gen(4000, 2000, 140)\n",
    "print(f'Size: {t.nbytes / 1024**3:.2f} GiB')"
   ]
  },
  {
   "cell_type": "markdown",
   "id": "8a02945f-0bab-450d-ac7a-16ddf2d9cb72",
   "metadata": {},
   "source": [
    "We've produced a dataset that looks something like surface temperatures across an aquaplanet. (*at least one without weather!*)"
   ]
  },
  {
   "cell_type": "code",
   "execution_count": 18,
   "id": "5c257cfe-f3ce-4f19-b024-a02217b44142",
   "metadata": {},
   "outputs": [
    {
     "data": {
      "text/plain": [
       "<matplotlib.contour.QuadContourSet at 0x2afc3a4d76d0>"
      ]
     },
     "execution_count": 18,
     "metadata": {},
     "output_type": "execute_result"
    },
    {
     "data": {
      "image/png": "[encoded data removed]",
      "text/plain": [
       "<Figure size 432x288 with 1 Axes>"
      ]
     },
     "metadata": {
      "needs_background": "light"
     },
     "output_type": "display_data"
    }
   ],
   "source": [
    "import matplotlib.pyplot as plt\n",
    "plt.contourf(t[:,:,0].transpose())"
   ]
  },
  {
   "cell_type": "markdown",
   "id": "5e758c59-85a4-4213-81ad-4860dfd06d61",
   "metadata": {},
   "source": [
    "Now we can copy it to the GPU and track what happens with the memory usage and pool"
   ]
  },
  {
   "cell_type": "code",
   "execution_count": 19,
   "id": "55ecece0-a0d8-4ae3-b5c7-d09dc951d456",
   "metadata": {},
   "outputs": [
    {
     "name": "stdout",
     "output_type": "stream",
     "text": [
      "GPU: used memory = 0.00 MiB\n",
      "GPU: total pool  = 0.00 MiB\n",
      "GPU: used memory = 8544.92 MiB\n",
      "GPU: total pool  = 8544.92 MiB\n"
     ]
    }
   ],
   "source": [
    "cupy_mem_stats()\n",
    "tg = cp.asarray(t)\n",
    "cupy_mem_stats()"
   ]
  },
  {
   "cell_type": "markdown",
   "id": "3080b7cb-1a92-4590-b516-2e4f51cf0001",
   "metadata": {},
   "source": [
    "Finally, let's compare the performance of an operation to convert to Celsius and take the time-mean at each grid point"
   ]
  },
  {
   "cell_type": "code",
   "execution_count": 20,
   "id": "a6e8b663-b3cf-4a96-88ae-52639c07d491",
   "metadata": {},
   "outputs": [
    {
     "name": "stdout",
     "output_type": "stream",
     "text": [
      "CPU times: user 1.78 s, sys: 1.74 s, total: 3.51 s\n",
      "Wall time: 3.51 s\n"
     ]
    }
   ],
   "source": [
    "%time cpu_tm = np.mean((t - 273.15), axis = 2)"
   ]
  },
  {
   "cell_type": "code",
   "execution_count": 22,
   "id": "f8ae09f1-b474-4a2d-a97e-b7822f8af06b",
   "metadata": {},
   "outputs": [
    {
     "name": "stdout",
     "output_type": "stream",
     "text": [
      "CPU times: user 1.06 ms, sys: 52 µs, total: 1.11 ms\n",
      "Wall time: 710 µs\n",
      "GPU: used memory = 8605.96 MiB\n",
      "GPU: total pool  = 17211.92 MiB\n"
     ]
    }
   ],
   "source": [
    "%time gpu_tm = cp.mean((tg - 273.15), axis = 2)\n",
    "cupy_mem_stats()"
   ]
  },
  {
   "cell_type": "code",
   "execution_count": 23,
   "id": "37a4043b-13de-4e2f-9869-2680207868a1",
   "metadata": {},
   "outputs": [
    {
     "name": "stdout",
     "output_type": "stream",
     "text": [
      "GPU: used memory = 0.00 MiB\n",
      "GPU: total pool  = 0.00 MiB\n"
     ]
    }
   ],
   "source": [
    "del cpu_tm, gpu_tm, tg\n",
    "mempool.free_all_blocks()\n",
    "cupy_mem_stats()"
   ]
  },
  {
   "cell_type": "markdown",
   "id": "82eb2a0a-1752-4887-a158-385d8c87a3ce",
   "metadata": {},
   "source": [
    "**GPU memory is smaller than node memory - if we need to process very large arrays of data, we will need a tool to parallelize across multiple GPUs ...**"
   ]
  },
  {
   "cell_type": "markdown",
   "id": "4a1a1aed-3090-46d6-946a-e4ce5a4aaece",
   "metadata": {},
   "source": [
    "---"
   ]
  },
  {
   "cell_type": "markdown",
   "id": "ef2fa115-4a27-4788-9935-c3d9b1f55e35",
   "metadata": {},
   "source": [
    "## Using Dask with GPUs\n",
    "\n",
    "Dask is a popular Python library for parallelizing computations across multiple workers. It provides incredibly easily scaling of code from problem sizes that fit on a dual-core laptop to those that can span an entire analysis cluster like Casper.\n",
    "\n",
    "* Dask is easy to install\n",
    "* Dask leverages high-level collections like NumPy arrays and pandas DataFrames\n",
    "* Dask can schedule workers itself or submit jobs to batch schedulers like PBS and Slurm\n",
    "* Dask workers can use GPUs\n",
    "\n",
    "**Dask allows you to scale up from problem sizes that fit in node *or GPU* memory to ones that fit on disk.**"
   ]
  },
  {
   "cell_type": "markdown",
   "id": "2f59c010-5446-40c3-af50-e139c7ea38c9",
   "metadata": {},
   "source": [
    "### Dask fundamentals and how the GPU is supported\n",
    "\n",
    "Dask operates on either a high-level collection of data like an array, Series, or DataFrame, or a low-level collection of arbitrary code marked for either `delayed` or asynchronous (`futures`) parallel execution. In this tutorial, we will focus on high-level data structures.\n",
    "\n",
    "| Dask collection | CPU object | GPU object | GPUs |\n",
    "|-|-|-|-|\n",
    "| dask.array | numpy.array | cupy.array | NVIDIA, AMD |\n",
    "| dask.series | pandas.series | cudf.series | NVIDIA |\n",
    "| dask.dataframe | pandas.dataframe | cudf.dataframe | NVIDIA |\n",
    "\n",
    "Most Dask operations use *lazy evaluation*, meaning you tell Dask what you want the workers to do, but then they wait until you start the computation using `.compute()` (or similar methods). These instructions are collectively called a *task graph*, and then map out what Dask will do to get from your data collection to your desired output. Notably, worker memory is not consumed until you begin executing the task graph.  \n",
    "</br>\n",
    "<div style=\"text-align:center;\"><img src=images/dask-overview.svg width=800px alt=\"Dask Flow\"></img></br><i>Image credit: Anaconda, Inc. and contributors</i></div>  \n",
    "</br>  \n",
    "\n",
    "**Fundamentally, nothing about this workflow is different when using GPUs.**"
   ]
  },
  {
   "cell_type": "markdown",
   "id": "e3a810e4-3e3a-4817-8d86-c4a18942377c",
   "metadata": {
    "jp-MarkdownHeadingCollapsed": true,
    "tags": []
   },
   "source": [
    "#### When might you use Dask with GPUs?\n",
    "\n",
    "While Dask is easy to use, even the simplest of parallel computing approaches can be tricky to get right. Here are some scenarios where scaling GPU resources with Dask can be powerful:\n",
    "\n",
    "1. You are lucky enough to have many GPU resources with low contention and can be bursty\n",
    "2. Your workflow benefits tremendously from GPU acceleration, but is too big for a single GPU\n",
    "3. A small segment of your analysis workflow can benefit from on-demand access of GPUs\n",
    "4. You are running a large application with MPI and wish to do between-cycle data work"
   ]
  },
  {
   "cell_type": "markdown",
   "id": "59906c1d-9d2e-4112-85f1-10d7d9ab9190",
   "metadata": {},
   "source": [
    "#### Notable Dask packages\n",
    "\n",
    "Dask functions are broken into a diverse ecosystem of packages. Here is a list of notables for GPU usage:\n",
    "\n",
    "* **dask** - the core API, including collections and a basic task scheduler\n",
    "* **distributed** - cluster objects (groups of workers) that can span a network and detailed dashboards\n",
    "* **dask-jobqueue** - Dask HPC clusters (e.g., `PBSCluster`, `SLURMCluster`)\n",
    "* **dask-cuda** - tools to set up GPU-backed workers (especially on single nodes)\n",
    "* **dask-mpi** - construct clusters of workers using MPI processes (*can be used with dask-cuda*)"
   ]
  },
  {
   "cell_type": "markdown",
   "id": "69ed2699-e18f-494c-ab0a-7e17980e622f",
   "metadata": {},
   "source": [
    "### Using NVIDIA's LocalCUDACluster\n",
    "\n",
    "The `LocalCUDACluster` cluster object comes from the **dask-cuda** package. It isn't required to use **CuPy** and **cuDF** collections with Dask, but it eases pinning local GPUs to specific workers and provides functionality for GPU memory spilling and high-speed worker communication via UCX. It is developed as part of RAPIDS.  \n",
    "\n",
    "*UCX requires [compilation and customization](https://docs.rapids.ai/api/dask-cuda/stable/ucx.html) so we will avoid here for the sake of simplicity.*\n",
    "\n",
    "#### First, we need to start our cluster...\n",
    "\n",
    "The **dask-cuda** [API document](https://docs.rapids.ai/api/dask-cuda/stable/api.html#cluster) is useful here for cluster settings."
   ]
  },
  {
   "cell_type": "code",
   "execution_count": 24,
   "id": "92b7944c-8ea6-4a31-846b-817b31eee5f5",
   "metadata": {},
   "outputs": [],
   "source": [
    "import dask.array as da\n",
    "from dask.distributed import Client\n",
    "from dask_cuda import LocalCUDACluster"
   ]
  },
  {
   "cell_type": "markdown",
   "id": "9785645f-4e95-4dde-bf7e-927e39ccae1e",
   "metadata": {},
   "source": [
    "By default, it would spawn `len(CUDA_VISIBLE_DEVICES)` workers.  \n",
    "\n",
    "We will also associate our cluster object with a `Client`. The client is our runtime interface to the cluster and Dask scheduler."
   ]
  },
  {
   "cell_type": "code",
   "execution_count": 25,
   "id": "ae084c2b-b53e-4b77-a05e-623677d42577",
   "metadata": {},
   "outputs": [
    {
     "name": "stderr",
     "output_type": "stream",
     "text": [
      "2022-08-11 10:29:39,195 - distributed.preloading - INFO - Import preload module: dask_cuda.initialize\n",
      "2022-08-11 10:29:39,232 - distributed.preloading - INFO - Import preload module: dask_cuda.initialize\n",
      "Unable to start CUDA Context\n",
      "Traceback (most recent call last):\n",
      "  File \"/glade/u/apps/opt/conda/envs/pygpu-dask/lib/python3.9/site-packages/dask_cuda/initialize.py\", line 31, in _create_cuda_context\n",
      "    distributed.comm.ucx.init_once()\n",
      "  File \"/glade/u/apps/opt/conda/envs/pygpu-dask/lib/python3.9/site-packages/distributed/comm/ucx.py\", line 104, in init_once\n",
      "    cuda_visible_device = int(\n",
      "ValueError: invalid literal for int() with base 10: 'GPU-30104623-af2a-4c39-2a28-07ff7b90b70e'\n",
      "Unable to start CUDA Context\n",
      "Traceback (most recent call last):\n",
      "  File \"/glade/u/apps/opt/conda/envs/pygpu-dask/lib/python3.9/site-packages/dask_cuda/initialize.py\", line 31, in _create_cuda_context\n",
      "    distributed.comm.ucx.init_once()\n",
      "  File \"/glade/u/apps/opt/conda/envs/pygpu-dask/lib/python3.9/site-packages/distributed/comm/ucx.py\", line 104, in init_once\n",
      "    cuda_visible_device = int(\n",
      "ValueError: invalid literal for int() with base 10: 'GPU-ff46f738-51a2-cfd7-2163-45524f96ac82'\n"
     ]
    }
   ],
   "source": [
    "cluster = LocalCUDACluster()\n",
    "client = Client(cluster, timeout = '60s')"
   ]
  },
  {
   "cell_type": "markdown",
   "id": "f4c0e897-5e37-4ecd-b14b-8d30a494ba78",
   "metadata": {},
   "source": [
    "*Did it work?*\n",
    "\n",
    "If you are using multiple GPUs, the `CUDA_VISIBLE_DEVICES` environment variable needs to be set to integer device IDs, not string GPU UUIDs as PBS specifies.\n",
    "\n",
    "First, let's shut down our prior attempt to free the port for a new cluster and client."
   ]
  },
  {
   "cell_type": "code",
   "execution_count": 26,
   "id": "c5b2d111-433f-40d9-bbc6-b03434629ba7",
   "metadata": {},
   "outputs": [],
   "source": [
    "client.shutdown()"
   ]
  },
  {
   "cell_type": "markdown",
   "id": "9398f23b-7111-4338-a143-a75e92a37457",
   "metadata": {
    "tags": []
   },
   "source": [
    "#### Querying GPU information with **pynvml**\n",
    "\n",
    "The **pynvml** provides Python bindings to the NVIDIA Management Library (NVML), which allows users to query and (often with root) modify GPU characteristics and behavior. We can import and use it to get information about our GPUs from within Python."
   ]
  },
  {
   "cell_type": "code",
   "execution_count": 27,
   "id": "3e340ec3-1da8-4dcd-9150-d0d188b5935f",
   "metadata": {},
   "outputs": [],
   "source": [
    "from pynvml import *\n",
    "nvmlInit()"
   ]
  },
  {
   "cell_type": "code",
   "execution_count": 28,
   "id": "a1967cc8-e679-480f-80ab-c8bb98a7d350",
   "metadata": {},
   "outputs": [
    {
     "name": "stdout",
     "output_type": "stream",
     "text": [
      "Device 0 UUID: GPU-30104623-af2a-4c39-2a28-07ff7b90b70e; Compute mode: Default\n",
      "Device 1 UUID: GPU-ff46f738-51a2-cfd7-2163-45524f96ac82; Compute mode: Default\n"
     ]
    }
   ],
   "source": [
    "cmode_names = ['Default', 'Exclusive Thread', 'Prohibited', 'Exclusive Process']\n",
    "\n",
    "for i in range(nvmlDeviceGetCount()):\n",
    "    handle = nvmlDeviceGetHandleByIndex(i)\n",
    "    uuid = nvmlDeviceGetUUID(handle).decode(\"utf-8\")\n",
    "    cmode = nvmlDeviceGetComputeMode(handle)\n",
    "    print(f'Device {i} UUID: {uuid}; Compute mode: {cmode_names[cmode]}')"
   ]
  },
  {
   "cell_type": "markdown",
   "id": "a4ca798b-ca93-4a29-a808-2c209f333160",
   "metadata": {},
   "source": [
    "**Heads up:** You are likely to run into issues in Python if you use a GPU that is not using the Default compute mode. Exclusive process mode, for example, will prevent you from using **CuPy** and a **CUDAWorker** in the same Python process!\n",
    "```\n",
    "Device 0 UUID: GPU-c0bdd08e-994c-f92d-6ad7-7b629156e76d; Compute mode: Exclusive Process\n",
    "Device 1 UUID: GPU-e8571304-3a7b-443e-d688-933be18cfbeb; Compute mode: Default\n",
    "```\n",
    "If you see something like the above, make sure to change (or more likely have your sys admin change) the compute mode to default either in Python or using `nvidia-smi`:\n",
    "```bash\n",
    "sudo nvidia-smi -c 0 -i UUID\n",
    "```\n",
    "#### Let's put CUDA_VISIBLE_DEVICES in a form (device IDs) that `LocalCUDACluster` will accept"
   ]
  },
  {
   "cell_type": "code",
   "execution_count": 29,
   "id": "7f7ceffb-9a31-490e-9313-b0e462d93522",
   "metadata": {},
   "outputs": [],
   "source": [
    "import os\n",
    "os.environ['CUDA_VISIBLE_DEVICES'] = '0,1'"
   ]
  },
  {
   "cell_type": "code",
   "execution_count": 30,
   "id": "bd528332-b7dd-461e-ada4-db76c6e4d5e1",
   "metadata": {},
   "outputs": [
    {
     "name": "stderr",
     "output_type": "stream",
     "text": [
      "2022-08-11 10:34:21,358 - distributed.preloading - INFO - Import preload module: dask_cuda.initialize\n",
      "2022-08-11 10:34:21,447 - distributed.preloading - INFO - Import preload module: dask_cuda.initialize\n"
     ]
    }
   ],
   "source": [
    "cluster = LocalCUDACluster()\n",
    "client = Client(cluster, timeout = '60s')"
   ]
  },
  {
   "cell_type": "code",
   "execution_count": 31,
   "id": "e4c4215b-8cb2-4bd3-b37a-7d86384cec29",
   "metadata": {},
   "outputs": [
    {
     "data": {
      "text/html": [
       "<div>\n",
       "    <div style=\"width: 24px; height: 24px; background-color: #e1e1e1; border: 3px solid #9D9D9D; border-radius: 5px; position: absolute;\"> </div>\n",
       "    <div style=\"margin-left: 48px;\">\n",
       "        <h3 style=\"margin-bottom: 0px;\">Client</h3>\n",
       "        <p style=\"color: #9D9D9D; margin-bottom: 0px;\">Client-747404b0-1993-11ed-a439-3cecef0c464c</p>\n",
       "        <table style=\"width: 100%; text-align: left;\">\n",
       "\n",
       "        <tr>\n",
       "        \n",
       "            <td style=\"text-align: left;\"><strong>Connection method:</strong> Cluster object</td>\n",
       "            <td style=\"text-align: left;\"><strong>Cluster type:</strong> dask_cuda.LocalCUDACluster</td>\n",
       "        \n",
       "        </tr>\n",
       "\n",
       "        \n",
       "            <tr>\n",
       "                <td style=\"text-align: left;\">\n",
       "                    <strong>Dashboard: </strong> <a href=\"https://jupyterhub.hpc.ucar.edu/stable/user/vanderwb/proxy/8787/status\" target=\"_blank\">https://jupyterhub.hpc.ucar.edu/stable/user/vanderwb/proxy/8787/status</a>\n",
       "                </td>\n",
       "                <td style=\"text-align: left;\"></td>\n",
       "            </tr>\n",
       "        \n",
       "\n",
       "        </table>\n",
       "\n",
       "        \n",
       "            <details>\n",
       "            <summary style=\"margin-bottom: 20px;\"><h3 style=\"display: inline;\">Cluster Info</h3></summary>\n",
       "            <div class=\"jp-RenderedHTMLCommon jp-RenderedHTML jp-mod-trusted jp-OutputArea-output\">\n",
       "    <div style=\"width: 24px; height: 24px; background-color: #e1e1e1; border: 3px solid #9D9D9D; border-radius: 5px; position: absolute;\">\n",
       "    </div>\n",
       "    <div style=\"margin-left: 48px;\">\n",
       "        <h3 style=\"margin-bottom: 0px; margin-top: 0px;\">LocalCUDACluster</h3>\n",
       "        <p style=\"color: #9D9D9D; margin-bottom: 0px;\">b5b22f43</p>\n",
       "        <table style=\"width: 100%; text-align: left;\">\n",
       "            <tr>\n",
       "                <td style=\"text-align: left;\">\n",
       "                    <strong>Dashboard:</strong> <a href=\"https://jupyterhub.hpc.ucar.edu/stable/user/vanderwb/proxy/8787/status\" target=\"_blank\">https://jupyterhub.hpc.ucar.edu/stable/user/vanderwb/proxy/8787/status</a>\n",
       "                </td>\n",
       "                <td style=\"text-align: left;\">\n",
       "                    <strong>Workers:</strong> 2\n",
       "                </td>\n",
       "            </tr>\n",
       "            <tr>\n",
       "                <td style=\"text-align: left;\">\n",
       "                    <strong>Total threads:</strong> 2\n",
       "                </td>\n",
       "                <td style=\"text-align: left;\">\n",
       "                    <strong>Total memory:</strong> 100.00 GiB\n",
       "                </td>\n",
       "            </tr>\n",
       "            \n",
       "            <tr>\n",
       "    <td style=\"text-align: left;\"><strong>Status:</strong> running</td>\n",
       "    <td style=\"text-align: left;\"><strong>Using processes:</strong> True</td>\n",
       "</tr>\n",
       "\n",
       "            \n",
       "        </table>\n",
       "\n",
       "        <details>\n",
       "            <summary style=\"margin-bottom: 20px;\">\n",
       "                <h3 style=\"display: inline;\">Scheduler Info</h3>\n",
       "            </summary>\n",
       "\n",
       "            <div style=\"\">\n",
       "    <div>\n",
       "        <div style=\"width: 24px; height: 24px; background-color: #FFF7E5; border: 3px solid #FF6132; border-radius: 5px; position: absolute;\"> </div>\n",
       "        <div style=\"margin-left: 48px;\">\n",
       "            <h3 style=\"margin-bottom: 0px;\">Scheduler</h3>\n",
       "            <p style=\"color: #9D9D9D; margin-bottom: 0px;\">Scheduler-bf2fff52-8de8-422e-a9f4-b0371f3bc49b</p>\n",
       "            <table style=\"width: 100%; text-align: left;\">\n",
       "                <tr>\n",
       "                    <td style=\"text-align: left;\">\n",
       "                        <strong>Comm:</strong> tcp://127.0.0.1:43624\n",
       "                    </td>\n",
       "                    <td style=\"text-align: left;\">\n",
       "                        <strong>Workers:</strong> 2\n",
       "                    </td>\n",
       "                </tr>\n",
       "                <tr>\n",
       "                    <td style=\"text-align: left;\">\n",
       "                        <strong>Dashboard:</strong> <a href=\"https://jupyterhub.hpc.ucar.edu/stable/user/vanderwb/proxy/8787/status\" target=\"_blank\">https://jupyterhub.hpc.ucar.edu/stable/user/vanderwb/proxy/8787/status</a>\n",
       "                    </td>\n",
       "                    <td style=\"text-align: left;\">\n",
       "                        <strong>Total threads:</strong> 2\n",
       "                    </td>\n",
       "                </tr>\n",
       "                <tr>\n",
       "                    <td style=\"text-align: left;\">\n",
       "                        <strong>Started:</strong> Just now\n",
       "                    </td>\n",
       "                    <td style=\"text-align: left;\">\n",
       "                        <strong>Total memory:</strong> 100.00 GiB\n",
       "                    </td>\n",
       "                </tr>\n",
       "            </table>\n",
       "        </div>\n",
       "    </div>\n",
       "\n",
       "    <details style=\"margin-left: 48px;\">\n",
       "        <summary style=\"margin-bottom: 20px;\">\n",
       "            <h3 style=\"display: inline;\">Workers</h3>\n",
       "        </summary>\n",
       "\n",
       "        \n",
       "        <div style=\"margin-bottom: 20px;\">\n",
       "            <div style=\"width: 24px; height: 24px; background-color: #DBF5FF; border: 3px solid #4CC9FF; border-radius: 5px; position: absolute;\"> </div>\n",
       "            <div style=\"margin-left: 48px;\">\n",
       "            <details>\n",
       "                <summary>\n",
       "                    <h4 style=\"margin-bottom: 0px; display: inline;\">Worker: 0</h4>\n",
       "                </summary>\n",
       "                <table style=\"width: 100%; text-align: left;\">\n",
       "                    <tr>\n",
       "                        <td style=\"text-align: left;\">\n",
       "                            <strong>Comm: </strong> tcp://127.0.0.1:40331\n",
       "                        </td>\n",
       "                        <td style=\"text-align: left;\">\n",
       "                            <strong>Total threads: </strong> 1\n",
       "                        </td>\n",
       "                    </tr>\n",
       "                    <tr>\n",
       "                        <td style=\"text-align: left;\">\n",
       "                            <strong>Dashboard: </strong> <a href=\"https://jupyterhub.hpc.ucar.edu/stable/user/vanderwb/proxy/44079/status\" target=\"_blank\">https://jupyterhub.hpc.ucar.edu/stable/user/vanderwb/proxy/44079/status</a>\n",
       "                        </td>\n",
       "                        <td style=\"text-align: left;\">\n",
       "                            <strong>Memory: </strong> 50.00 GiB\n",
       "                        </td>\n",
       "                    </tr>\n",
       "                    <tr>\n",
       "                        <td style=\"text-align: left;\">\n",
       "                            <strong>Nanny: </strong> tcp://127.0.0.1:38616\n",
       "                        </td>\n",
       "                        <td style=\"text-align: left;\"></td>\n",
       "                    </tr>\n",
       "                    <tr>\n",
       "                        <td colspan=\"2\" style=\"text-align: left;\">\n",
       "                            <strong>Local directory: </strong> /glade/work/vanderwb/tutorials/GPU_workshop/13_DaskGPU/dask-worker-space/worker-ir94v5_f\n",
       "                        </td>\n",
       "                    </tr>\n",
       "\n",
       "                    \n",
       "                    <tr>\n",
       "                        <td style=\"text-align: left;\">\n",
       "                            <strong>GPU: </strong>Tesla V100-SXM2-32GB\n",
       "                        </td>\n",
       "                        <td style=\"text-align: left;\">\n",
       "                            <strong>GPU memory: </strong> 32.00 GiB\n",
       "                        </td>\n",
       "                    </tr>\n",
       "                    \n",
       "\n",
       "                    \n",
       "\n",
       "                </table>\n",
       "            </details>\n",
       "            </div>\n",
       "        </div>\n",
       "        \n",
       "        <div style=\"margin-bottom: 20px;\">\n",
       "            <div style=\"width: 24px; height: 24px; background-color: #DBF5FF; border: 3px solid #4CC9FF; border-radius: 5px; position: absolute;\"> </div>\n",
       "            <div style=\"margin-left: 48px;\">\n",
       "            <details>\n",
       "                <summary>\n",
       "                    <h4 style=\"margin-bottom: 0px; display: inline;\">Worker: 1</h4>\n",
       "                </summary>\n",
       "                <table style=\"width: 100%; text-align: left;\">\n",
       "                    <tr>\n",
       "                        <td style=\"text-align: left;\">\n",
       "                            <strong>Comm: </strong> tcp://127.0.0.1:43578\n",
       "                        </td>\n",
       "                        <td style=\"text-align: left;\">\n",
       "                            <strong>Total threads: </strong> 1\n",
       "                        </td>\n",
       "                    </tr>\n",
       "                    <tr>\n",
       "                        <td style=\"text-align: left;\">\n",
       "                            <strong>Dashboard: </strong> <a href=\"https://jupyterhub.hpc.ucar.edu/stable/user/vanderwb/proxy/38170/status\" target=\"_blank\">https://jupyterhub.hpc.ucar.edu/stable/user/vanderwb/proxy/38170/status</a>\n",
       "                        </td>\n",
       "                        <td style=\"text-align: left;\">\n",
       "                            <strong>Memory: </strong> 50.00 GiB\n",
       "                        </td>\n",
       "                    </tr>\n",
       "                    <tr>\n",
       "                        <td style=\"text-align: left;\">\n",
       "                            <strong>Nanny: </strong> tcp://127.0.0.1:43042\n",
       "                        </td>\n",
       "                        <td style=\"text-align: left;\"></td>\n",
       "                    </tr>\n",
       "                    <tr>\n",
       "                        <td colspan=\"2\" style=\"text-align: left;\">\n",
       "                            <strong>Local directory: </strong> /glade/work/vanderwb/tutorials/GPU_workshop/13_DaskGPU/dask-worker-space/worker-bb6gf_pe\n",
       "                        </td>\n",
       "                    </tr>\n",
       "\n",
       "                    \n",
       "                    <tr>\n",
       "                        <td style=\"text-align: left;\">\n",
       "                            <strong>GPU: </strong>Tesla V100-SXM2-32GB\n",
       "                        </td>\n",
       "                        <td style=\"text-align: left;\">\n",
       "                            <strong>GPU memory: </strong> 32.00 GiB\n",
       "                        </td>\n",
       "                    </tr>\n",
       "                    \n",
       "\n",
       "                    \n",
       "\n",
       "                </table>\n",
       "            </details>\n",
       "            </div>\n",
       "        </div>\n",
       "        \n",
       "\n",
       "    </details>\n",
       "</div>\n",
       "\n",
       "        </details>\n",
       "    </div>\n",
       "</div>\n",
       "            </details>\n",
       "        \n",
       "\n",
       "    </div>\n",
       "</div>"
      ],
      "text/plain": [
       "<Client: 'tcp://127.0.0.1:43624' processes=2 threads=2, memory=100.00 GiB>"
      ]
     },
     "execution_count": 31,
     "metadata": {},
     "output_type": "execute_result"
    }
   ],
   "source": [
    "client"
   ]
  },
  {
   "cell_type": "markdown",
   "id": "008d41a1-8259-4e02-a038-71703dd49f3b",
   "metadata": {},
   "source": [
    "**Now we are ready to scale up computations with Dask!**  \n",
    "\n",
    "We can use our aquaplanet temperature array we created earlier. Let's imagine that the array is a single output file, and we need to process twelve of them."
   ]
  },
  {
   "cell_type": "markdown",
   "id": "8ba561b3-adb1-4043-b728-b33d5b226bbf",
   "metadata": {},
   "source": [
    "#### Construct a Dask Array *on the GPU* using the NumPy array we created ...\n",
    "\n",
    "First we use the NumPy array to define our chunk size - the number of elements for each chunk of work to be done by a worker."
   ]
  },
  {
   "cell_type": "code",
   "execution_count": 32,
   "id": "ebe63a43-dcf6-43db-91bb-562a97c4d38d",
   "metadata": {},
   "outputs": [],
   "source": [
    "dc_arr = da.from_array(t, chunks = (1000, 500, 140))"
   ]
  },
  {
   "cell_type": "markdown",
   "id": "e2d22524-975f-4f5c-97ac-e29f90b69a7c",
   "metadata": {},
   "source": [
    "To create a Dask Array on the GPU, we simply need to map a conversion from NumPy to CuPy to all of our data chunks."
   ]
  },
  {
   "cell_type": "code",
   "execution_count": 33,
   "id": "cbe9cb35-ee39-4365-b2e8-391d83f803c3",
   "metadata": {},
   "outputs": [],
   "source": [
    "dg_arr = dc_arr.map_blocks(cp.asarray)"
   ]
  },
  {
   "cell_type": "markdown",
   "id": "da515cf9-2587-4124-bb79-babf3a90154b",
   "metadata": {},
   "source": [
    "We can now concatenate multiple copies of this dask array together to form our \"multifile\" dataset"
   ]
  },
  {
   "cell_type": "code",
   "execution_count": 34,
   "id": "2ec26955-04d3-445f-812b-046895fbc856",
   "metadata": {},
   "outputs": [
    {
     "data": {
      "text/html": [
       "<table>\n",
       "    <tr>\n",
       "        <td>\n",
       "            <table>\n",
       "                <thead>\n",
       "                    <tr>\n",
       "                        <td> </td>\n",
       "                        <th> Array </th>\n",
       "                        <th> Chunk </th>\n",
       "                    </tr>\n",
       "                </thead>\n",
       "                <tbody>\n",
       "                    \n",
       "                    <tr>\n",
       "                        <th> Bytes </th>\n",
       "                        <td> 100.14 GiB </td>\n",
       "                        <td> 534.06 MiB </td>\n",
       "                    </tr>\n",
       "                    \n",
       "                    <tr>\n",
       "                        <th> Shape </th>\n",
       "                        <td> (4000, 2000, 1680) </td>\n",
       "                        <td> (1000, 500, 140) </td>\n",
       "                    </tr>\n",
       "                    <tr>\n",
       "                        <th> Count </th>\n",
       "                        <td> 224 Tasks </td>\n",
       "                        <td> 192 Chunks </td>\n",
       "                    </tr>\n",
       "                    <tr>\n",
       "                    <th> Type </th>\n",
       "                    <td> float64 </td>\n",
       "                    <td> cupy._core.core.ndarray </td>\n",
       "                    </tr>\n",
       "                </tbody>\n",
       "            </table>\n",
       "        </td>\n",
       "        <td>\n",
       "        <svg width=\"180\" height=\"180\" style=\"stroke:rgb(0,0,0);stroke-width:1\" >\n",
       "\n",
       "  <!-- Horizontal lines -->\n",
       "  <line x1=\"10\" y1=\"0\" x2=\"80\" y2=\"70\" style=\"stroke-width:2\" />\n",
       "  <line x1=\"10\" y1=\"15\" x2=\"80\" y2=\"85\" />\n",
       "  <line x1=\"10\" y1=\"30\" x2=\"80\" y2=\"100\" />\n",
       "  <line x1=\"10\" y1=\"45\" x2=\"80\" y2=\"115\" />\n",
       "  <line x1=\"10\" y1=\"60\" x2=\"80\" y2=\"130\" style=\"stroke-width:2\" />\n",
       "\n",
       "  <!-- Vertical lines -->\n",
       "  <line x1=\"10\" y1=\"0\" x2=\"10\" y2=\"60\" style=\"stroke-width:2\" />\n",
       "  <line x1=\"27\" y1=\"17\" x2=\"27\" y2=\"77\" />\n",
       "  <line x1=\"45\" y1=\"35\" x2=\"45\" y2=\"95\" />\n",
       "  <line x1=\"62\" y1=\"52\" x2=\"62\" y2=\"112\" />\n",
       "  <line x1=\"80\" y1=\"70\" x2=\"80\" y2=\"130\" style=\"stroke-width:2\" />\n",
       "\n",
       "  <!-- Colored Rectangle -->\n",
       "  <polygon points=\"10.0,0.0 80.58823529411765,70.58823529411765 80.58823529411765,130.58823529411765 10.0,60.0\" style=\"fill:#ECB172A0;stroke-width:0\"/>\n",
       "\n",
       "  <!-- Horizontal lines -->\n",
       "  <line x1=\"10\" y1=\"0\" x2=\"60\" y2=\"0\" style=\"stroke-width:2\" />\n",
       "  <line x1=\"27\" y1=\"17\" x2=\"78\" y2=\"17\" />\n",
       "  <line x1=\"45\" y1=\"35\" x2=\"95\" y2=\"35\" />\n",
       "  <line x1=\"62\" y1=\"52\" x2=\"113\" y2=\"52\" />\n",
       "  <line x1=\"80\" y1=\"70\" x2=\"130\" y2=\"70\" style=\"stroke-width:2\" />\n",
       "\n",
       "  <!-- Vertical lines -->\n",
       "  <line x1=\"10\" y1=\"0\" x2=\"80\" y2=\"70\" style=\"stroke-width:2\" />\n",
       "  <line x1=\"14\" y1=\"0\" x2=\"84\" y2=\"70\" />\n",
       "  <line x1=\"18\" y1=\"0\" x2=\"88\" y2=\"70\" />\n",
       "  <line x1=\"22\" y1=\"0\" x2=\"93\" y2=\"70\" />\n",
       "  <line x1=\"26\" y1=\"0\" x2=\"97\" y2=\"70\" />\n",
       "  <line x1=\"31\" y1=\"0\" x2=\"101\" y2=\"70\" />\n",
       "  <line x1=\"35\" y1=\"0\" x2=\"105\" y2=\"70\" />\n",
       "  <line x1=\"39\" y1=\"0\" x2=\"109\" y2=\"70\" />\n",
       "  <line x1=\"43\" y1=\"0\" x2=\"114\" y2=\"70\" />\n",
       "  <line x1=\"47\" y1=\"0\" x2=\"118\" y2=\"70\" />\n",
       "  <line x1=\"52\" y1=\"0\" x2=\"122\" y2=\"70\" />\n",
       "  <line x1=\"56\" y1=\"0\" x2=\"126\" y2=\"70\" />\n",
       "  <line x1=\"60\" y1=\"0\" x2=\"130\" y2=\"70\" style=\"stroke-width:2\" />\n",
       "\n",
       "  <!-- Colored Rectangle -->\n",
       "  <polygon points=\"10.0,0.0 60.4,0.0 130.98823529411766,70.58823529411765 80.58823529411765,70.58823529411765\" style=\"fill:#ECB172A0;stroke-width:0\"/>\n",
       "\n",
       "  <!-- Horizontal lines -->\n",
       "  <line x1=\"80\" y1=\"70\" x2=\"130\" y2=\"70\" style=\"stroke-width:2\" />\n",
       "  <line x1=\"80\" y1=\"85\" x2=\"130\" y2=\"85\" />\n",
       "  <line x1=\"80\" y1=\"100\" x2=\"130\" y2=\"100\" />\n",
       "  <line x1=\"80\" y1=\"115\" x2=\"130\" y2=\"115\" />\n",
       "  <line x1=\"80\" y1=\"130\" x2=\"130\" y2=\"130\" style=\"stroke-width:2\" />\n",
       "\n",
       "  <!-- Vertical lines -->\n",
       "  <line x1=\"80\" y1=\"70\" x2=\"80\" y2=\"130\" style=\"stroke-width:2\" />\n",
       "  <line x1=\"84\" y1=\"70\" x2=\"84\" y2=\"130\" />\n",
       "  <line x1=\"88\" y1=\"70\" x2=\"88\" y2=\"130\" />\n",
       "  <line x1=\"93\" y1=\"70\" x2=\"93\" y2=\"130\" />\n",
       "  <line x1=\"97\" y1=\"70\" x2=\"97\" y2=\"130\" />\n",
       "  <line x1=\"101\" y1=\"70\" x2=\"101\" y2=\"130\" />\n",
       "  <line x1=\"105\" y1=\"70\" x2=\"105\" y2=\"130\" />\n",
       "  <line x1=\"109\" y1=\"70\" x2=\"109\" y2=\"130\" />\n",
       "  <line x1=\"114\" y1=\"70\" x2=\"114\" y2=\"130\" />\n",
       "  <line x1=\"118\" y1=\"70\" x2=\"118\" y2=\"130\" />\n",
       "  <line x1=\"122\" y1=\"70\" x2=\"122\" y2=\"130\" />\n",
       "  <line x1=\"126\" y1=\"70\" x2=\"126\" y2=\"130\" />\n",
       "  <line x1=\"130\" y1=\"70\" x2=\"130\" y2=\"130\" style=\"stroke-width:2\" />\n",
       "\n",
       "  <!-- Colored Rectangle -->\n",
       "  <polygon points=\"80.58823529411765,70.58823529411765 130.98823529411766,70.58823529411765 130.98823529411766,130.58823529411765 80.58823529411765,130.58823529411765\" style=\"fill:#ECB172A0;stroke-width:0\"/>\n",
       "\n",
       "  <!-- Text -->\n",
       "  <text x=\"105.788235\" y=\"150.588235\" font-size=\"1.0rem\" font-weight=\"100\" text-anchor=\"middle\" >1680</text>\n",
       "  <text x=\"150.988235\" y=\"100.588235\" font-size=\"1.0rem\" font-weight=\"100\" text-anchor=\"middle\" transform=\"rotate(-90,150.988235,100.588235)\">2000</text>\n",
       "  <text x=\"35.294118\" y=\"115.294118\" font-size=\"1.0rem\" font-weight=\"100\" text-anchor=\"middle\" transform=\"rotate(45,35.294118,115.294118)\">4000</text>\n",
       "</svg>\n",
       "        </td>\n",
       "    </tr>\n",
       "</table>"
      ],
      "text/plain": [
       "dask.array<concatenate, shape=(4000, 2000, 1680), dtype=float64, chunksize=(1000, 500, 140), chunktype=cupy.ndarray>"
      ]
     },
     "execution_count": 34,
     "metadata": {},
     "output_type": "execute_result"
    }
   ],
   "source": [
    "dg_mf = da.concatenate([dg_arr] * 12, axis=2)\n",
    "dg_mf"
   ]
  },
  {
   "cell_type": "markdown",
   "id": "7ce3f36c-cd6e-43d1-a895-634c6249a7dd",
   "metadata": {},
   "source": [
    "#### Assigning tasks to a Dask collection\n",
    "\n",
    "Let's do some data processing on our GPU Dask Array. We can convert from Kelvin to Celsius and then take the mean across all times at each spatial index."
   ]
  },
  {
   "cell_type": "code",
   "execution_count": 35,
   "id": "a4a5bf05-0d1f-4afa-bb1c-55cd79de3af9",
   "metadata": {},
   "outputs": [],
   "source": [
    "tg = da.mean((dg_mf - 273.15), axis = 2)"
   ]
  },
  {
   "cell_type": "code",
   "execution_count": 36,
   "id": "79f0e0eb-30f7-43f4-8335-88b5dac35c6e",
   "metadata": {},
   "outputs": [
    {
     "data": {
      "text/html": [
       "<div>\n",
       "    <div>\n",
       "        <div style=\"width: 52px; height: 52px; position: absolute;\">\n",
       "            <svg width=\"76\" height=\"71\" viewBox=\"0 0 76 71\" fill=\"none\" xmlns=\"http://www.w3.org/2000/svg\">\n",
       "                <circle cx=\"61.5\" cy=\"36.5\" r=\"13.5\" style=\"stroke: var(--jp-ui-font-color2, #1D1D1D); fill: var(--jp-layout-color1, #F2F2F2);\" stroke-width=\"2\"/>\n",
       "                <circle cx=\"14.5\" cy=\"14.5\" r=\"13.5\" style=\"stroke: var(--jp-ui-font-color2, #1D1D1D); fill: var(--jp-layout-color1, #F2F2F2);\" stroke-width=\"2\"/>\n",
       "                <circle cx=\"14.5\" cy=\"56.5\" r=\"13.5\" style=\"stroke: var(--jp-ui-font-color2, #1D1D1D); fill: var(--jp-layout-color1, #F2F2F2);\" stroke-width=\"2\"/>\n",
       "                <path d=\"M28 16L30.5 16C33.2614 16 35.5 18.2386 35.5 21L35.5 32.0001C35.5 34.7615 37.7386 37.0001 40.5 37.0001L43 37.0001\" style=\"stroke: var(--jp-ui-font-color2, #1D1D1D);\" stroke-width=\"1.5\"/>\n",
       "                <path d=\"M40.5 37L40.5 37.75L40.5 37.75L40.5 37ZM35.5 42L36.25 42L35.5 42ZM35.5 52L34.75 52L35.5 52ZM30.5 57L30.5 57.75L30.5 57ZM41.5001 36.25L40.5 36.25L40.5 37.75L41.5001 37.75L41.5001 36.25ZM34.75 42L34.75 52L36.25 52L36.25 42L34.75 42ZM30.5 56.25L28.0001 56.25L28.0001 57.75L30.5 57.75L30.5 56.25ZM34.75 52C34.75 54.3472 32.8472 56.25 30.5 56.25L30.5 57.75C33.6756 57.75 36.25 55.1756 36.25 52L34.75 52ZM40.5 36.25C37.3244 36.25 34.75 38.8243 34.75 42L36.25 42C36.25 39.6528 38.1528 37.75 40.5 37.75L40.5 36.25Z\" style=\"fill: var(--jp-ui-font-color2, #1D1D1D);\"/>\n",
       "                <circle cx=\"28\" cy=\"16\" r=\"2.25\" fill=\"#E5E5E5\" style=\"stroke: var(--jp-ui-font-color2, #1D1D1D);\" stroke-width=\"1.5\"/>\n",
       "                <circle cx=\"28\" cy=\"57\" r=\"2.25\" fill=\"#E5E5E5\" style=\"stroke: var(--jp-ui-font-color2, #1D1D1D);\" stroke-width=\"1.5\"/>\n",
       "                <path d=\"M45.25 36.567C45.5833 36.7594 45.5833 37.2406 45.25 37.433L42.25 39.1651C41.9167 39.3575 41.5 39.117 41.5 38.7321V35.2679C41.5 34.883 41.9167 34.6425 42.25 34.8349L45.25 36.567Z\" style=\"fill: var(--jp-ui-font-color2, #1D1D1D);\"/>\n",
       "            </svg>\n",
       "        </div>\n",
       "        <div style=\"margin-left: 64px;\">\n",
       "            <h3 style=\"margin-bottom: 0px;\">HighLevelGraph</h3>\n",
       "            <p style=\"color: var(--jp-ui-font-color2, #5D5851); margin-bottom:0px;\">\n",
       "                HighLevelGraph with 7 layers and 672 keys from all layers.\n",
       "            </p>\n",
       "            \n",
       "            <div style=\"\">\n",
       "    <svg width=\"24\" height=\"24\" viewBox=\"0 0 32 32\" fill=\"none\" xmlns=\"http://www.w3.org/2000/svg\" style=\"position: absolute;\">\n",
       "        \n",
       "        <circle cx=\"16\" cy=\"16\" r=\"14\" fill=\"#8F8F8F\" style=\"stroke: var(--jp-ui-font-color2, #1D1D1D);\" stroke-width=\"2\"/>\n",
       "        \n",
       "    </svg>\n",
       "\n",
       "    <details style=\"margin-left: 32px;\">\n",
       "        <summary style=\"margin-bottom: 10px; margin-top: 10px;\">\n",
       "            <h4 style=\"display: inline;\">Layer1: array</h4>\n",
       "        </summary>\n",
       "        <p style=\"color: var(--jp-ui-font-color2, #5D5851); margin: -0.25em 0px 0px 0px;\">\n",
       "            array-2d6d607525c93a60d3ebad8394f5ac20\n",
       "        </p>\n",
       "\n",
       "        <table>\n",
       "        <tr>\n",
       "            <td>\n",
       "                <table>\n",
       "                \n",
       "                    <tr>\n",
       "                        <th style=\"text-align: left; width: 150px;\">layer_type</th>\n",
       "                        <td style=\"text-align: left;\">MaterializedLayer</td>\n",
       "                    </tr>\n",
       "                \n",
       "                    <tr>\n",
       "                        <th style=\"text-align: left; width: 150px;\">is_materialized</th>\n",
       "                        <td style=\"text-align: left;\">True</td>\n",
       "                    </tr>\n",
       "                \n",
       "                    <tr>\n",
       "                        <th style=\"text-align: left; width: 150px;\">number of outputs</th>\n",
       "                        <td style=\"text-align: left;\">16</td>\n",
       "                    </tr>\n",
       "                \n",
       "                    <tr>\n",
       "                        <th style=\"text-align: left; width: 150px;\">shape</th>\n",
       "                        <td style=\"text-align: left;\">(4000, 2000, 140)</td>\n",
       "                    </tr>\n",
       "                \n",
       "                    <tr>\n",
       "                        <th style=\"text-align: left; width: 150px;\">dtype</th>\n",
       "                        <td style=\"text-align: left;\">float64</td>\n",
       "                    </tr>\n",
       "                \n",
       "                    <tr>\n",
       "                        <th style=\"text-align: left; width: 150px;\">chunksize</th>\n",
       "                        <td style=\"text-align: left;\">(1000, 500, 140)</td>\n",
       "                    </tr>\n",
       "                \n",
       "                    <tr>\n",
       "                        <th style=\"text-align: left; width: 150px;\">type</th>\n",
       "                        <td style=\"text-align: left;\">dask.array.core.Array</td>\n",
       "                    </tr>\n",
       "                \n",
       "                    <tr>\n",
       "                        <th style=\"text-align: left; width: 150px;\">chunk_type</th>\n",
       "                        <td style=\"text-align: left;\">numpy.ndarray</td>\n",
       "                    </tr>\n",
       "                \n",
       "                </table>\n",
       "            </td>\n",
       "            <td>\n",
       "                <svg width=\"231\" height=\"267\" style=\"stroke:rgb(0,0,0);stroke-width:1\" >\n",
       "\n",
       "  <!-- Horizontal lines -->\n",
       "  <line x1=\"10\" y1=\"0\" x2=\"127\" y2=\"117\" style=\"stroke-width:2\" />\n",
       "  <line x1=\"10\" y1=\"25\" x2=\"127\" y2=\"142\" />\n",
       "  <line x1=\"10\" y1=\"50\" x2=\"127\" y2=\"167\" />\n",
       "  <line x1=\"10\" y1=\"75\" x2=\"127\" y2=\"192\" />\n",
       "  <line x1=\"10\" y1=\"100\" x2=\"127\" y2=\"217\" style=\"stroke-width:2\" />\n",
       "\n",
       "  <!-- Vertical lines -->\n",
       "  <line x1=\"10\" y1=\"0\" x2=\"10\" y2=\"100\" style=\"stroke-width:2\" />\n",
       "  <line x1=\"39\" y1=\"29\" x2=\"39\" y2=\"129\" />\n",
       "  <line x1=\"68\" y1=\"58\" x2=\"68\" y2=\"158\" />\n",
       "  <line x1=\"98\" y1=\"88\" x2=\"98\" y2=\"188\" />\n",
       "  <line x1=\"127\" y1=\"117\" x2=\"127\" y2=\"217\" style=\"stroke-width:2\" />\n",
       "\n",
       "  <!-- Colored Rectangle -->\n",
       "  <polygon points=\"10.0,0.0 127.64705882352942,117.64705882352942 127.64705882352942,217.64705882352942 10.0,100.0\" style=\"fill:#ECB172A0;stroke-width:0\"/>\n",
       "\n",
       "  <!-- Horizontal lines -->\n",
       "  <line x1=\"10\" y1=\"0\" x2=\"63\" y2=\"0\" style=\"stroke-width:2\" />\n",
       "  <line x1=\"39\" y1=\"29\" x2=\"93\" y2=\"29\" />\n",
       "  <line x1=\"68\" y1=\"58\" x2=\"122\" y2=\"58\" />\n",
       "  <line x1=\"98\" y1=\"88\" x2=\"152\" y2=\"88\" />\n",
       "  <line x1=\"127\" y1=\"117\" x2=\"181\" y2=\"117\" style=\"stroke-width:2\" />\n",
       "\n",
       "  <!-- Vertical lines -->\n",
       "  <line x1=\"10\" y1=\"0\" x2=\"127\" y2=\"117\" style=\"stroke-width:2\" />\n",
       "  <line x1=\"63\" y1=\"0\" x2=\"181\" y2=\"117\" style=\"stroke-width:2\" />\n",
       "\n",
       "  <!-- Colored Rectangle -->\n",
       "  <polygon points=\"10.0,0.0 63.86661338516172,0.0 181.51367220869113,117.64705882352942 127.64705882352942,117.64705882352942\" style=\"fill:#ECB172A0;stroke-width:0\"/>\n",
       "\n",
       "  <!-- Horizontal lines -->\n",
       "  <line x1=\"127\" y1=\"117\" x2=\"181\" y2=\"117\" style=\"stroke-width:2\" />\n",
       "  <line x1=\"127\" y1=\"142\" x2=\"181\" y2=\"142\" />\n",
       "  <line x1=\"127\" y1=\"167\" x2=\"181\" y2=\"167\" />\n",
       "  <line x1=\"127\" y1=\"192\" x2=\"181\" y2=\"192\" />\n",
       "  <line x1=\"127\" y1=\"217\" x2=\"181\" y2=\"217\" style=\"stroke-width:2\" />\n",
       "\n",
       "  <!-- Vertical lines -->\n",
       "  <line x1=\"127\" y1=\"117\" x2=\"127\" y2=\"217\" style=\"stroke-width:2\" />\n",
       "  <line x1=\"181\" y1=\"117\" x2=\"181\" y2=\"217\" style=\"stroke-width:2\" />\n",
       "\n",
       "  <!-- Colored Rectangle -->\n",
       "  <polygon points=\"127.64705882352942,117.64705882352942 181.51367220869113,117.64705882352942 181.51367220869113,217.64705882352942 127.64705882352942,217.64705882352942\" style=\"fill:#ECB172A0;stroke-width:0\"/>\n",
       "\n",
       "  <!-- Text -->\n",
       "  <text x=\"154.580366\" y=\"237.647059\" font-size=\"1.0rem\" font-weight=\"100\" text-anchor=\"middle\" >140</text>\n",
       "  <text x=\"201.513672\" y=\"167.647059\" font-size=\"1.0rem\" font-weight=\"100\" text-anchor=\"middle\" transform=\"rotate(-90,201.513672,167.647059)\">2000</text>\n",
       "  <text x=\"58.823529\" y=\"178.823529\" font-size=\"1.0rem\" font-weight=\"100\" text-anchor=\"middle\" transform=\"rotate(45,58.823529,178.823529)\">4000</text>\n",
       "</svg>\n",
       "            </td>\n",
       "        </tr>\n",
       "        </table>\n",
       "\n",
       "    </details>\n",
       "</div>\n",
       "            \n",
       "            <div style=\"\">\n",
       "    <svg width=\"24\" height=\"24\" viewBox=\"0 0 32 32\" fill=\"none\" xmlns=\"http://www.w3.org/2000/svg\" style=\"position: absolute;\">\n",
       "        \n",
       "        <circle cx=\"16\" cy=\"16\" r=\"14\" style=\"stroke: var(--jp-ui-font-color2, #1D1D1D); fill: var(--jp-layout-color1, #F2F2F2);\" stroke-width=\"2\" />\n",
       "        \n",
       "    </svg>\n",
       "\n",
       "    <details style=\"margin-left: 32px;\">\n",
       "        <summary style=\"margin-bottom: 10px; margin-top: 10px;\">\n",
       "            <h4 style=\"display: inline;\">Layer2: asarray</h4>\n",
       "        </summary>\n",
       "        <p style=\"color: var(--jp-ui-font-color2, #5D5851); margin: -0.25em 0px 0px 0px;\">\n",
       "            asarray-0bb0329305b0a5ad59d3ae1aa871cf9b\n",
       "        </p>\n",
       "\n",
       "        <table>\n",
       "        <tr>\n",
       "            <td>\n",
       "                <table>\n",
       "                \n",
       "                    <tr>\n",
       "                        <th style=\"text-align: left; width: 150px;\">layer_type</th>\n",
       "                        <td style=\"text-align: left;\">Blockwise</td>\n",
       "                    </tr>\n",
       "                \n",
       "                    <tr>\n",
       "                        <th style=\"text-align: left; width: 150px;\">is_materialized</th>\n",
       "                        <td style=\"text-align: left;\">False</td>\n",
       "                    </tr>\n",
       "                \n",
       "                    <tr>\n",
       "                        <th style=\"text-align: left; width: 150px;\">number of outputs</th>\n",
       "                        <td style=\"text-align: left;\">16</td>\n",
       "                    </tr>\n",
       "                \n",
       "                    <tr>\n",
       "                        <th style=\"text-align: left; width: 150px;\">shape</th>\n",
       "                        <td style=\"text-align: left;\">(4000, 2000, 140)</td>\n",
       "                    </tr>\n",
       "                \n",
       "                    <tr>\n",
       "                        <th style=\"text-align: left; width: 150px;\">dtype</th>\n",
       "                        <td style=\"text-align: left;\">float64</td>\n",
       "                    </tr>\n",
       "                \n",
       "                    <tr>\n",
       "                        <th style=\"text-align: left; width: 150px;\">chunksize</th>\n",
       "                        <td style=\"text-align: left;\">(1000, 500, 140)</td>\n",
       "                    </tr>\n",
       "                \n",
       "                    <tr>\n",
       "                        <th style=\"text-align: left; width: 150px;\">type</th>\n",
       "                        <td style=\"text-align: left;\">dask.array.core.Array</td>\n",
       "                    </tr>\n",
       "                \n",
       "                    <tr>\n",
       "                        <th style=\"text-align: left; width: 150px;\">chunk_type</th>\n",
       "                        <td style=\"text-align: left;\">cupy._core.core.ndarray</td>\n",
       "                    </tr>\n",
       "                \n",
       "                </table>\n",
       "            </td>\n",
       "            <td>\n",
       "                <svg width=\"231\" height=\"267\" style=\"stroke:rgb(0,0,0);stroke-width:1\" >\n",
       "\n",
       "  <!-- Horizontal lines -->\n",
       "  <line x1=\"10\" y1=\"0\" x2=\"127\" y2=\"117\" style=\"stroke-width:2\" />\n",
       "  <line x1=\"10\" y1=\"25\" x2=\"127\" y2=\"142\" />\n",
       "  <line x1=\"10\" y1=\"50\" x2=\"127\" y2=\"167\" />\n",
       "  <line x1=\"10\" y1=\"75\" x2=\"127\" y2=\"192\" />\n",
       "  <line x1=\"10\" y1=\"100\" x2=\"127\" y2=\"217\" style=\"stroke-width:2\" />\n",
       "\n",
       "  <!-- Vertical lines -->\n",
       "  <line x1=\"10\" y1=\"0\" x2=\"10\" y2=\"100\" style=\"stroke-width:2\" />\n",
       "  <line x1=\"39\" y1=\"29\" x2=\"39\" y2=\"129\" />\n",
       "  <line x1=\"68\" y1=\"58\" x2=\"68\" y2=\"158\" />\n",
       "  <line x1=\"98\" y1=\"88\" x2=\"98\" y2=\"188\" />\n",
       "  <line x1=\"127\" y1=\"117\" x2=\"127\" y2=\"217\" style=\"stroke-width:2\" />\n",
       "\n",
       "  <!-- Colored Rectangle -->\n",
       "  <polygon points=\"10.0,0.0 127.64705882352942,117.64705882352942 127.64705882352942,217.64705882352942 10.0,100.0\" style=\"fill:#ECB172A0;stroke-width:0\"/>\n",
       "\n",
       "  <!-- Horizontal lines -->\n",
       "  <line x1=\"10\" y1=\"0\" x2=\"63\" y2=\"0\" style=\"stroke-width:2\" />\n",
       "  <line x1=\"39\" y1=\"29\" x2=\"93\" y2=\"29\" />\n",
       "  <line x1=\"68\" y1=\"58\" x2=\"122\" y2=\"58\" />\n",
       "  <line x1=\"98\" y1=\"88\" x2=\"152\" y2=\"88\" />\n",
       "  <line x1=\"127\" y1=\"117\" x2=\"181\" y2=\"117\" style=\"stroke-width:2\" />\n",
       "\n",
       "  <!-- Vertical lines -->\n",
       "  <line x1=\"10\" y1=\"0\" x2=\"127\" y2=\"117\" style=\"stroke-width:2\" />\n",
       "  <line x1=\"63\" y1=\"0\" x2=\"181\" y2=\"117\" style=\"stroke-width:2\" />\n",
       "\n",
       "  <!-- Colored Rectangle -->\n",
       "  <polygon points=\"10.0,0.0 63.86661338516172,0.0 181.51367220869113,117.64705882352942 127.64705882352942,117.64705882352942\" style=\"fill:#ECB172A0;stroke-width:0\"/>\n",
       "\n",
       "  <!-- Horizontal lines -->\n",
       "  <line x1=\"127\" y1=\"117\" x2=\"181\" y2=\"117\" style=\"stroke-width:2\" />\n",
       "  <line x1=\"127\" y1=\"142\" x2=\"181\" y2=\"142\" />\n",
       "  <line x1=\"127\" y1=\"167\" x2=\"181\" y2=\"167\" />\n",
       "  <line x1=\"127\" y1=\"192\" x2=\"181\" y2=\"192\" />\n",
       "  <line x1=\"127\" y1=\"217\" x2=\"181\" y2=\"217\" style=\"stroke-width:2\" />\n",
       "\n",
       "  <!-- Vertical lines -->\n",
       "  <line x1=\"127\" y1=\"117\" x2=\"127\" y2=\"217\" style=\"stroke-width:2\" />\n",
       "  <line x1=\"181\" y1=\"117\" x2=\"181\" y2=\"217\" style=\"stroke-width:2\" />\n",
       "\n",
       "  <!-- Colored Rectangle -->\n",
       "  <polygon points=\"127.64705882352942,117.64705882352942 181.51367220869113,117.64705882352942 181.51367220869113,217.64705882352942 127.64705882352942,217.64705882352942\" style=\"fill:#ECB172A0;stroke-width:0\"/>\n",
       "\n",
       "  <!-- Text -->\n",
       "  <text x=\"154.580366\" y=\"237.647059\" font-size=\"1.0rem\" font-weight=\"100\" text-anchor=\"middle\" >140</text>\n",
       "  <text x=\"201.513672\" y=\"167.647059\" font-size=\"1.0rem\" font-weight=\"100\" text-anchor=\"middle\" transform=\"rotate(-90,201.513672,167.647059)\">2000</text>\n",
       "  <text x=\"58.823529\" y=\"178.823529\" font-size=\"1.0rem\" font-weight=\"100\" text-anchor=\"middle\" transform=\"rotate(45,58.823529,178.823529)\">4000</text>\n",
       "</svg>\n",
       "            </td>\n",
       "        </tr>\n",
       "        </table>\n",
       "\n",
       "    </details>\n",
       "</div>\n",
       "            \n",
       "            <div style=\"\">\n",
       "    <svg width=\"24\" height=\"24\" viewBox=\"0 0 32 32\" fill=\"none\" xmlns=\"http://www.w3.org/2000/svg\" style=\"position: absolute;\">\n",
       "        \n",
       "        <circle cx=\"16\" cy=\"16\" r=\"14\" fill=\"#8F8F8F\" style=\"stroke: var(--jp-ui-font-color2, #1D1D1D);\" stroke-width=\"2\"/>\n",
       "        \n",
       "    </svg>\n",
       "\n",
       "    <details style=\"margin-left: 32px;\">\n",
       "        <summary style=\"margin-bottom: 10px; margin-top: 10px;\">\n",
       "            <h4 style=\"display: inline;\">Layer3: concatenate</h4>\n",
       "        </summary>\n",
       "        <p style=\"color: var(--jp-ui-font-color2, #5D5851); margin: -0.25em 0px 0px 0px;\">\n",
       "            concatenate-24ceb3de61d0b0ff573788d6cb562fe3\n",
       "        </p>\n",
       "\n",
       "        <table>\n",
       "        <tr>\n",
       "            <td>\n",
       "                <table>\n",
       "                \n",
       "                    <tr>\n",
       "                        <th style=\"text-align: left; width: 150px;\">layer_type</th>\n",
       "                        <td style=\"text-align: left;\">MaterializedLayer</td>\n",
       "                    </tr>\n",
       "                \n",
       "                    <tr>\n",
       "                        <th style=\"text-align: left; width: 150px;\">is_materialized</th>\n",
       "                        <td style=\"text-align: left;\">True</td>\n",
       "                    </tr>\n",
       "                \n",
       "                    <tr>\n",
       "                        <th style=\"text-align: left; width: 150px;\">number of outputs</th>\n",
       "                        <td style=\"text-align: left;\">192</td>\n",
       "                    </tr>\n",
       "                \n",
       "                    <tr>\n",
       "                        <th style=\"text-align: left; width: 150px;\">shape</th>\n",
       "                        <td style=\"text-align: left;\">(4000, 2000, 1680)</td>\n",
       "                    </tr>\n",
       "                \n",
       "                    <tr>\n",
       "                        <th style=\"text-align: left; width: 150px;\">dtype</th>\n",
       "                        <td style=\"text-align: left;\">float64</td>\n",
       "                    </tr>\n",
       "                \n",
       "                    <tr>\n",
       "                        <th style=\"text-align: left; width: 150px;\">chunksize</th>\n",
       "                        <td style=\"text-align: left;\">(1000, 500, 140)</td>\n",
       "                    </tr>\n",
       "                \n",
       "                    <tr>\n",
       "                        <th style=\"text-align: left; width: 150px;\">type</th>\n",
       "                        <td style=\"text-align: left;\">dask.array.core.Array</td>\n",
       "                    </tr>\n",
       "                \n",
       "                    <tr>\n",
       "                        <th style=\"text-align: left; width: 150px;\">chunk_type</th>\n",
       "                        <td style=\"text-align: left;\">cupy._core.core.ndarray</td>\n",
       "                    </tr>\n",
       "                \n",
       "                </table>\n",
       "            </td>\n",
       "            <td>\n",
       "                <svg width=\"261\" height=\"267\" style=\"stroke:rgb(0,0,0);stroke-width:1\" >\n",
       "\n",
       "  <!-- Horizontal lines -->\n",
       "  <line x1=\"10\" y1=\"0\" x2=\"127\" y2=\"117\" style=\"stroke-width:2\" />\n",
       "  <line x1=\"10\" y1=\"25\" x2=\"127\" y2=\"142\" />\n",
       "  <line x1=\"10\" y1=\"50\" x2=\"127\" y2=\"167\" />\n",
       "  <line x1=\"10\" y1=\"75\" x2=\"127\" y2=\"192\" />\n",
       "  <line x1=\"10\" y1=\"100\" x2=\"127\" y2=\"217\" style=\"stroke-width:2\" />\n",
       "\n",
       "  <!-- Vertical lines -->\n",
       "  <line x1=\"10\" y1=\"0\" x2=\"10\" y2=\"100\" style=\"stroke-width:2\" />\n",
       "  <line x1=\"39\" y1=\"29\" x2=\"39\" y2=\"129\" />\n",
       "  <line x1=\"68\" y1=\"58\" x2=\"68\" y2=\"158\" />\n",
       "  <line x1=\"98\" y1=\"88\" x2=\"98\" y2=\"188\" />\n",
       "  <line x1=\"127\" y1=\"117\" x2=\"127\" y2=\"217\" style=\"stroke-width:2\" />\n",
       "\n",
       "  <!-- Colored Rectangle -->\n",
       "  <polygon points=\"10.0,0.0 127.64705882352942,117.64705882352942 127.64705882352942,217.64705882352942 10.0,100.0\" style=\"fill:#ECB172A0;stroke-width:0\"/>\n",
       "\n",
       "  <!-- Horizontal lines -->\n",
       "  <line x1=\"10\" y1=\"0\" x2=\"94\" y2=\"0\" style=\"stroke-width:2\" />\n",
       "  <line x1=\"39\" y1=\"29\" x2=\"123\" y2=\"29\" />\n",
       "  <line x1=\"68\" y1=\"58\" x2=\"152\" y2=\"58\" />\n",
       "  <line x1=\"98\" y1=\"88\" x2=\"182\" y2=\"88\" />\n",
       "  <line x1=\"127\" y1=\"117\" x2=\"211\" y2=\"117\" style=\"stroke-width:2\" />\n",
       "\n",
       "  <!-- Vertical lines -->\n",
       "  <line x1=\"10\" y1=\"0\" x2=\"127\" y2=\"117\" style=\"stroke-width:2\" />\n",
       "  <line x1=\"17\" y1=\"0\" x2=\"134\" y2=\"117\" />\n",
       "  <line x1=\"24\" y1=\"0\" x2=\"141\" y2=\"117\" />\n",
       "  <line x1=\"31\" y1=\"0\" x2=\"148\" y2=\"117\" />\n",
       "  <line x1=\"38\" y1=\"0\" x2=\"155\" y2=\"117\" />\n",
       "  <line x1=\"45\" y1=\"0\" x2=\"162\" y2=\"117\" />\n",
       "  <line x1=\"52\" y1=\"0\" x2=\"169\" y2=\"117\" />\n",
       "  <line x1=\"59\" y1=\"0\" x2=\"176\" y2=\"117\" />\n",
       "  <line x1=\"66\" y1=\"0\" x2=\"183\" y2=\"117\" />\n",
       "  <line x1=\"73\" y1=\"0\" x2=\"190\" y2=\"117\" />\n",
       "  <line x1=\"80\" y1=\"0\" x2=\"197\" y2=\"117\" />\n",
       "  <line x1=\"87\" y1=\"0\" x2=\"204\" y2=\"117\" />\n",
       "  <line x1=\"94\" y1=\"0\" x2=\"211\" y2=\"117\" style=\"stroke-width:2\" />\n",
       "\n",
       "  <!-- Colored Rectangle -->\n",
       "  <polygon points=\"10.0,0.0 94.0,0.0 211.64705882352942,117.64705882352942 127.64705882352942,117.64705882352942\" style=\"fill:#ECB172A0;stroke-width:0\"/>\n",
       "\n",
       "  <!-- Horizontal lines -->\n",
       "  <line x1=\"127\" y1=\"117\" x2=\"211\" y2=\"117\" style=\"stroke-width:2\" />\n",
       "  <line x1=\"127\" y1=\"142\" x2=\"211\" y2=\"142\" />\n",
       "  <line x1=\"127\" y1=\"167\" x2=\"211\" y2=\"167\" />\n",
       "  <line x1=\"127\" y1=\"192\" x2=\"211\" y2=\"192\" />\n",
       "  <line x1=\"127\" y1=\"217\" x2=\"211\" y2=\"217\" style=\"stroke-width:2\" />\n",
       "\n",
       "  <!-- Vertical lines -->\n",
       "  <line x1=\"127\" y1=\"117\" x2=\"127\" y2=\"217\" style=\"stroke-width:2\" />\n",
       "  <line x1=\"134\" y1=\"117\" x2=\"134\" y2=\"217\" />\n",
       "  <line x1=\"141\" y1=\"117\" x2=\"141\" y2=\"217\" />\n",
       "  <line x1=\"148\" y1=\"117\" x2=\"148\" y2=\"217\" />\n",
       "  <line x1=\"155\" y1=\"117\" x2=\"155\" y2=\"217\" />\n",
       "  <line x1=\"162\" y1=\"117\" x2=\"162\" y2=\"217\" />\n",
       "  <line x1=\"169\" y1=\"117\" x2=\"169\" y2=\"217\" />\n",
       "  <line x1=\"176\" y1=\"117\" x2=\"176\" y2=\"217\" />\n",
       "  <line x1=\"183\" y1=\"117\" x2=\"183\" y2=\"217\" />\n",
       "  <line x1=\"190\" y1=\"117\" x2=\"190\" y2=\"217\" />\n",
       "  <line x1=\"197\" y1=\"117\" x2=\"197\" y2=\"217\" />\n",
       "  <line x1=\"204\" y1=\"117\" x2=\"204\" y2=\"217\" />\n",
       "  <line x1=\"211\" y1=\"117\" x2=\"211\" y2=\"217\" style=\"stroke-width:2\" />\n",
       "\n",
       "  <!-- Colored Rectangle -->\n",
       "  <polygon points=\"127.64705882352942,117.64705882352942 211.64705882352942,117.64705882352942 211.64705882352942,217.64705882352942 127.64705882352942,217.64705882352942\" style=\"fill:#ECB172A0;stroke-width:0\"/>\n",
       "\n",
       "  <!-- Text -->\n",
       "  <text x=\"169.647059\" y=\"237.647059\" font-size=\"1.0rem\" font-weight=\"100\" text-anchor=\"middle\" >1680</text>\n",
       "  <text x=\"231.647059\" y=\"167.647059\" font-size=\"1.0rem\" font-weight=\"100\" text-anchor=\"middle\" transform=\"rotate(-90,231.647059,167.647059)\">2000</text>\n",
       "  <text x=\"58.823529\" y=\"178.823529\" font-size=\"1.0rem\" font-weight=\"100\" text-anchor=\"middle\" transform=\"rotate(45,58.823529,178.823529)\">4000</text>\n",
       "</svg>\n",
       "            </td>\n",
       "        </tr>\n",
       "        </table>\n",
       "\n",
       "    </details>\n",
       "</div>\n",
       "            \n",
       "            <div style=\"\">\n",
       "    <svg width=\"24\" height=\"24\" viewBox=\"0 0 32 32\" fill=\"none\" xmlns=\"http://www.w3.org/2000/svg\" style=\"position: absolute;\">\n",
       "        \n",
       "        <circle cx=\"16\" cy=\"16\" r=\"14\" style=\"stroke: var(--jp-ui-font-color2, #1D1D1D); fill: var(--jp-layout-color1, #F2F2F2);\" stroke-width=\"2\" />\n",
       "        \n",
       "    </svg>\n",
       "\n",
       "    <details style=\"margin-left: 32px;\">\n",
       "        <summary style=\"margin-bottom: 10px; margin-top: 10px;\">\n",
       "            <h4 style=\"display: inline;\">Layer4: sub</h4>\n",
       "        </summary>\n",
       "        <p style=\"color: var(--jp-ui-font-color2, #5D5851); margin: -0.25em 0px 0px 0px;\">\n",
       "            sub-093fe9c8396bd9974170f9e9861562cf\n",
       "        </p>\n",
       "\n",
       "        <table>\n",
       "        <tr>\n",
       "            <td>\n",
       "                <table>\n",
       "                \n",
       "                    <tr>\n",
       "                        <th style=\"text-align: left; width: 150px;\">layer_type</th>\n",
       "                        <td style=\"text-align: left;\">Blockwise</td>\n",
       "                    </tr>\n",
       "                \n",
       "                    <tr>\n",
       "                        <th style=\"text-align: left; width: 150px;\">is_materialized</th>\n",
       "                        <td style=\"text-align: left;\">False</td>\n",
       "                    </tr>\n",
       "                \n",
       "                    <tr>\n",
       "                        <th style=\"text-align: left; width: 150px;\">number of outputs</th>\n",
       "                        <td style=\"text-align: left;\">192</td>\n",
       "                    </tr>\n",
       "                \n",
       "                    <tr>\n",
       "                        <th style=\"text-align: left; width: 150px;\">shape</th>\n",
       "                        <td style=\"text-align: left;\">(4000, 2000, 1680)</td>\n",
       "                    </tr>\n",
       "                \n",
       "                    <tr>\n",
       "                        <th style=\"text-align: left; width: 150px;\">dtype</th>\n",
       "                        <td style=\"text-align: left;\">float64</td>\n",
       "                    </tr>\n",
       "                \n",
       "                    <tr>\n",
       "                        <th style=\"text-align: left; width: 150px;\">chunksize</th>\n",
       "                        <td style=\"text-align: left;\">(1000, 500, 140)</td>\n",
       "                    </tr>\n",
       "                \n",
       "                    <tr>\n",
       "                        <th style=\"text-align: left; width: 150px;\">type</th>\n",
       "                        <td style=\"text-align: left;\">dask.array.core.Array</td>\n",
       "                    </tr>\n",
       "                \n",
       "                    <tr>\n",
       "                        <th style=\"text-align: left; width: 150px;\">chunk_type</th>\n",
       "                        <td style=\"text-align: left;\">cupy._core.core.ndarray</td>\n",
       "                    </tr>\n",
       "                \n",
       "                </table>\n",
       "            </td>\n",
       "            <td>\n",
       "                <svg width=\"261\" height=\"267\" style=\"stroke:rgb(0,0,0);stroke-width:1\" >\n",
       "\n",
       "  <!-- Horizontal lines -->\n",
       "  <line x1=\"10\" y1=\"0\" x2=\"127\" y2=\"117\" style=\"stroke-width:2\" />\n",
       "  <line x1=\"10\" y1=\"25\" x2=\"127\" y2=\"142\" />\n",
       "  <line x1=\"10\" y1=\"50\" x2=\"127\" y2=\"167\" />\n",
       "  <line x1=\"10\" y1=\"75\" x2=\"127\" y2=\"192\" />\n",
       "  <line x1=\"10\" y1=\"100\" x2=\"127\" y2=\"217\" style=\"stroke-width:2\" />\n",
       "\n",
       "  <!-- Vertical lines -->\n",
       "  <line x1=\"10\" y1=\"0\" x2=\"10\" y2=\"100\" style=\"stroke-width:2\" />\n",
       "  <line x1=\"39\" y1=\"29\" x2=\"39\" y2=\"129\" />\n",
       "  <line x1=\"68\" y1=\"58\" x2=\"68\" y2=\"158\" />\n",
       "  <line x1=\"98\" y1=\"88\" x2=\"98\" y2=\"188\" />\n",
       "  <line x1=\"127\" y1=\"117\" x2=\"127\" y2=\"217\" style=\"stroke-width:2\" />\n",
       "\n",
       "  <!-- Colored Rectangle -->\n",
       "  <polygon points=\"10.0,0.0 127.64705882352942,117.64705882352942 127.64705882352942,217.64705882352942 10.0,100.0\" style=\"fill:#ECB172A0;stroke-width:0\"/>\n",
       "\n",
       "  <!-- Horizontal lines -->\n",
       "  <line x1=\"10\" y1=\"0\" x2=\"94\" y2=\"0\" style=\"stroke-width:2\" />\n",
       "  <line x1=\"39\" y1=\"29\" x2=\"123\" y2=\"29\" />\n",
       "  <line x1=\"68\" y1=\"58\" x2=\"152\" y2=\"58\" />\n",
       "  <line x1=\"98\" y1=\"88\" x2=\"182\" y2=\"88\" />\n",
       "  <line x1=\"127\" y1=\"117\" x2=\"211\" y2=\"117\" style=\"stroke-width:2\" />\n",
       "\n",
       "  <!-- Vertical lines -->\n",
       "  <line x1=\"10\" y1=\"0\" x2=\"127\" y2=\"117\" style=\"stroke-width:2\" />\n",
       "  <line x1=\"17\" y1=\"0\" x2=\"134\" y2=\"117\" />\n",
       "  <line x1=\"24\" y1=\"0\" x2=\"141\" y2=\"117\" />\n",
       "  <line x1=\"31\" y1=\"0\" x2=\"148\" y2=\"117\" />\n",
       "  <line x1=\"38\" y1=\"0\" x2=\"155\" y2=\"117\" />\n",
       "  <line x1=\"45\" y1=\"0\" x2=\"162\" y2=\"117\" />\n",
       "  <line x1=\"52\" y1=\"0\" x2=\"169\" y2=\"117\" />\n",
       "  <line x1=\"59\" y1=\"0\" x2=\"176\" y2=\"117\" />\n",
       "  <line x1=\"66\" y1=\"0\" x2=\"183\" y2=\"117\" />\n",
       "  <line x1=\"73\" y1=\"0\" x2=\"190\" y2=\"117\" />\n",
       "  <line x1=\"80\" y1=\"0\" x2=\"197\" y2=\"117\" />\n",
       "  <line x1=\"87\" y1=\"0\" x2=\"204\" y2=\"117\" />\n",
       "  <line x1=\"94\" y1=\"0\" x2=\"211\" y2=\"117\" style=\"stroke-width:2\" />\n",
       "\n",
       "  <!-- Colored Rectangle -->\n",
       "  <polygon points=\"10.0,0.0 94.0,0.0 211.64705882352942,117.64705882352942 127.64705882352942,117.64705882352942\" style=\"fill:#ECB172A0;stroke-width:0\"/>\n",
       "\n",
       "  <!-- Horizontal lines -->\n",
       "  <line x1=\"127\" y1=\"117\" x2=\"211\" y2=\"117\" style=\"stroke-width:2\" />\n",
       "  <line x1=\"127\" y1=\"142\" x2=\"211\" y2=\"142\" />\n",
       "  <line x1=\"127\" y1=\"167\" x2=\"211\" y2=\"167\" />\n",
       "  <line x1=\"127\" y1=\"192\" x2=\"211\" y2=\"192\" />\n",
       "  <line x1=\"127\" y1=\"217\" x2=\"211\" y2=\"217\" style=\"stroke-width:2\" />\n",
       "\n",
       "  <!-- Vertical lines -->\n",
       "  <line x1=\"127\" y1=\"117\" x2=\"127\" y2=\"217\" style=\"stroke-width:2\" />\n",
       "  <line x1=\"134\" y1=\"117\" x2=\"134\" y2=\"217\" />\n",
       "  <line x1=\"141\" y1=\"117\" x2=\"141\" y2=\"217\" />\n",
       "  <line x1=\"148\" y1=\"117\" x2=\"148\" y2=\"217\" />\n",
       "  <line x1=\"155\" y1=\"117\" x2=\"155\" y2=\"217\" />\n",
       "  <line x1=\"162\" y1=\"117\" x2=\"162\" y2=\"217\" />\n",
       "  <line x1=\"169\" y1=\"117\" x2=\"169\" y2=\"217\" />\n",
       "  <line x1=\"176\" y1=\"117\" x2=\"176\" y2=\"217\" />\n",
       "  <line x1=\"183\" y1=\"117\" x2=\"183\" y2=\"217\" />\n",
       "  <line x1=\"190\" y1=\"117\" x2=\"190\" y2=\"217\" />\n",
       "  <line x1=\"197\" y1=\"117\" x2=\"197\" y2=\"217\" />\n",
       "  <line x1=\"204\" y1=\"117\" x2=\"204\" y2=\"217\" />\n",
       "  <line x1=\"211\" y1=\"117\" x2=\"211\" y2=\"217\" style=\"stroke-width:2\" />\n",
       "\n",
       "  <!-- Colored Rectangle -->\n",
       "  <polygon points=\"127.64705882352942,117.64705882352942 211.64705882352942,117.64705882352942 211.64705882352942,217.64705882352942 127.64705882352942,217.64705882352942\" style=\"fill:#ECB172A0;stroke-width:0\"/>\n",
       "\n",
       "  <!-- Text -->\n",
       "  <text x=\"169.647059\" y=\"237.647059\" font-size=\"1.0rem\" font-weight=\"100\" text-anchor=\"middle\" >1680</text>\n",
       "  <text x=\"231.647059\" y=\"167.647059\" font-size=\"1.0rem\" font-weight=\"100\" text-anchor=\"middle\" transform=\"rotate(-90,231.647059,167.647059)\">2000</text>\n",
       "  <text x=\"58.823529\" y=\"178.823529\" font-size=\"1.0rem\" font-weight=\"100\" text-anchor=\"middle\" transform=\"rotate(45,58.823529,178.823529)\">4000</text>\n",
       "</svg>\n",
       "            </td>\n",
       "        </tr>\n",
       "        </table>\n",
       "\n",
       "    </details>\n",
       "</div>\n",
       "            \n",
       "            <div style=\"\">\n",
       "    <svg width=\"24\" height=\"24\" viewBox=\"0 0 32 32\" fill=\"none\" xmlns=\"http://www.w3.org/2000/svg\" style=\"position: absolute;\">\n",
       "        \n",
       "        <circle cx=\"16\" cy=\"16\" r=\"14\" style=\"stroke: var(--jp-ui-font-color2, #1D1D1D); fill: var(--jp-layout-color1, #F2F2F2);\" stroke-width=\"2\" />\n",
       "        \n",
       "    </svg>\n",
       "\n",
       "    <details style=\"margin-left: 32px;\">\n",
       "        <summary style=\"margin-bottom: 10px; margin-top: 10px;\">\n",
       "            <h4 style=\"display: inline;\">Layer5: mean_chunk</h4>\n",
       "        </summary>\n",
       "        <p style=\"color: var(--jp-ui-font-color2, #5D5851); margin: -0.25em 0px 0px 0px;\">\n",
       "            mean_chunk-531ead781e91c7fa6a7e1202e6f60623\n",
       "        </p>\n",
       "\n",
       "        <table>\n",
       "        <tr>\n",
       "            <td>\n",
       "                <table>\n",
       "                \n",
       "                    <tr>\n",
       "                        <th style=\"text-align: left; width: 150px;\">layer_type</th>\n",
       "                        <td style=\"text-align: left;\">Blockwise</td>\n",
       "                    </tr>\n",
       "                \n",
       "                    <tr>\n",
       "                        <th style=\"text-align: left; width: 150px;\">is_materialized</th>\n",
       "                        <td style=\"text-align: left;\">False</td>\n",
       "                    </tr>\n",
       "                \n",
       "                    <tr>\n",
       "                        <th style=\"text-align: left; width: 150px;\">number of outputs</th>\n",
       "                        <td style=\"text-align: left;\">192</td>\n",
       "                    </tr>\n",
       "                \n",
       "                    <tr>\n",
       "                        <th style=\"text-align: left; width: 150px;\">shape</th>\n",
       "                        <td style=\"text-align: left;\">(4000, 2000, 1680)</td>\n",
       "                    </tr>\n",
       "                \n",
       "                    <tr>\n",
       "                        <th style=\"text-align: left; width: 150px;\">dtype</th>\n",
       "                        <td style=\"text-align: left;\">float64</td>\n",
       "                    </tr>\n",
       "                \n",
       "                    <tr>\n",
       "                        <th style=\"text-align: left; width: 150px;\">chunksize</th>\n",
       "                        <td style=\"text-align: left;\">(1000, 500, 140)</td>\n",
       "                    </tr>\n",
       "                \n",
       "                    <tr>\n",
       "                        <th style=\"text-align: left; width: 150px;\">type</th>\n",
       "                        <td style=\"text-align: left;\">dask.array.core.Array</td>\n",
       "                    </tr>\n",
       "                \n",
       "                    <tr>\n",
       "                        <th style=\"text-align: left; width: 150px;\">chunk_type</th>\n",
       "                        <td style=\"text-align: left;\">cupy._core.core.ndarray</td>\n",
       "                    </tr>\n",
       "                \n",
       "                </table>\n",
       "            </td>\n",
       "            <td>\n",
       "                <svg width=\"261\" height=\"267\" style=\"stroke:rgb(0,0,0);stroke-width:1\" >\n",
       "\n",
       "  <!-- Horizontal lines -->\n",
       "  <line x1=\"10\" y1=\"0\" x2=\"127\" y2=\"117\" style=\"stroke-width:2\" />\n",
       "  <line x1=\"10\" y1=\"25\" x2=\"127\" y2=\"142\" />\n",
       "  <line x1=\"10\" y1=\"50\" x2=\"127\" y2=\"167\" />\n",
       "  <line x1=\"10\" y1=\"75\" x2=\"127\" y2=\"192\" />\n",
       "  <line x1=\"10\" y1=\"100\" x2=\"127\" y2=\"217\" style=\"stroke-width:2\" />\n",
       "\n",
       "  <!-- Vertical lines -->\n",
       "  <line x1=\"10\" y1=\"0\" x2=\"10\" y2=\"100\" style=\"stroke-width:2\" />\n",
       "  <line x1=\"39\" y1=\"29\" x2=\"39\" y2=\"129\" />\n",
       "  <line x1=\"68\" y1=\"58\" x2=\"68\" y2=\"158\" />\n",
       "  <line x1=\"98\" y1=\"88\" x2=\"98\" y2=\"188\" />\n",
       "  <line x1=\"127\" y1=\"117\" x2=\"127\" y2=\"217\" style=\"stroke-width:2\" />\n",
       "\n",
       "  <!-- Colored Rectangle -->\n",
       "  <polygon points=\"10.0,0.0 127.64705882352942,117.64705882352942 127.64705882352942,217.64705882352942 10.0,100.0\" style=\"fill:#ECB172A0;stroke-width:0\"/>\n",
       "\n",
       "  <!-- Horizontal lines -->\n",
       "  <line x1=\"10\" y1=\"0\" x2=\"94\" y2=\"0\" style=\"stroke-width:2\" />\n",
       "  <line x1=\"39\" y1=\"29\" x2=\"123\" y2=\"29\" />\n",
       "  <line x1=\"68\" y1=\"58\" x2=\"152\" y2=\"58\" />\n",
       "  <line x1=\"98\" y1=\"88\" x2=\"182\" y2=\"88\" />\n",
       "  <line x1=\"127\" y1=\"117\" x2=\"211\" y2=\"117\" style=\"stroke-width:2\" />\n",
       "\n",
       "  <!-- Vertical lines -->\n",
       "  <line x1=\"10\" y1=\"0\" x2=\"127\" y2=\"117\" style=\"stroke-width:2\" />\n",
       "  <line x1=\"17\" y1=\"0\" x2=\"134\" y2=\"117\" />\n",
       "  <line x1=\"24\" y1=\"0\" x2=\"141\" y2=\"117\" />\n",
       "  <line x1=\"31\" y1=\"0\" x2=\"148\" y2=\"117\" />\n",
       "  <line x1=\"38\" y1=\"0\" x2=\"155\" y2=\"117\" />\n",
       "  <line x1=\"45\" y1=\"0\" x2=\"162\" y2=\"117\" />\n",
       "  <line x1=\"52\" y1=\"0\" x2=\"169\" y2=\"117\" />\n",
       "  <line x1=\"59\" y1=\"0\" x2=\"176\" y2=\"117\" />\n",
       "  <line x1=\"66\" y1=\"0\" x2=\"183\" y2=\"117\" />\n",
       "  <line x1=\"73\" y1=\"0\" x2=\"190\" y2=\"117\" />\n",
       "  <line x1=\"80\" y1=\"0\" x2=\"197\" y2=\"117\" />\n",
       "  <line x1=\"87\" y1=\"0\" x2=\"204\" y2=\"117\" />\n",
       "  <line x1=\"94\" y1=\"0\" x2=\"211\" y2=\"117\" style=\"stroke-width:2\" />\n",
       "\n",
       "  <!-- Colored Rectangle -->\n",
       "  <polygon points=\"10.0,0.0 94.0,0.0 211.64705882352942,117.64705882352942 127.64705882352942,117.64705882352942\" style=\"fill:#ECB172A0;stroke-width:0\"/>\n",
       "\n",
       "  <!-- Horizontal lines -->\n",
       "  <line x1=\"127\" y1=\"117\" x2=\"211\" y2=\"117\" style=\"stroke-width:2\" />\n",
       "  <line x1=\"127\" y1=\"142\" x2=\"211\" y2=\"142\" />\n",
       "  <line x1=\"127\" y1=\"167\" x2=\"211\" y2=\"167\" />\n",
       "  <line x1=\"127\" y1=\"192\" x2=\"211\" y2=\"192\" />\n",
       "  <line x1=\"127\" y1=\"217\" x2=\"211\" y2=\"217\" style=\"stroke-width:2\" />\n",
       "\n",
       "  <!-- Vertical lines -->\n",
       "  <line x1=\"127\" y1=\"117\" x2=\"127\" y2=\"217\" style=\"stroke-width:2\" />\n",
       "  <line x1=\"134\" y1=\"117\" x2=\"134\" y2=\"217\" />\n",
       "  <line x1=\"141\" y1=\"117\" x2=\"141\" y2=\"217\" />\n",
       "  <line x1=\"148\" y1=\"117\" x2=\"148\" y2=\"217\" />\n",
       "  <line x1=\"155\" y1=\"117\" x2=\"155\" y2=\"217\" />\n",
       "  <line x1=\"162\" y1=\"117\" x2=\"162\" y2=\"217\" />\n",
       "  <line x1=\"169\" y1=\"117\" x2=\"169\" y2=\"217\" />\n",
       "  <line x1=\"176\" y1=\"117\" x2=\"176\" y2=\"217\" />\n",
       "  <line x1=\"183\" y1=\"117\" x2=\"183\" y2=\"217\" />\n",
       "  <line x1=\"190\" y1=\"117\" x2=\"190\" y2=\"217\" />\n",
       "  <line x1=\"197\" y1=\"117\" x2=\"197\" y2=\"217\" />\n",
       "  <line x1=\"204\" y1=\"117\" x2=\"204\" y2=\"217\" />\n",
       "  <line x1=\"211\" y1=\"117\" x2=\"211\" y2=\"217\" style=\"stroke-width:2\" />\n",
       "\n",
       "  <!-- Colored Rectangle -->\n",
       "  <polygon points=\"127.64705882352942,117.64705882352942 211.64705882352942,117.64705882352942 211.64705882352942,217.64705882352942 127.64705882352942,217.64705882352942\" style=\"fill:#ECB172A0;stroke-width:0\"/>\n",
       "\n",
       "  <!-- Text -->\n",
       "  <text x=\"169.647059\" y=\"237.647059\" font-size=\"1.0rem\" font-weight=\"100\" text-anchor=\"middle\" >1680</text>\n",
       "  <text x=\"231.647059\" y=\"167.647059\" font-size=\"1.0rem\" font-weight=\"100\" text-anchor=\"middle\" transform=\"rotate(-90,231.647059,167.647059)\">2000</text>\n",
       "  <text x=\"58.823529\" y=\"178.823529\" font-size=\"1.0rem\" font-weight=\"100\" text-anchor=\"middle\" transform=\"rotate(45,58.823529,178.823529)\">4000</text>\n",
       "</svg>\n",
       "            </td>\n",
       "        </tr>\n",
       "        </table>\n",
       "\n",
       "    </details>\n",
       "</div>\n",
       "            \n",
       "            <div style=\"\">\n",
       "    <svg width=\"24\" height=\"24\" viewBox=\"0 0 32 32\" fill=\"none\" xmlns=\"http://www.w3.org/2000/svg\" style=\"position: absolute;\">\n",
       "        \n",
       "        <circle cx=\"16\" cy=\"16\" r=\"14\" fill=\"#8F8F8F\" style=\"stroke: var(--jp-ui-font-color2, #1D1D1D);\" stroke-width=\"2\"/>\n",
       "        \n",
       "    </svg>\n",
       "\n",
       "    <details style=\"margin-left: 32px;\">\n",
       "        <summary style=\"margin-bottom: 10px; margin-top: 10px;\">\n",
       "            <h4 style=\"display: inline;\">Layer6: mean_combine-partial</h4>\n",
       "        </summary>\n",
       "        <p style=\"color: var(--jp-ui-font-color2, #5D5851); margin: -0.25em 0px 0px 0px;\">\n",
       "            mean_combine-partial-755fbbc74e3e8418a15be3fa795b0520\n",
       "        </p>\n",
       "\n",
       "        <table>\n",
       "        <tr>\n",
       "            <td>\n",
       "                <table>\n",
       "                \n",
       "                    <tr>\n",
       "                        <th style=\"text-align: left; width: 150px;\">layer_type</th>\n",
       "                        <td style=\"text-align: left;\">MaterializedLayer</td>\n",
       "                    </tr>\n",
       "                \n",
       "                    <tr>\n",
       "                        <th style=\"text-align: left; width: 150px;\">is_materialized</th>\n",
       "                        <td style=\"text-align: left;\">True</td>\n",
       "                    </tr>\n",
       "                \n",
       "                    <tr>\n",
       "                        <th style=\"text-align: left; width: 150px;\">number of outputs</th>\n",
       "                        <td style=\"text-align: left;\">48</td>\n",
       "                    </tr>\n",
       "                \n",
       "                    <tr>\n",
       "                        <th style=\"text-align: left; width: 150px;\">shape</th>\n",
       "                        <td style=\"text-align: left;\">(4000, 2000, 3)</td>\n",
       "                    </tr>\n",
       "                \n",
       "                    <tr>\n",
       "                        <th style=\"text-align: left; width: 150px;\">dtype</th>\n",
       "                        <td style=\"text-align: left;\">float64</td>\n",
       "                    </tr>\n",
       "                \n",
       "                    <tr>\n",
       "                        <th style=\"text-align: left; width: 150px;\">chunksize</th>\n",
       "                        <td style=\"text-align: left;\">(1000, 500, 1)</td>\n",
       "                    </tr>\n",
       "                \n",
       "                    <tr>\n",
       "                        <th style=\"text-align: left; width: 150px;\">type</th>\n",
       "                        <td style=\"text-align: left;\">dask.array.core.Array</td>\n",
       "                    </tr>\n",
       "                \n",
       "                    <tr>\n",
       "                        <th style=\"text-align: left; width: 150px;\">chunk_type</th>\n",
       "                        <td style=\"text-align: left;\">cupy._core.core.ndarray</td>\n",
       "                    </tr>\n",
       "                \n",
       "                </table>\n",
       "            </td>\n",
       "            <td>\n",
       "                <svg width=\"220\" height=\"267\" style=\"stroke:rgb(0,0,0);stroke-width:1\" >\n",
       "\n",
       "  <!-- Horizontal lines -->\n",
       "  <line x1=\"10\" y1=\"0\" x2=\"127\" y2=\"117\" style=\"stroke-width:2\" />\n",
       "  <line x1=\"10\" y1=\"25\" x2=\"127\" y2=\"142\" />\n",
       "  <line x1=\"10\" y1=\"50\" x2=\"127\" y2=\"167\" />\n",
       "  <line x1=\"10\" y1=\"75\" x2=\"127\" y2=\"192\" />\n",
       "  <line x1=\"10\" y1=\"100\" x2=\"127\" y2=\"217\" style=\"stroke-width:2\" />\n",
       "\n",
       "  <!-- Vertical lines -->\n",
       "  <line x1=\"10\" y1=\"0\" x2=\"10\" y2=\"100\" style=\"stroke-width:2\" />\n",
       "  <line x1=\"39\" y1=\"29\" x2=\"39\" y2=\"129\" />\n",
       "  <line x1=\"68\" y1=\"58\" x2=\"68\" y2=\"158\" />\n",
       "  <line x1=\"98\" y1=\"88\" x2=\"98\" y2=\"188\" />\n",
       "  <line x1=\"127\" y1=\"117\" x2=\"127\" y2=\"217\" style=\"stroke-width:2\" />\n",
       "\n",
       "  <!-- Colored Rectangle -->\n",
       "  <polygon points=\"10.0,0.0 127.64705882352942,117.64705882352942 127.64705882352942,217.64705882352942 10.0,100.0\" style=\"fill:#ECB172A0;stroke-width:0\"/>\n",
       "\n",
       "  <!-- Horizontal lines -->\n",
       "  <line x1=\"10\" y1=\"0\" x2=\"52\" y2=\"0\" style=\"stroke-width:2\" />\n",
       "  <line x1=\"39\" y1=\"29\" x2=\"81\" y2=\"29\" />\n",
       "  <line x1=\"68\" y1=\"58\" x2=\"111\" y2=\"58\" />\n",
       "  <line x1=\"98\" y1=\"88\" x2=\"140\" y2=\"88\" />\n",
       "  <line x1=\"127\" y1=\"117\" x2=\"170\" y2=\"117\" style=\"stroke-width:2\" />\n",
       "\n",
       "  <!-- Vertical lines -->\n",
       "  <line x1=\"10\" y1=\"0\" x2=\"127\" y2=\"117\" style=\"stroke-width:2\" />\n",
       "  <line x1=\"24\" y1=\"0\" x2=\"141\" y2=\"117\" />\n",
       "  <line x1=\"38\" y1=\"0\" x2=\"155\" y2=\"117\" />\n",
       "  <line x1=\"52\" y1=\"0\" x2=\"170\" y2=\"117\" style=\"stroke-width:2\" />\n",
       "\n",
       "  <!-- Colored Rectangle -->\n",
       "  <polygon points=\"10.0,0.0 52.354360857637474,0.0 170.0014196811669,117.64705882352942 127.64705882352942,117.64705882352942\" style=\"fill:#ECB172A0;stroke-width:0\"/>\n",
       "\n",
       "  <!-- Horizontal lines -->\n",
       "  <line x1=\"127\" y1=\"117\" x2=\"170\" y2=\"117\" style=\"stroke-width:2\" />\n",
       "  <line x1=\"127\" y1=\"142\" x2=\"170\" y2=\"142\" />\n",
       "  <line x1=\"127\" y1=\"167\" x2=\"170\" y2=\"167\" />\n",
       "  <line x1=\"127\" y1=\"192\" x2=\"170\" y2=\"192\" />\n",
       "  <line x1=\"127\" y1=\"217\" x2=\"170\" y2=\"217\" style=\"stroke-width:2\" />\n",
       "\n",
       "  <!-- Vertical lines -->\n",
       "  <line x1=\"127\" y1=\"117\" x2=\"127\" y2=\"217\" style=\"stroke-width:2\" />\n",
       "  <line x1=\"141\" y1=\"117\" x2=\"141\" y2=\"217\" />\n",
       "  <line x1=\"155\" y1=\"117\" x2=\"155\" y2=\"217\" />\n",
       "  <line x1=\"170\" y1=\"117\" x2=\"170\" y2=\"217\" style=\"stroke-width:2\" />\n",
       "\n",
       "  <!-- Colored Rectangle -->\n",
       "  <polygon points=\"127.64705882352942,117.64705882352942 170.0014196811669,117.64705882352942 170.0014196811669,217.64705882352942 127.64705882352942,217.64705882352942\" style=\"fill:#ECB172A0;stroke-width:0\"/>\n",
       "\n",
       "  <!-- Text -->\n",
       "  <text x=\"148.824239\" y=\"237.647059\" font-size=\"1.0rem\" font-weight=\"100\" text-anchor=\"middle\" >3</text>\n",
       "  <text x=\"190.001420\" y=\"167.647059\" font-size=\"1.0rem\" font-weight=\"100\" text-anchor=\"middle\" transform=\"rotate(-90,190.001420,167.647059)\">2000</text>\n",
       "  <text x=\"58.823529\" y=\"178.823529\" font-size=\"1.0rem\" font-weight=\"100\" text-anchor=\"middle\" transform=\"rotate(45,58.823529,178.823529)\">4000</text>\n",
       "</svg>\n",
       "            </td>\n",
       "        </tr>\n",
       "        </table>\n",
       "\n",
       "    </details>\n",
       "</div>\n",
       "            \n",
       "            <div style=\"\">\n",
       "    <svg width=\"24\" height=\"24\" viewBox=\"0 0 32 32\" fill=\"none\" xmlns=\"http://www.w3.org/2000/svg\" style=\"position: absolute;\">\n",
       "        \n",
       "        <circle cx=\"16\" cy=\"16\" r=\"14\" fill=\"#8F8F8F\" style=\"stroke: var(--jp-ui-font-color2, #1D1D1D);\" stroke-width=\"2\"/>\n",
       "        \n",
       "    </svg>\n",
       "\n",
       "    <details style=\"margin-left: 32px;\">\n",
       "        <summary style=\"margin-bottom: 10px; margin-top: 10px;\">\n",
       "            <h4 style=\"display: inline;\">Layer7: mean_agg-aggregate</h4>\n",
       "        </summary>\n",
       "        <p style=\"color: var(--jp-ui-font-color2, #5D5851); margin: -0.25em 0px 0px 0px;\">\n",
       "            mean_agg-aggregate-6271223e55f4c885b20b0e134ec94962\n",
       "        </p>\n",
       "\n",
       "        <table>\n",
       "        <tr>\n",
       "            <td>\n",
       "                <table>\n",
       "                \n",
       "                    <tr>\n",
       "                        <th style=\"text-align: left; width: 150px;\">layer_type</th>\n",
       "                        <td style=\"text-align: left;\">MaterializedLayer</td>\n",
       "                    </tr>\n",
       "                \n",
       "                    <tr>\n",
       "                        <th style=\"text-align: left; width: 150px;\">is_materialized</th>\n",
       "                        <td style=\"text-align: left;\">True</td>\n",
       "                    </tr>\n",
       "                \n",
       "                    <tr>\n",
       "                        <th style=\"text-align: left; width: 150px;\">number of outputs</th>\n",
       "                        <td style=\"text-align: left;\">16</td>\n",
       "                    </tr>\n",
       "                \n",
       "                    <tr>\n",
       "                        <th style=\"text-align: left; width: 150px;\">shape</th>\n",
       "                        <td style=\"text-align: left;\">(4000, 2000)</td>\n",
       "                    </tr>\n",
       "                \n",
       "                    <tr>\n",
       "                        <th style=\"text-align: left; width: 150px;\">dtype</th>\n",
       "                        <td style=\"text-align: left;\">float64</td>\n",
       "                    </tr>\n",
       "                \n",
       "                    <tr>\n",
       "                        <th style=\"text-align: left; width: 150px;\">chunksize</th>\n",
       "                        <td style=\"text-align: left;\">(1000, 500)</td>\n",
       "                    </tr>\n",
       "                \n",
       "                    <tr>\n",
       "                        <th style=\"text-align: left; width: 150px;\">type</th>\n",
       "                        <td style=\"text-align: left;\">dask.array.core.Array</td>\n",
       "                    </tr>\n",
       "                \n",
       "                    <tr>\n",
       "                        <th style=\"text-align: left; width: 150px;\">chunk_type</th>\n",
       "                        <td style=\"text-align: left;\">cupy._core.core.ndarray</td>\n",
       "                    </tr>\n",
       "                \n",
       "                </table>\n",
       "            </td>\n",
       "            <td>\n",
       "                <svg width=\"150\" height=\"250\" style=\"stroke:rgb(0,0,0);stroke-width:1\" >\n",
       "\n",
       "  <!-- Horizontal lines -->\n",
       "  <line x1=\"0\" y1=\"0\" x2=\"100\" y2=\"0\" style=\"stroke-width:2\" />\n",
       "  <line x1=\"0\" y1=\"50\" x2=\"100\" y2=\"50\" />\n",
       "  <line x1=\"0\" y1=\"100\" x2=\"100\" y2=\"100\" />\n",
       "  <line x1=\"0\" y1=\"150\" x2=\"100\" y2=\"150\" />\n",
       "  <line x1=\"0\" y1=\"200\" x2=\"100\" y2=\"200\" style=\"stroke-width:2\" />\n",
       "\n",
       "  <!-- Vertical lines -->\n",
       "  <line x1=\"0\" y1=\"0\" x2=\"0\" y2=\"200\" style=\"stroke-width:2\" />\n",
       "  <line x1=\"25\" y1=\"0\" x2=\"25\" y2=\"200\" />\n",
       "  <line x1=\"50\" y1=\"0\" x2=\"50\" y2=\"200\" />\n",
       "  <line x1=\"75\" y1=\"0\" x2=\"75\" y2=\"200\" />\n",
       "  <line x1=\"100\" y1=\"0\" x2=\"100\" y2=\"200\" style=\"stroke-width:2\" />\n",
       "\n",
       "  <!-- Colored Rectangle -->\n",
       "  <polygon points=\"0.0,0.0 100.0,0.0 100.0,200.0 0.0,200.0\" style=\"fill:#ECB172A0;stroke-width:0\"/>\n",
       "\n",
       "  <!-- Text -->\n",
       "  <text x=\"50.000000\" y=\"220.000000\" font-size=\"1.0rem\" font-weight=\"100\" text-anchor=\"middle\" >2000</text>\n",
       "  <text x=\"120.000000\" y=\"100.000000\" font-size=\"1.0rem\" font-weight=\"100\" text-anchor=\"middle\" transform=\"rotate(-90,120.000000,100.000000)\">4000</text>\n",
       "</svg>\n",
       "            </td>\n",
       "        </tr>\n",
       "        </table>\n",
       "\n",
       "    </details>\n",
       "</div>\n",
       "            \n",
       "        </div>\n",
       "    </div>\n",
       "</div>"
      ],
      "text/plain": [
       "HighLevelGraph with 7 layers.\n",
       "<dask.highlevelgraph.HighLevelGraph object at 0x2afc9e63e820>\n",
       " 0. array-2d6d607525c93a60d3ebad8394f5ac20\n",
       " 1. asarray-0bb0329305b0a5ad59d3ae1aa871cf9b\n",
       " 2. concatenate-24ceb3de61d0b0ff573788d6cb562fe3\n",
       " 3. sub-093fe9c8396bd9974170f9e9861562cf\n",
       " 4. mean_chunk-531ead781e91c7fa6a7e1202e6f60623\n",
       " 5. mean_combine-partial-755fbbc74e3e8418a15be3fa795b0520\n",
       " 6. mean_agg-aggregate-6271223e55f4c885b20b0e134ec94962"
      ]
     },
     "execution_count": 36,
     "metadata": {},
     "output_type": "execute_result"
    }
   ],
   "source": [
    "tg.dask"
   ]
  },
  {
   "cell_type": "markdown",
   "id": "761d3d8e-fd4c-40c0-bdbb-0f9365a44368",
   "metadata": {},
   "source": [
    "Using the above attribute, we can see the tasks that Dask will run, but remember, it does not actually perform any computation (*or even map our CPU array into GPU memory*) until we run `.compute()`."
   ]
  },
  {
   "cell_type": "code",
   "execution_count": 37,
   "id": "46796830-8354-424e-8e30-f57cec6f659b",
   "metadata": {},
   "outputs": [
    {
     "name": "stdout",
     "output_type": "stream",
     "text": [
      "CPU times: user 2.63 s, sys: 9.96 s, total: 12.6 s\n",
      "Wall time: 18.1 s\n"
     ]
    }
   ],
   "source": [
    "%%time\n",
    "dg_means = tg.compute()"
   ]
  },
  {
   "cell_type": "code",
   "execution_count": 38,
   "id": "a51f1d0c-c4dd-4371-ab7b-20549d893d2f",
   "metadata": {},
   "outputs": [],
   "source": [
    "del dg_means"
   ]
  },
  {
   "cell_type": "code",
   "execution_count": 39,
   "id": "9e248797-8a69-4a03-9014-15df7e58c2a6",
   "metadata": {},
   "outputs": [],
   "source": [
    "client.shutdown()"
   ]
  },
  {
   "cell_type": "code",
   "execution_count": 40,
   "id": "9e9cddd5-ca08-427d-9586-c0cf956e66d0",
   "metadata": {},
   "outputs": [],
   "source": [
    "del client, cluster"
   ]
  },
  {
   "cell_type": "markdown",
   "id": "e0e5eb40-46b9-4e6c-bc8b-5d9d7ffc1ecd",
   "metadata": {},
   "source": [
    "### Scheduling GPUs with `dask-jobqueue`\n",
    "\n",
    "In this workflow, we use a scheduler cluster object like `PBSCluster` to submit batch jobs to run single workers. This cluster is often easier to augment with GPUs, as we only need to make a few tweaks to our worker resource specification and GPU pinning to each worker is done implicitly through job GPU assignment."
   ]
  },
  {
   "cell_type": "markdown",
   "id": "b9917c09-1f2d-4118-88b2-e2af18331bcc",
   "metadata": {},
   "source": [
    "#### Consider the following distributed CPU code\n",
    "\n",
    "```python\n",
    "from dask_jobqueue import PBSCluster\n",
    "from dask.distributed import Client\n",
    "\n",
    "cluster = PBSCluster(\n",
    "    cores=1,\n",
    "    memory='35GiB',\n",
    "    processes=1,\n",
    "    resource_spec='select=1:ncpus=1:mem=35GB',\n",
    "    queue='casper',\n",
    "    walltime='10:00',\n",
    "    interface='ib0'\n",
    ")\n",
    "```\n",
    "\n",
    "#### Let's modify it to create GPU workers from dask_jobqueue import PBSCluster"
   ]
  },
  {
   "cell_type": "code",
   "execution_count": 41,
   "id": "80916dc5-0d5b-43fa-9e85-689d318aa00a",
   "metadata": {},
   "outputs": [],
   "source": [
    "from dask_jobqueue import PBSCluster\n",
    "from dask.distributed import Client\n",
    "\n",
    "cluster = PBSCluster(\n",
    "    cores=1,\n",
    "    memory='35GiB',\n",
    "    processes=1,\n",
    "    resource_spec='select=1:ncpus=1:mem=35GB:ngpus=1',\n",
    "    job_extra=['-l gpu_type=a100'],\n",
    "    queue='preview',\n",
    "    walltime='10:00',\n",
    "    interface='ib0'\n",
    ")"
   ]
  },
  {
   "cell_type": "code",
   "execution_count": 42,
   "id": "67f4256c-f0dc-464c-ad51-aa97f3733b29",
   "metadata": {},
   "outputs": [
    {
     "name": "stdout",
     "output_type": "stream",
     "text": [
      "#!/usr/bin/env bash\n",
      "\n",
      "#PBS -N dask-worker\n",
      "#PBS -q preview\n",
      "#PBS -A SCSG0001\n",
      "#PBS -l select=1:ncpus=1:mem=35GB:ngpus=1\n",
      "#PBS -l walltime=10:00\n",
      "#PBS -e dask-worker-logs/\n",
      "#PBS -o dask-worker-logs/\n",
      "#PBS -l gpu_type=a100\n",
      "\n",
      "/glade/u/apps/opt/conda/envs/pygpu-dask/bin/python -m distributed.cli.dask_worker tcp://10.12.205.44:34094 --nthreads 1 --memory-limit 35.00GiB --name dummy-name --nanny --death-timeout 60 --local-directory /local_scratch/pbs.$PBS_JOBID/dask --interface ib0\n",
      "\n"
     ]
    }
   ],
   "source": [
    "print(cluster.job_script())"
   ]
  },
  {
   "cell_type": "code",
   "execution_count": 43,
   "id": "7a615d8a-3d22-4280-bc55-436a4f9230ae",
   "metadata": {},
   "outputs": [
    {
     "data": {
      "text/html": [
       "<div>\n",
       "    <div style=\"width: 24px; height: 24px; background-color: #e1e1e1; border: 3px solid #9D9D9D; border-radius: 5px; position: absolute;\"> </div>\n",
       "    <div style=\"margin-left: 48px;\">\n",
       "        <h3 style=\"margin-bottom: 0px;\">Client</h3>\n",
       "        <p style=\"color: #9D9D9D; margin-bottom: 0px;\">Client-c4f94dc6-1994-11ed-a439-3cecef0c464c</p>\n",
       "        <table style=\"width: 100%; text-align: left;\">\n",
       "\n",
       "        <tr>\n",
       "        \n",
       "            <td style=\"text-align: left;\"><strong>Connection method:</strong> Cluster object</td>\n",
       "            <td style=\"text-align: left;\"><strong>Cluster type:</strong> dask_jobqueue.PBSCluster</td>\n",
       "        \n",
       "        </tr>\n",
       "\n",
       "        \n",
       "            <tr>\n",
       "                <td style=\"text-align: left;\">\n",
       "                    <strong>Dashboard: </strong> <a href=\"https://jupyterhub.hpc.ucar.edu/stable/user/vanderwb/proxy/8787/status\" target=\"_blank\">https://jupyterhub.hpc.ucar.edu/stable/user/vanderwb/proxy/8787/status</a>\n",
       "                </td>\n",
       "                <td style=\"text-align: left;\"></td>\n",
       "            </tr>\n",
       "        \n",
       "\n",
       "        </table>\n",
       "\n",
       "        \n",
       "            <details>\n",
       "            <summary style=\"margin-bottom: 20px;\"><h3 style=\"display: inline;\">Cluster Info</h3></summary>\n",
       "            <div class=\"jp-RenderedHTMLCommon jp-RenderedHTML jp-mod-trusted jp-OutputArea-output\">\n",
       "    <div style=\"width: 24px; height: 24px; background-color: #e1e1e1; border: 3px solid #9D9D9D; border-radius: 5px; position: absolute;\">\n",
       "    </div>\n",
       "    <div style=\"margin-left: 48px;\">\n",
       "        <h3 style=\"margin-bottom: 0px; margin-top: 0px;\">PBSCluster</h3>\n",
       "        <p style=\"color: #9D9D9D; margin-bottom: 0px;\">daf52777</p>\n",
       "        <table style=\"width: 100%; text-align: left;\">\n",
       "            <tr>\n",
       "                <td style=\"text-align: left;\">\n",
       "                    <strong>Dashboard:</strong> <a href=\"https://jupyterhub.hpc.ucar.edu/stable/user/vanderwb/proxy/8787/status\" target=\"_blank\">https://jupyterhub.hpc.ucar.edu/stable/user/vanderwb/proxy/8787/status</a>\n",
       "                </td>\n",
       "                <td style=\"text-align: left;\">\n",
       "                    <strong>Workers:</strong> 0\n",
       "                </td>\n",
       "            </tr>\n",
       "            <tr>\n",
       "                <td style=\"text-align: left;\">\n",
       "                    <strong>Total threads:</strong> 0\n",
       "                </td>\n",
       "                <td style=\"text-align: left;\">\n",
       "                    <strong>Total memory:</strong> 0 B\n",
       "                </td>\n",
       "            </tr>\n",
       "            \n",
       "        </table>\n",
       "\n",
       "        <details>\n",
       "            <summary style=\"margin-bottom: 20px;\">\n",
       "                <h3 style=\"display: inline;\">Scheduler Info</h3>\n",
       "            </summary>\n",
       "\n",
       "            <div style=\"\">\n",
       "    <div>\n",
       "        <div style=\"width: 24px; height: 24px; background-color: #FFF7E5; border: 3px solid #FF6132; border-radius: 5px; position: absolute;\"> </div>\n",
       "        <div style=\"margin-left: 48px;\">\n",
       "            <h3 style=\"margin-bottom: 0px;\">Scheduler</h3>\n",
       "            <p style=\"color: #9D9D9D; margin-bottom: 0px;\">Scheduler-68abd810-d540-4fe5-9ac4-b49c94089f28</p>\n",
       "            <table style=\"width: 100%; text-align: left;\">\n",
       "                <tr>\n",
       "                    <td style=\"text-align: left;\">\n",
       "                        <strong>Comm:</strong> tcp://10.12.205.44:34094\n",
       "                    </td>\n",
       "                    <td style=\"text-align: left;\">\n",
       "                        <strong>Workers:</strong> 0\n",
       "                    </td>\n",
       "                </tr>\n",
       "                <tr>\n",
       "                    <td style=\"text-align: left;\">\n",
       "                        <strong>Dashboard:</strong> <a href=\"https://jupyterhub.hpc.ucar.edu/stable/user/vanderwb/proxy/8787/status\" target=\"_blank\">https://jupyterhub.hpc.ucar.edu/stable/user/vanderwb/proxy/8787/status</a>\n",
       "                    </td>\n",
       "                    <td style=\"text-align: left;\">\n",
       "                        <strong>Total threads:</strong> 0\n",
       "                    </td>\n",
       "                </tr>\n",
       "                <tr>\n",
       "                    <td style=\"text-align: left;\">\n",
       "                        <strong>Started:</strong> Just now\n",
       "                    </td>\n",
       "                    <td style=\"text-align: left;\">\n",
       "                        <strong>Total memory:</strong> 0 B\n",
       "                    </td>\n",
       "                </tr>\n",
       "            </table>\n",
       "        </div>\n",
       "    </div>\n",
       "\n",
       "    <details style=\"margin-left: 48px;\">\n",
       "        <summary style=\"margin-bottom: 20px;\">\n",
       "            <h3 style=\"display: inline;\">Workers</h3>\n",
       "        </summary>\n",
       "\n",
       "        \n",
       "\n",
       "    </details>\n",
       "</div>\n",
       "\n",
       "        </details>\n",
       "    </div>\n",
       "</div>\n",
       "            </details>\n",
       "        \n",
       "\n",
       "    </div>\n",
       "</div>"
      ],
      "text/plain": [
       "<Client: 'tcp://10.12.205.44:34094' processes=0 threads=0, memory=0 B>"
      ]
     },
     "execution_count": 43,
     "metadata": {},
     "output_type": "execute_result"
    }
   ],
   "source": [
    "client = Client(cluster, timeout = '60s')\n",
    "client"
   ]
  },
  {
   "cell_type": "code",
   "execution_count": 44,
   "id": "034479b7-62c4-4918-b56c-67c06930be4d",
   "metadata": {
    "tags": []
   },
   "outputs": [],
   "source": [
    "cluster.scale(2)\n",
    "client.wait_for_workers(2)"
   ]
  },
  {
   "cell_type": "code",
   "execution_count": 45,
   "id": "cad8b3be-270e-4a64-91b2-72b56100ed32",
   "metadata": {},
   "outputs": [
    {
     "name": "stdout",
     "output_type": "stream",
     "text": [
      "                                                            Req'd  Req'd   Elap\n",
      "Job ID          Username Queue    Jobname    SessID NDS TSK Memory Time  S Time\n",
      "--------------- -------- -------- ---------- ------ --- --- ------ ----- - -----\n",
      "3810280.casper* vanderwb R3786268 STDIN        8809   1   2  100gb 01:30 R 00:54\n",
      "3811912.casper* vanderwb asdgpu   dask-work* 283440   1   1   35gb 00:10 R 00:00\n",
      "3811913.casper* vanderwb asdgpu   dask-work* 219531   1   1   35gb 00:10 R 00:00\n",
      "\n",
      "Cached at: Thu Aug 11 10:44:26 MDT 2022\n"
     ]
    }
   ],
   "source": [
    "!qstat -u $USER"
   ]
  },
  {
   "cell_type": "code",
   "execution_count": 46,
   "id": "9e248ee5-5e54-4257-b8cb-cb0d88f7027a",
   "metadata": {},
   "outputs": [
    {
     "name": "stdout",
     "output_type": "stream",
     "text": [
      "CPU times: user 2.98 s, sys: 8.63 s, total: 11.6 s\n",
      "Wall time: 23.2 s\n"
     ]
    }
   ],
   "source": [
    "%%time\n",
    "dg_means = tg.compute()"
   ]
  },
  {
   "cell_type": "code",
   "execution_count": 47,
   "id": "ae51aba0-d3eb-4452-8bf2-8c1e759c76fb",
   "metadata": {},
   "outputs": [],
   "source": [
    "client.shutdown()"
   ]
  },
  {
   "cell_type": "code",
   "execution_count": 49,
   "id": "5fa46167-f34a-45b7-a6bb-74ef225bdca2",
   "metadata": {},
   "outputs": [
    {
     "name": "stdout",
     "output_type": "stream",
     "text": [
      "                                                            Req'd  Req'd   Elap\n",
      "Job ID          Username Queue    Jobname    SessID NDS TSK Memory Time  S Time\n",
      "--------------- -------- -------- ---------- ------ --- --- ------ ----- - -----\n",
      "3810280.casper* vanderwb R3786268 STDIN        8809   1   2  100gb 01:30 R 00:54\n",
      "\n",
      "Cached at: Thu Aug 11 10:46:06 MDT 2022\n"
     ]
    }
   ],
   "source": [
    "!qstat -u $USER"
   ]
  },
  {
   "cell_type": "markdown",
   "id": "aea9da49-4bd7-4334-ba8f-34bd062226aa",
   "metadata": {},
   "source": [
    "#### dask-jobqueue and dask-cuda compatibility\n",
    "You cannot launch CUDAWorkers via the *dask-jobqueue* Python API at this time, and so the interface for GPU memory spill is not accessible using this method. It may be possible to start the workers via [dask-cuda-worker](https://docs.rapids.ai/api/dask-cuda/stable/api.html#worker) from the shell on each host, and then connect your Client to the IP of a [command-line scheduler](https://docs.dask.org/en/stable/deploying-cli.html)."
   ]
  },
  {
   "cell_type": "markdown",
   "id": "ff535989-2d76-4147-b8a4-3b7e533d72f7",
   "metadata": {
    "jp-MarkdownHeadingCollapsed": true,
    "tags": []
   },
   "source": [
    "### Some caveats to using Dask (especially with GPUs)\n",
    "\n",
    "Even in CPU computing, use of Dask should be carefully considered. While typically minimal, starting and managing Dask workers does incur overhead that can become large when using very high worker counts. It is also more challenging to debug Dask workflows compared to serial ones!\n",
    "\n",
    "**On GPUs:**\n",
    "* Setting up Dask is more difficult\n",
    "* Typical task sizes may starve the GPU for work\n",
    "* Worker memory management is even more important\n",
    "\n",
    "In some ways, Dask and GPU-offload typically solve orthogonal problems:\n",
    "\n",
    "| CuPy, cuDF, ... | Dask |\n",
    "|-----------------|------|\n",
    "| Lower time to solution | Bigger problem size |\n",
    "\n",
    "Of course Dask can be used to lower the time to solution as well, but often you are better off optimizing your serial code instead. (*and using a GPU may be a great choice if your problem is highly vectorizable!*)\n",
    "\n",
    "A big issue is that limited GPU availability (or higher cost) on many platforms may hamper Dask's power of scalability. On *Casper*, wait times for V100 GPUs are typically longer than for CPU resources. And GPUs feature much lower memory than many data-analysis CPU nodes."
   ]
  },
  {
   "cell_type": "markdown",
   "id": "78babce5-c0bf-43b5-9b7b-7a79bdec591e",
   "metadata": {},
   "source": [
    "## **cuDF**: Series and DataFrames on GPUs\n",
    "\n",
    "A *DataFrame* object is simply an annotated 2D table of columnar data. In Python, the `pandas` library is the go-to package for working with these object representations of spreadsheets, and their simpler single-column variant, the *series*.\n",
    "\n",
    "#### Let's download some data\n",
    "\n",
    "The following dataset contains daily records of Boulder, CO weather from 1897 to present-day."
   ]
  },
  {
   "cell_type": "code",
   "execution_count": 50,
   "id": "a186b3f4-087f-4912-8040-dd975f3c0d73",
   "metadata": {},
   "outputs": [
    {
     "name": "stdout",
     "output_type": "stream",
     "text": [
      "  % Total    % Received % Xferd  Average Speed   Time    Time     Time  Current\n",
      "                                 Dload  Upload   Total   Spent    Left  Speed\n",
      "100 2199k  100 2199k    0     0  7487k      0 --:--:-- --:--:-- --:--:-- 7508k\n"
     ]
    }
   ],
   "source": [
    "!curl https://psl.noaa.gov/boulder/data/boulderdaily.complete.txt | grep \"^ [12]\" > data/daily.txt"
   ]
  },
  {
   "cell_type": "markdown",
   "id": "49635d3e-ff41-47c7-9b48-3a87b525a7b0",
   "metadata": {},
   "source": [
    "#### We can quickly read in and inspect the data on the CPU"
   ]
  },
  {
   "cell_type": "code",
   "execution_count": 51,
   "id": "7d258191-9a27-4bec-ab24-a56acfca98a2",
   "metadata": {},
   "outputs": [],
   "source": [
    "import pandas as pd"
   ]
  },
  {
   "cell_type": "code",
   "execution_count": 52,
   "id": "36375ec1-9ad2-49c2-8d93-67dc2a6679bd",
   "metadata": {},
   "outputs": [
    {
     "name": "stdout",
     "output_type": "stream",
     "text": [
      "CPU times: user 27.7 ms, sys: 7.26 ms, total: 35 ms\n",
      "Wall time: 34.2 ms\n"
     ]
    }
   ],
   "source": [
    "%%time\n",
    "col_names = ['year', 'month', 'day', 'tmax', 'tmin', 'precip', 'snow', 'snowcover']\n",
    "cpu_df = pd.read_csv('data/daily.txt', delim_whitespace=True, names = col_names,\n",
    "                     na_values = [-998, -999])"
   ]
  },
  {
   "cell_type": "code",
   "execution_count": 54,
   "id": "658c44ca-bf68-4e62-a221-d5db77c2300b",
   "metadata": {},
   "outputs": [
    {
     "data": {
      "text/html": [
       "<div>\n",
       "<style scoped>\n",
       "    .dataframe tbody tr th:only-of-type {\n",
       "        vertical-align: middle;\n",
       "    }\n",
       "\n",
       "    .dataframe tbody tr th {\n",
       "        vertical-align: top;\n",
       "    }\n",
       "\n",
       "    .dataframe thead th {\n",
       "        text-align: right;\n",
       "    }\n",
       "</style>\n",
       "<table border=\"1\" class=\"dataframe\">\n",
       "  <thead>\n",
       "    <tr style=\"text-align: right;\">\n",
       "      <th></th>\n",
       "      <th>year</th>\n",
       "      <th>month</th>\n",
       "      <th>day</th>\n",
       "      <th>tmax</th>\n",
       "      <th>tmin</th>\n",
       "      <th>precip</th>\n",
       "      <th>snow</th>\n",
       "      <th>snowcover</th>\n",
       "    </tr>\n",
       "  </thead>\n",
       "  <tbody>\n",
       "    <tr>\n",
       "      <th>45958</th>\n",
       "      <td>2022</td>\n",
       "      <td>7</td>\n",
       "      <td>27</td>\n",
       "      <td>86.0</td>\n",
       "      <td>58.0</td>\n",
       "      <td>0.00</td>\n",
       "      <td>0.0</td>\n",
       "      <td>0.0</td>\n",
       "    </tr>\n",
       "    <tr>\n",
       "      <th>45959</th>\n",
       "      <td>2022</td>\n",
       "      <td>7</td>\n",
       "      <td>28</td>\n",
       "      <td>82.0</td>\n",
       "      <td>60.0</td>\n",
       "      <td>1.11</td>\n",
       "      <td>0.0</td>\n",
       "      <td>0.0</td>\n",
       "    </tr>\n",
       "    <tr>\n",
       "      <th>45960</th>\n",
       "      <td>2022</td>\n",
       "      <td>7</td>\n",
       "      <td>29</td>\n",
       "      <td>81.0</td>\n",
       "      <td>58.0</td>\n",
       "      <td>0.03</td>\n",
       "      <td>0.0</td>\n",
       "      <td>0.0</td>\n",
       "    </tr>\n",
       "    <tr>\n",
       "      <th>45961</th>\n",
       "      <td>2022</td>\n",
       "      <td>7</td>\n",
       "      <td>30</td>\n",
       "      <td>91.0</td>\n",
       "      <td>51.0</td>\n",
       "      <td>0.00</td>\n",
       "      <td>0.0</td>\n",
       "      <td>0.0</td>\n",
       "    </tr>\n",
       "    <tr>\n",
       "      <th>45962</th>\n",
       "      <td>2022</td>\n",
       "      <td>7</td>\n",
       "      <td>31</td>\n",
       "      <td>90.0</td>\n",
       "      <td>61.0</td>\n",
       "      <td>NaN</td>\n",
       "      <td>0.0</td>\n",
       "      <td>0.0</td>\n",
       "    </tr>\n",
       "  </tbody>\n",
       "</table>\n",
       "</div>"
      ],
      "text/plain": [
       "       year  month  day  tmax  tmin  precip  snow  snowcover\n",
       "45958  2022      7   27  86.0  58.0    0.00   0.0        0.0\n",
       "45959  2022      7   28  82.0  60.0    1.11   0.0        0.0\n",
       "45960  2022      7   29  81.0  58.0    0.03   0.0        0.0\n",
       "45961  2022      7   30  91.0  51.0    0.00   0.0        0.0\n",
       "45962  2022      7   31  90.0  61.0     NaN   0.0        0.0"
      ]
     },
     "execution_count": 54,
     "metadata": {},
     "output_type": "execute_result"
    }
   ],
   "source": [
    "cpu_df.tail()"
   ]
  },
  {
   "cell_type": "code",
   "execution_count": 55,
   "id": "ef3d2227-0bff-4819-8a2d-50249616d534",
   "metadata": {},
   "outputs": [
    {
     "name": "stdout",
     "output_type": "stream",
     "text": [
      "Mem used: 2.81 MiB\n"
     ]
    }
   ],
   "source": [
    "print(f'Mem used: {cpu_df.memory_usage(deep = True).sum() / 1024**2:.2f} MiB')"
   ]
  },
  {
   "cell_type": "markdown",
   "id": "80eb61e0-cbb1-4592-b7a7-32929b9c80d7",
   "metadata": {},
   "source": [
    "*Note: `memory_usage` returns a pandas series here. We take the sum to get the amount used over all columns and specify `deep = True` to account for mutable data referenced within the DataFrame.*\n",
    "\n",
    "#### Average snowfall in each month\n",
    "\n",
    "**Pandas** can succinctly and easily compute complex statistics on DataFrames and then plot them with **matplotlib**."
   ]
  },
  {
   "cell_type": "code",
   "execution_count": 56,
   "id": "9d2e4179-648f-439d-8409-a02eea831ea3",
   "metadata": {},
   "outputs": [
    {
     "name": "stdout",
     "output_type": "stream",
     "text": [
      "CPU times: user 10.6 ms, sys: 563 µs, total: 11.2 ms\n",
      "Wall time: 12.9 ms\n"
     ]
    }
   ],
   "source": [
    "%%time\n",
    "avg_snow = cpu_df[cpu_df.year > 1897].groupby(['year', 'month']).sum().groupby('month').snow.mean()"
   ]
  },
  {
   "cell_type": "code",
   "execution_count": 57,
   "id": "14e23696-10c4-4850-8529-10fa8e8d2ccb",
   "metadata": {},
   "outputs": [
    {
     "data": {
      "text/plain": [
       "<AxesSubplot:xlabel='month', ylabel='Average Snowfall [in]'>"
      ]
     },
     "execution_count": 57,
     "metadata": {},
     "output_type": "execute_result"
    },
    {
     "data": {
      "image/png": "[encoded data removed]",
      "text/plain": [
       "<Figure size 432x288 with 1 Axes>"
      ]
     },
     "metadata": {
      "needs_background": "light"
     },
     "output_type": "display_data"
    }
   ],
   "source": [
    "avg_snow.plot.area(ylabel = \"Average Snowfall [in]\", xlim = (1,12))"
   ]
  },
  {
   "cell_type": "markdown",
   "id": "7b5e47fb-43b1-4a7c-a1cf-f20d16721c86",
   "metadata": {},
   "source": [
    "#### Replacing **pandas** with **cuDF** for GPU use\n",
    "\n",
    "For *series* and *DataFrames*, **cuDF** allows us to leverage GPUs for computation. Note that unlike **CuPy**, the **cuDF** package is part of RAPIDS and developed by NVIDIA. Thus it will NOT work on other hardware at this time.\n",
    "\n",
    "Many **pandas** methods and functions and have been replicated with **cuDF**, allowing for near drop-in replacement."
   ]
  },
  {
   "cell_type": "code",
   "execution_count": 58,
   "id": "b8d5edab-1ba4-4442-94cf-54173e58c773",
   "metadata": {},
   "outputs": [],
   "source": [
    "import cudf as cd"
   ]
  },
  {
   "cell_type": "code",
   "execution_count": 59,
   "id": "89e76aa8-b1fc-4b99-8e41-c94567d1f810",
   "metadata": {},
   "outputs": [
    {
     "name": "stdout",
     "output_type": "stream",
     "text": [
      "CPU times: user 41.4 ms, sys: 13.9 ms, total: 55.3 ms\n",
      "Wall time: 610 ms\n"
     ]
    }
   ],
   "source": [
    "%%time\n",
    "gpu_df = cd.read_csv('data/daily.txt', delim_whitespace = True,\n",
    "                     names = ['x'] + col_names).drop(columns = 'x').replace([-998, -999], cd.NA)"
   ]
  },
  {
   "cell_type": "markdown",
   "id": "bedf05b2-b201-4c80-8072-e32d483c5b49",
   "metadata": {},
   "source": [
    "*This doesn't look the same, however!*\n",
    "\n",
    "It turns out we need to make a few modifications for cuDF to read the data in:\n",
    "1. cuDF does not ignore a leading space on each row, so we handle this by assigning the column a dummy name and then dropping it after it is read.\n",
    "2. cuDF will not take integers for the na values, and so we use `.replace` after read-in to get the same effect."
   ]
  },
  {
   "cell_type": "code",
   "execution_count": 60,
   "id": "d625a68a-d8fd-42f8-b252-a795e672234f",
   "metadata": {},
   "outputs": [
    {
     "data": {
      "text/html": [
       "<div>\n",
       "<style scoped>\n",
       "    .dataframe tbody tr th:only-of-type {\n",
       "        vertical-align: middle;\n",
       "    }\n",
       "\n",
       "    .dataframe tbody tr th {\n",
       "        vertical-align: top;\n",
       "    }\n",
       "\n",
       "    .dataframe thead th {\n",
       "        text-align: right;\n",
       "    }\n",
       "</style>\n",
       "<table border=\"1\" class=\"dataframe\">\n",
       "  <thead>\n",
       "    <tr style=\"text-align: right;\">\n",
       "      <th></th>\n",
       "      <th>year</th>\n",
       "      <th>month</th>\n",
       "      <th>day</th>\n",
       "      <th>tmax</th>\n",
       "      <th>tmin</th>\n",
       "      <th>precip</th>\n",
       "      <th>snow</th>\n",
       "      <th>snowcover</th>\n",
       "    </tr>\n",
       "  </thead>\n",
       "  <tbody>\n",
       "    <tr>\n",
       "      <th>0</th>\n",
       "      <td>1897</td>\n",
       "      <td>1</td>\n",
       "      <td>1</td>\n",
       "      <td>&lt;NA&gt;</td>\n",
       "      <td>&lt;NA&gt;</td>\n",
       "      <td>&lt;NA&gt;</td>\n",
       "      <td>&lt;NA&gt;</td>\n",
       "      <td>&lt;NA&gt;</td>\n",
       "    </tr>\n",
       "    <tr>\n",
       "      <th>1</th>\n",
       "      <td>1897</td>\n",
       "      <td>1</td>\n",
       "      <td>2</td>\n",
       "      <td>&lt;NA&gt;</td>\n",
       "      <td>&lt;NA&gt;</td>\n",
       "      <td>&lt;NA&gt;</td>\n",
       "      <td>&lt;NA&gt;</td>\n",
       "      <td>&lt;NA&gt;</td>\n",
       "    </tr>\n",
       "    <tr>\n",
       "      <th>2</th>\n",
       "      <td>1897</td>\n",
       "      <td>1</td>\n",
       "      <td>3</td>\n",
       "      <td>&lt;NA&gt;</td>\n",
       "      <td>&lt;NA&gt;</td>\n",
       "      <td>&lt;NA&gt;</td>\n",
       "      <td>&lt;NA&gt;</td>\n",
       "      <td>&lt;NA&gt;</td>\n",
       "    </tr>\n",
       "    <tr>\n",
       "      <th>3</th>\n",
       "      <td>1897</td>\n",
       "      <td>1</td>\n",
       "      <td>4</td>\n",
       "      <td>&lt;NA&gt;</td>\n",
       "      <td>&lt;NA&gt;</td>\n",
       "      <td>&lt;NA&gt;</td>\n",
       "      <td>&lt;NA&gt;</td>\n",
       "      <td>&lt;NA&gt;</td>\n",
       "    </tr>\n",
       "    <tr>\n",
       "      <th>4</th>\n",
       "      <td>1897</td>\n",
       "      <td>1</td>\n",
       "      <td>5</td>\n",
       "      <td>&lt;NA&gt;</td>\n",
       "      <td>&lt;NA&gt;</td>\n",
       "      <td>&lt;NA&gt;</td>\n",
       "      <td>&lt;NA&gt;</td>\n",
       "      <td>&lt;NA&gt;</td>\n",
       "    </tr>\n",
       "  </tbody>\n",
       "</table>\n",
       "</div>"
      ],
      "text/plain": [
       "   year  month  day  tmax  tmin precip  snow snowcover\n",
       "0  1897      1    1  <NA>  <NA>   <NA>  <NA>      <NA>\n",
       "1  1897      1    2  <NA>  <NA>   <NA>  <NA>      <NA>\n",
       "2  1897      1    3  <NA>  <NA>   <NA>  <NA>      <NA>\n",
       "3  1897      1    4  <NA>  <NA>   <NA>  <NA>      <NA>\n",
       "4  1897      1    5  <NA>  <NA>   <NA>  <NA>      <NA>"
      ]
     },
     "execution_count": 60,
     "metadata": {},
     "output_type": "execute_result"
    }
   ],
   "source": [
    "gpu_df.head()"
   ]
  },
  {
   "cell_type": "code",
   "execution_count": 61,
   "id": "ea07ffa5-e777-418b-b8e3-aa62dadd68e8",
   "metadata": {},
   "outputs": [
    {
     "name": "stdout",
     "output_type": "stream",
     "text": [
      "Mem used: 2.83 MiB\n"
     ]
    }
   ],
   "source": [
    "print(f'Mem used: {gpu_df.memory_usage(deep = True).sum() / 1024**2:.2f} MiB')"
   ]
  },
  {
   "cell_type": "markdown",
   "id": "de81f593-9c7a-476f-9021-7454aac93d0e",
   "metadata": {},
   "source": [
    "Here again we must make a small modification to our CPU code - cuDF's groupby operation will not operate on a *column-index* unless it is explicitly told to do so with the `level` parameter. pandas will infer that we mean the index by names, but cuDF better adheres to pandas' own specification!"
   ]
  },
  {
   "cell_type": "code",
   "execution_count": 62,
   "id": "aca9b613-4e43-4a32-9f7f-f7d2ff288e1c",
   "metadata": {},
   "outputs": [
    {
     "name": "stdout",
     "output_type": "stream",
     "text": [
      "CPU times: user 11.5 ms, sys: 2.54 ms, total: 14.1 ms\n",
      "Wall time: 49.6 ms\n"
     ]
    }
   ],
   "source": [
    "%%time\n",
    "gpu_snow = gpu_df[gpu_df.year > 1897].groupby(['year', 'month']).sum().groupby(level = 'month').snow.mean()"
   ]
  },
  {
   "cell_type": "code",
   "execution_count": 63,
   "id": "53a2b1fa-e777-4102-b3b3-21c1a18b0ded",
   "metadata": {},
   "outputs": [
    {
     "data": {
      "text/plain": [
       "<AxesSubplot:xlabel='month', ylabel='Average Snowfall [in]'>"
      ]
     },
     "execution_count": 63,
     "metadata": {},
     "output_type": "execute_result"
    },
    {
     "data": {
      "image/png": "[encoded data removed]",
      "text/plain": [
       "<Figure size 432x288 with 1 Axes>"
      ]
     },
     "metadata": {
      "needs_background": "light"
     },
     "output_type": "display_data"
    }
   ],
   "source": [
    "gpu_snow.to_pandas().plot.area(ylabel = \"Average Snowfall [in]\", xlim = (1,12))"
   ]
  },
  {
   "cell_type": "markdown",
   "id": "71bd2995-94fd-499d-a53e-193d03882732",
   "metadata": {},
   "source": [
    "That's an interesting plot. :-) It brings us to another difference between pandas and cuDF - it's groupby operations do not guarantee order as pandas' do. As such, if we want to get the pandas-equivalent result, we can sort the resulting data series by its index:"
   ]
  },
  {
   "cell_type": "code",
   "execution_count": 64,
   "id": "af853bdd-6b22-4a1c-870e-88ee7f0c0475",
   "metadata": {},
   "outputs": [
    {
     "data": {
      "text/plain": [
       "<AxesSubplot:xlabel='month', ylabel='Average Snowfall [in]'>"
      ]
     },
     "execution_count": 64,
     "metadata": {},
     "output_type": "execute_result"
    },
    {
     "data": {
      "image/png": "[encoded data removed]",
      "text/plain": [
       "<Figure size 432x288 with 1 Axes>"
      ]
     },
     "metadata": {
      "needs_background": "light"
     },
     "output_type": "display_data"
    }
   ],
   "source": [
    "gpu_snow.to_pandas().sort_index().plot.area(ylabel = \"Average Snowfall [in]\", xlim = (1,12))"
   ]
  },
  {
   "cell_type": "code",
   "execution_count": null,
   "id": "39b4eefc-4a4e-4e3b-9cdc-4c8da18eb3a9",
   "metadata": {},
   "outputs": [],
   "source": [
    "del cpu_df, gpu_df, avg_snow, gpu_snow"
   ]
  },
  {
   "cell_type": "markdown",
   "id": "bdf4e65e-606c-4e8d-b157-2512f6a0a6c4",
   "metadata": {},
   "source": [
    "#### **cuDF** benefits appear at scale\n",
    "\n",
    "Last time, we saw that **CuPy** only sped up calculations compared to **Numpy** at a certain problem size. We can show the same phenomenon with *DataFrames*.\n",
    "\n",
    "Here, we use a big [Earth Surface Temperature dataset](https://www.kaggle.com/datasets/berkeleyearth/climate-change-earth-surface-temperature-data) provided at Kaggle from Berkeley Earth."
   ]
  },
  {
   "cell_type": "code",
   "execution_count": 66,
   "id": "3bc18cbc-2fb6-4507-9916-0a87438b1f61",
   "metadata": {},
   "outputs": [
    {
     "name": "stdout",
     "output_type": "stream",
     "text": [
      "-rw-rw-r-- 1 vanderwb csgteam 509M Sep 19  2019 data/GlobalLandTemperaturesByCity.csv\n"
     ]
    }
   ],
   "source": [
    "!ls -lh data/GlobalLandTemperaturesByCity.csv"
   ]
  },
  {
   "cell_type": "code",
   "execution_count": 67,
   "id": "0e43eef8-4daa-459f-aadb-49ad8cec2892",
   "metadata": {},
   "outputs": [
    {
     "name": "stdout",
     "output_type": "stream",
     "text": [
      "Mem used: 2.25 GiB\n"
     ]
    }
   ],
   "source": [
    "cpu_big = pd.read_csv('data/GlobalLandTemperaturesByCity.csv',\n",
    "                      infer_datetime_format = True, parse_dates = [0])\n",
    "print(f'Mem used: {cpu_big.memory_usage(deep = True).sum() / 1024**3:.2f} GiB')"
   ]
  },
  {
   "cell_type": "code",
   "execution_count": 68,
   "id": "0f0115fa-ef96-411c-b2bb-5270cae72ad2",
   "metadata": {},
   "outputs": [
    {
     "name": "stdout",
     "output_type": "stream",
     "text": [
      "CPU times: user 944 ms, sys: 49.3 ms, total: 994 ms\n",
      "Wall time: 988 ms\n"
     ]
    }
   ],
   "source": [
    "%%time\n",
    "gpu_big = cd.DataFrame.from_pandas(cpu_big)"
   ]
  },
  {
   "cell_type": "markdown",
   "id": "2deb65a4-08cd-495c-92ea-eadec027796a",
   "metadata": {},
   "source": [
    "**Compute global mean August temperature timeseries using the CPU and GPU ...**"
   ]
  },
  {
   "cell_type": "code",
   "execution_count": 69,
   "id": "2d42309b-465c-44a0-ad83-062501664fbb",
   "metadata": {},
   "outputs": [
    {
     "name": "stdout",
     "output_type": "stream",
     "text": [
      "CPU times: user 1.25 s, sys: 46.9 ms, total: 1.29 s\n",
      "Wall time: 1.26 s\n"
     ]
    }
   ],
   "source": [
    "%%time\n",
    "global_mean = cpu_big[(cpu_big.dt.dt.month == 8) &\n",
    "                      (cpu_big.dt.dt.year >= 1900)].groupby('dt')['AverageTemperature'].mean()"
   ]
  },
  {
   "cell_type": "code",
   "execution_count": 70,
   "id": "82d63952-b310-44dc-8d9d-5e1118fdfa17",
   "metadata": {},
   "outputs": [
    {
     "name": "stdout",
     "output_type": "stream",
     "text": [
      "CPU times: user 8.34 ms, sys: 4.66 ms, total: 13 ms\n",
      "Wall time: 12 ms\n"
     ]
    }
   ],
   "source": [
    "%%time\n",
    "global_mean = gpu_big[(gpu_big.dt.dt.month == 8) &\n",
    "                      (gpu_big.dt.dt.year >= 1900)].groupby('dt')['AverageTemperature'].mean()"
   ]
  },
  {
   "cell_type": "code",
   "execution_count": 71,
   "id": "b8024f7b-6726-49fa-9f4e-613a8ce5e33a",
   "metadata": {},
   "outputs": [
    {
     "data": {
      "text/plain": [
       "<AxesSubplot:xlabel='dt'>"
      ]
     },
     "execution_count": 71,
     "metadata": {},
     "output_type": "execute_result"
    },
    {
     "data": {
      "image/png": "[encoded data removed]",
      "text/plain": [
       "<Figure size 432x288 with 1 Axes>"
      ]
     },
     "metadata": {
      "needs_background": "light"
     },
     "output_type": "display_data"
    }
   ],
   "source": [
    "global_mean.to_pandas().sort_index().plot()"
   ]
  },
  {
   "cell_type": "code",
   "execution_count": 72,
   "id": "aec77cb1-6872-423c-a42c-264c022770ec",
   "metadata": {},
   "outputs": [],
   "source": [
    "del cpu_big, gpu_big, global_mean"
   ]
  },
  {
   "cell_type": "markdown",
   "id": "30311f1b-d792-4915-b011-6e67d301d2b7",
   "metadata": {},
   "source": [
    "#### **cuDF-pandas** compatibility\n",
    "\n",
    "Some notable differences ([more here](https://docs.rapids.ai/api/cudf/stable/user_guide/pandas-comparison.html)) between cuDF and Pandas:\n",
    "* `.join` and `.groupby` operations do not guarantee the row order of the output with **cuDF**\n",
    "* Iteration over **cuDF** objects is not allowed, as GPUs are not efficient for sequential tasks\n",
    "* Storing arbitrary Python objects (e.g., a column with strings and lists) is not allowed in **cuDF**\n",
    "\n",
    "---"
   ]
  },
  {
   "cell_type": "markdown",
   "id": "b55b358b-6e25-44fb-93ee-480a2c8d40e5",
   "metadata": {},
   "source": [
    "### Xarray - N-dimensional labeled arrays\n",
    "\n",
    "Xarray can organize layered annotated sets of array data into data structures that enable complex operations on these N-dimensional datasets. It couples tightly with netCDF/Zarr data and Dask and is very popular at NCAR. As demonstrated last week, it is possible to use CuPy arrays as the underlying data structure in Xarray, enabling offload to GPUs. Efforts to improve compatibility and usability are ongoing - reports of any issues or needed functionalities are desired by the maintainers! (see [this GitHub repo](https://github.com/xarray-contrib/cupy-xarray))\n",
    "\n",
    "---"
   ]
  },
  {
   "cell_type": "markdown",
   "id": "29c9fa25-d281-4b3a-a591-bf27b776545b",
   "metadata": {},
   "source": [
    "## Dask Resources\n",
    "\n",
    "[Dask Online Tutorial](https://tutorial.dask.org/)\n",
    "\n",
    "[Dask Distributed Documentation](https://distributed.dask.org/en/stable/)\n",
    "\n",
    "[dask-jobqueue Documentation](https://jobqueue.dask.org/en/latest/)\n",
    "\n",
    "[dask-cuda Documentation](https://docs.rapids.ai/api/dask-cuda/stable/)\n",
    "\n",
    "[How to: Use Dask with GPUs](https://docs.dask.org/en/stable/gpu.html)\n",
    "\n",
    "[dask-mpi and GPUs](http://mpi.dask.org/en/latest/gpu.html)\n",
    "\n",
    "[Dask on GPUs Speedups](https://blog.dask.org/2019/01/03/dask-array-gpus-first-steps)\n",
    "\n",
    "---"
   ]
  },
  {
   "cell_type": "markdown",
   "id": "ba6c30ad-ae31-4178-895b-feefc090ea7c",
   "metadata": {},
   "source": [
    "\n",
    "## High-level Collections Resources\n",
    "\n",
    "[CuPy Documentation](https://docs.cupy.dev/en/stable/index.html)\n",
    "\n",
    "[cuDF Documentation](https://docs.rapids.ai/api/cudf/stable/)\n",
    "\n",
    "[cupy-xarray Quickstart](https://cupy-xarray.readthedocs.io/quickstart.html)\n",
    "\n",
    "---"
   ]
  },
  {
   "cell_type": "markdown",
   "id": "823b837c-eee1-49ba-86c3-e5743ed4edb5",
   "metadata": {
    "tags": []
   },
   "source": [
    "## Running this notebook yourself\n",
    "### Notebook Setup\n",
    "\n",
    "This notebook will require running within a JupyterHub PBS Batch (interactive) session.  Much of the Python code will fail if a GPU is not detected on the node.  Select the PBS Batch option when launching from JupyterHub and set the `PROJECT` code to a currently active project, ie `UCIS0004` for the GPU workshop, and `QUEUE` to the appropriate routing queue depending on if during weekday 8am to 5:30pm MT (`gpudev`), or all other times (`casper`). Request `30` GB of memory for this session. Due to limited shared GPU resources, please use `GPU_TYPE=gp100` during the workshop. Otherwise, set `GPU_TYPE=v100` (required for `gpudev`) for independent work. See [Casper queue documentation](https://arc.ucar.edu/knowledge_base/72581396#StartingCasperjobswithPBS-Concurrentresourcelimits) for more info.\n",
    "\n",
    "If running this notebook outside of the NCAR computing environment, at least one compatible NVIDIA GPU is required to run most of the local cuDF and Dask examples - and access to a batch cluster with GPUs is required for the Dask Distributed examples.\n",
    "\n",
    "### Changing Notebook Kernel\n",
    "\n",
    "You'll need to use a JupyterHub kernel that features the RAPIDS suite of packages (at least `CuPy`, `cuDF`, and various `Dask` packages).  There are several ways to do this but you can navigate to the `Kernel` dropdown and select `Change Kernel`.  Select **GPU Workshop** kernel from the dropdown to run the CuPy examples in this notebook."
   ]
  },
  {
   "cell_type": "markdown",
   "id": "e639a5f1-9551-41af-b4ec-29836da8ee9f",
   "metadata": {
    "tags": []
   },
   "source": [
    "### Python Virtual Environment Setup\n",
    "\n",
    "You can set up your own virtual environment for running the Python code outside of this notebook.  This will also be useful if you would like to create your own virtual environment for GPU programming experimentation with Python.\n",
    "\n",
    "See [Python Conda environment documentation](https://kb.ucar.edu/display/RC/Using+conda+environments+for+Python+access) for background on using Conda on NCAR clusters. Use conda (or mamba for faster package solving) to create your own GPU-enabled environment. Here are the steps for doing so on Casper:"
   ]
  },
  {
   "cell_type": "markdown",
   "id": "fcd9c63f-414a-4511-943f-975b8b6aa977",
   "metadata": {
    "tags": []
   },
   "source": [
    "```bash\n",
    "# Conda used for virtual environment in NCAR clusters\n",
    "module load conda/latest\n",
    "\n",
    "# Create the environment and the populate it with packages\n",
    "# Note that we need channel priority flexible for RAPIDS to install\n",
    "conda create -n pygpu-dask\n",
    "conda activate pygpu-dask\n",
    "conda config --env --set channel_priority flexible\n",
    "conda env update --file envs/environment.yml\n",
    "\n",
    "# Don't forget to deactivate with \"conda deactivate\"\n",
    "\n",
    "```\n",
    "\n",
    "If running on other systems, you should install Jupyter as well so that you may use notebooks."
   ]
  }
 ],
 "metadata": {
  "kernelspec": {
   "display_name": "GPU Workshop",
   "language": "python",
   "name": "pygpu"
  },
  "language_info": {
   "codemirror_mode": {
    "name": "ipython",
    "version": 3
   },
   "file_extension": ".py",
   "mimetype": "text/x-python",
   "name": "python",
   "nbconvert_exporter": "python",
   "pygments_lexer": "ipython3",
   "version": "3.9.13"
  }
 },
 "nbformat": 4,
 "nbformat_minor": 5
}
