{
 "cells": [
  {
   "cell_type": "markdown",
   "id": "dc387c14-1105-4db7-bba6-db57c78d08a8",
   "metadata": {},
   "source": [
    "![NCAR UCAR Logo](../NCAR_CISL_NSF_banner.jpeg)\n",
    "# Hands On Session with Nsight Systems and Compute\n",
    "\n",
    "By: Brett Neuman & Daniel Howard, Consulting Services Group, CISL & NCAR \n",
    "\n",
    "[bneuman@ucar.edu](mailto:bneuman@ucar.edu) & [dhoward@ucar.edu](mailto:dhoward@ucar.edu)\n",
    "\n",
    "Date: June 16th, 2022\n",
    "\n",
    "1. Overview of Profiling and Performance Sampling Tools\n",
    "    * Typical development workflows with profiling tools\n",
    "2. NSight Systems for Overview Analysis of GPU Program Runtimes\n",
    "    * How to generate nsys reports and command line parameters\n",
    "    * Analysis of nsys reports and investigating the program timeline\n",
    "    * Generating NSight Compute profiling commands from nsys reports\n",
    "3. NSight Compute for Individual GPU Kernel Performance Analysis\n",
    "    * How to generate ncu reports and command line parameters\n",
    "    * Overview of GPU kernel profiling data and source code timing heatmaps\n",
    "    * External resources for interpreting ncu reports data"
   ]
  },
  {
   "cell_type": "markdown",
   "id": "11f674a0-90f4-495f-ac2e-13a1c9b2dc3a",
   "metadata": {},
   "source": [
    "Head to the [NCAR JupyterHub portal](https://jupyterhub.hpc.ucar.edu/stable) and __start a JupyterHub session on Casper login__ (or batch nodes using 1 CPU, no GPUs) and open the notebook in either the `nsys` or `ncu` folder. Be sure to clone (if needed) and update/pull the NCAR GPU_workshop directory.\n",
    "\n",
    "```shell\n",
    "# Use the JupyterHub GitHub GUI on the left panel or the below shell commands\n",
    "git clone git@github.com:NCAR/GPU_workshop.git\n",
    "git pull\n",
    "```\n",
    "\n",
    "# Workshop Etiquette\n",
    "* Please mute yourself and turn off video during the session.\n",
    "* Questions may be submitted in the chat and will be answered when appropriate. You may also raise your hand, unmute, and ask questions during Q&A at the end of the presentation.\n",
    "* By participating, you are agreeing to [UCAR’s Code of Conduct](https://www.ucar.edu/who-we-are/ethics-integrity/codes-conduct/participants)\n",
    "* Recordings & other material will be archived & shared publicly.\n",
    "* Feel free to follow up with the GPU workshop team via Slack or submit support requests to [rchelp.ucar.edu](https://support.ucar.edu)\n",
    "    * Office Hours: Asynchronous support via [Slack](https://ncargpuusers.slack.com) or schedule a time with an organizer"
   ]
  },
  {
   "cell_type": "markdown",
   "id": "9f669b9a-1a07-41ab-af40-f756799e4669",
   "metadata": {
    "tags": []
   },
   "source": [
    "## Notebook Setup\n",
    "Set the `PROJECT` code to a currently active project, ie `UCIS0004` for the GPU workshop, and `QUEUE` to the appropriate routing queue depending on if during a live workshop session (`gpuworkshop`), during weekday 8am to 5:30pm MT (`gpudev`), or all other times (`casper`). Due to limited shared GPU resources, please use `GPU_TYPE=gp100` during the workshop. Otherwise, set `GPU_TYPE=v100` (required for `gpudev`) for independent work. See [Casper queue documentation](https://arc.ucar.edu/knowledge_base/72581396#StartingCasperjobswithPBS-Concurrentresourcelimits) for more info.  "
   ]
  },
  {
   "cell_type": "markdown",
   "id": "a991563e-852c-46de-b5a3-0023d33bc8ca",
   "metadata": {},
   "source": [
    "## Choose Profiler Tool to Explore\n",
    "Go to the relevant profiler tool tutorial by using the below links:\n",
    "\n",
    "1. [Nsight Systems Profiler](nsys/10_HandsOnNsight_nsys.ipynb)\n",
    "2. [Nsight Compute Profiler](ncu/10_HandsOnNsight_ncu.ipynb)"
   ]
  }
 ],
 "metadata": {
  "kernelspec": {
   "display_name": "Bash",
   "language": "bash",
   "name": "bash"
  },
  "language_info": {
   "codemirror_mode": "shell",
   "file_extension": ".sh",
   "mimetype": "text/x-sh",
   "name": "bash"
  }
 },
 "nbformat": 4,
 "nbformat_minor": 5
}
