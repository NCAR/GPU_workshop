{
 "cells": [
  {
   "cell_type": "markdown",
   "id": "dc387c14-1105-4db7-bba6-db57c78d08a8",
   "metadata": {},
   "source": [
    "![NCAR UCAR Logo](../NCAR_CISL_NSF_banner.jpeg)\n",
    "# Hands On Session with Nsight Systems and Compute\n",
    "\n",
    "By: Brett Neuman & Daniel Howard, Consulting Services Group, CISL & NCAR \n",
    "\n",
    "[bneuman@ucar.edu](mailto:bneuman@ucar.edu) & [dhoward@ucar.edu](mailto:dhoward@ucar.edu)\n",
    "\n",
    "Date: June 16th, 2022"
   ]
  },
  {
   "cell_type": "markdown",
   "id": "a991563e-852c-46de-b5a3-0023d33bc8ca",
   "metadata": {},
   "source": [
    "## Choose Profiler Tool to Explore\n",
    "Go to the relevant profiler tool tutorial by using the below links:\n",
    "\n",
    "1. [Nsight Systems Profiler](nsys/10_HandsOnNsight_nsys.ipynb)\n",
    "2. [Nsight Compute Profiler](ncu/10_HandsOnNsight_ncu.ipynb)"
   ]
  }
 ],
 "metadata": {
  "kernelspec": {
   "display_name": "Bash",
   "language": "bash",
   "name": "bash"
  },
  "language_info": {
   "codemirror_mode": "shell",
   "file_extension": ".sh",
   "mimetype": "text/x-sh",
   "name": "bash"
  }
 },
 "nbformat": 4,
 "nbformat_minor": 5
}
