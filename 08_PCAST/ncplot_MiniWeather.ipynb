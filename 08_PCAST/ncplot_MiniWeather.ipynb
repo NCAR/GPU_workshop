{
 "cells": [
  {
   "cell_type": "markdown",
   "id": "d5d244f5-715e-4126-a777-b73dc40e7787",
   "metadata": {
    "slideshow": {
     "slide_type": "slide"
    },
    "tags": []
   },
   "source": [
    "# Visualize Output from MiniWeather Application\n",
    "By: Daniel Howard\n",
    "Date: April 21st, 2022\n",
    "\n",
    "This notebook visualizes output generated from [MiniWeather](https://github.com/mrnorman/miniWeather)."
   ]
  },
  {
   "cell_type": "markdown",
   "id": "0b26990a-927f-4d35-88e5-a976b9510e28",
   "metadata": {
    "slideshow": {
     "slide_type": "slide"
    },
    "tags": []
   },
   "source": [
    "### Import needed packages and setup environment"
   ]
  },
  {
   "cell_type": "code",
   "execution_count": 1,
   "id": "2d512e24-0c27-44c4-b95b-a9b924fcb779",
   "metadata": {
    "slideshow": {
     "slide_type": "fragment"
    },
    "tags": []
   },
   "outputs": [],
   "source": [
    "import xarray as xr\n",
    "\n",
    "# pyplot needed to plot the d0ataset, but animation only needed much further down.\n",
    "from matplotlib import pyplot as plt, animation\n",
    "%matplotlib inline\n",
    "\n",
    "# This is needed to display graphics calculated outside of jupyter notebook\n",
    "from IPython.display import HTML, display\n",
    "\n",
    "# In case we haven't created it yet, make sure that we have a directory for images and videos\n",
    "# and clear any prior images from the directory\n",
    "! test -d img_MiniWeather/frames && rm -rf img_MiniWeather/frames/* || mkdir -p img_MiniWeather/frames"
   ]
  },
  {
   "cell_type": "markdown",
   "id": "d17daae6-4919-48f4-9ca3-54310e796cd1",
   "metadata": {
    "slideshow": {
     "slide_type": "slide"
    },
    "tags": []
   },
   "source": [
    "### Read in MiniWeather data and create objects for each variable\n",
    "Uses the default MiniWeather output file `output.nc` located in the `$HOME` directory. Modify this as needed."
   ]
  },
  {
   "cell_type": "code",
   "execution_count": 5,
   "id": "fd0ab1f9-f86d-42b3-95da-891703afdc2e",
   "metadata": {
    "slideshow": {
     "slide_type": "fragment"
    },
    "tags": []
   },
   "outputs": [
    {
     "data": {
      "text/html": [
       "<div><svg style=\"position: absolute; width: 0; height: 0; overflow: hidden\">\n",
       "<defs>\n",
       "<symbol id=\"icon-database\" viewBox=\"0 0 32 32\">\n",
       "<path d=\"M16 0c-8.837 0-16 2.239-16 5v4c0 2.761 7.163 5 16 5s16-2.239 16-5v-4c0-2.761-7.163-5-16-5z\"></path>\n",
       "<path d=\"M16 17c-8.837 0-16-2.239-16-5v6c0 2.761 7.163 5 16 5s16-2.239 16-5v-6c0 2.761-7.163 5-16 5z\"></path>\n",
       "<path d=\"M16 26c-8.837 0-16-2.239-16-5v6c0 2.761 7.163 5 16 5s16-2.239 16-5v-6c0 2.761-7.163 5-16 5z\"></path>\n",
       "</symbol>\n",
       "<symbol id=\"icon-file-text2\" viewBox=\"0 0 32 32\">\n",
       "<path d=\"M28.681 7.159c-0.694-0.947-1.662-2.053-2.724-3.116s-2.169-2.030-3.116-2.724c-1.612-1.182-2.393-1.319-2.841-1.319h-15.5c-1.378 0-2.5 1.121-2.5 2.5v27c0 1.378 1.122 2.5 2.5 2.5h23c1.378 0 2.5-1.122 2.5-2.5v-19.5c0-0.448-0.137-1.23-1.319-2.841zM24.543 5.457c0.959 0.959 1.712 1.825 2.268 2.543h-4.811v-4.811c0.718 0.556 1.584 1.309 2.543 2.268zM28 29.5c0 0.271-0.229 0.5-0.5 0.5h-23c-0.271 0-0.5-0.229-0.5-0.5v-27c0-0.271 0.229-0.5 0.5-0.5 0 0 15.499-0 15.5 0v7c0 0.552 0.448 1 1 1h7v19.5z\"></path>\n",
       "<path d=\"M23 26h-14c-0.552 0-1-0.448-1-1s0.448-1 1-1h14c0.552 0 1 0.448 1 1s-0.448 1-1 1z\"></path>\n",
       "<path d=\"M23 22h-14c-0.552 0-1-0.448-1-1s0.448-1 1-1h14c0.552 0 1 0.448 1 1s-0.448 1-1 1z\"></path>\n",
       "<path d=\"M23 18h-14c-0.552 0-1-0.448-1-1s0.448-1 1-1h14c0.552 0 1 0.448 1 1s-0.448 1-1 1z\"></path>\n",
       "</symbol>\n",
       "</defs>\n",
       "</svg>\n",
       "<style>/* CSS stylesheet for displaying xarray objects in jupyterlab.\n",
       " *\n",
       " */\n",
       "\n",
       ":root {\n",
       "  --xr-font-color0: var(--jp-content-font-color0, rgba(0, 0, 0, 1));\n",
       "  --xr-font-color2: var(--jp-content-font-color2, rgba(0, 0, 0, 0.54));\n",
       "  --xr-font-color3: var(--jp-content-font-color3, rgba(0, 0, 0, 0.38));\n",
       "  --xr-border-color: var(--jp-border-color2, #e0e0e0);\n",
       "  --xr-disabled-color: var(--jp-layout-color3, #bdbdbd);\n",
       "  --xr-background-color: var(--jp-layout-color0, white);\n",
       "  --xr-background-color-row-even: var(--jp-layout-color1, white);\n",
       "  --xr-background-color-row-odd: var(--jp-layout-color2, #eeeeee);\n",
       "}\n",
       "\n",
       "html[theme=dark],\n",
       "body.vscode-dark {\n",
       "  --xr-font-color0: rgba(255, 255, 255, 1);\n",
       "  --xr-font-color2: rgba(255, 255, 255, 0.54);\n",
       "  --xr-font-color3: rgba(255, 255, 255, 0.38);\n",
       "  --xr-border-color: #1F1F1F;\n",
       "  --xr-disabled-color: #515151;\n",
       "  --xr-background-color: #111111;\n",
       "  --xr-background-color-row-even: #111111;\n",
       "  --xr-background-color-row-odd: #313131;\n",
       "}\n",
       "\n",
       ".xr-wrap {\n",
       "  display: block !important;\n",
       "  min-width: 300px;\n",
       "  max-width: 700px;\n",
       "}\n",
       "\n",
       ".xr-text-repr-fallback {\n",
       "  /* fallback to plain text repr when CSS is not injected (untrusted notebook) */\n",
       "  display: none;\n",
       "}\n",
       "\n",
       ".xr-header {\n",
       "  padding-top: 6px;\n",
       "  padding-bottom: 6px;\n",
       "  margin-bottom: 4px;\n",
       "  border-bottom: solid 1px var(--xr-border-color);\n",
       "}\n",
       "\n",
       ".xr-header > div,\n",
       ".xr-header > ul {\n",
       "  display: inline;\n",
       "  margin-top: 0;\n",
       "  margin-bottom: 0;\n",
       "}\n",
       "\n",
       ".xr-obj-type,\n",
       ".xr-array-name {\n",
       "  margin-left: 2px;\n",
       "  margin-right: 10px;\n",
       "}\n",
       "\n",
       ".xr-obj-type {\n",
       "  color: var(--xr-font-color2);\n",
       "}\n",
       "\n",
       ".xr-sections {\n",
       "  padding-left: 0 !important;\n",
       "  display: grid;\n",
       "  grid-template-columns: 150px auto auto 1fr 20px 20px;\n",
       "}\n",
       "\n",
       ".xr-section-item {\n",
       "  display: contents;\n",
       "}\n",
       "\n",
       ".xr-section-item input {\n",
       "  display: none;\n",
       "}\n",
       "\n",
       ".xr-section-item input + label {\n",
       "  color: var(--xr-disabled-color);\n",
       "}\n",
       "\n",
       ".xr-section-item input:enabled + label {\n",
       "  cursor: pointer;\n",
       "  color: var(--xr-font-color2);\n",
       "}\n",
       "\n",
       ".xr-section-item input:enabled + label:hover {\n",
       "  color: var(--xr-font-color0);\n",
       "}\n",
       "\n",
       ".xr-section-summary {\n",
       "  grid-column: 1;\n",
       "  color: var(--xr-font-color2);\n",
       "  font-weight: 500;\n",
       "}\n",
       "\n",
       ".xr-section-summary > span {\n",
       "  display: inline-block;\n",
       "  padding-left: 0.5em;\n",
       "}\n",
       "\n",
       ".xr-section-summary-in:disabled + label {\n",
       "  color: var(--xr-font-color2);\n",
       "}\n",
       "\n",
       ".xr-section-summary-in + label:before {\n",
       "  display: inline-block;\n",
       "  content: '►';\n",
       "  font-size: 11px;\n",
       "  width: 15px;\n",
       "  text-align: center;\n",
       "}\n",
       "\n",
       ".xr-section-summary-in:disabled + label:before {\n",
       "  color: var(--xr-disabled-color);\n",
       "}\n",
       "\n",
       ".xr-section-summary-in:checked + label:before {\n",
       "  content: '▼';\n",
       "}\n",
       "\n",
       ".xr-section-summary-in:checked + label > span {\n",
       "  display: none;\n",
       "}\n",
       "\n",
       ".xr-section-summary,\n",
       ".xr-section-inline-details {\n",
       "  padding-top: 4px;\n",
       "  padding-bottom: 4px;\n",
       "}\n",
       "\n",
       ".xr-section-inline-details {\n",
       "  grid-column: 2 / -1;\n",
       "}\n",
       "\n",
       ".xr-section-details {\n",
       "  display: none;\n",
       "  grid-column: 1 / -1;\n",
       "  margin-bottom: 5px;\n",
       "}\n",
       "\n",
       ".xr-section-summary-in:checked ~ .xr-section-details {\n",
       "  display: contents;\n",
       "}\n",
       "\n",
       ".xr-array-wrap {\n",
       "  grid-column: 1 / -1;\n",
       "  display: grid;\n",
       "  grid-template-columns: 20px auto;\n",
       "}\n",
       "\n",
       ".xr-array-wrap > label {\n",
       "  grid-column: 1;\n",
       "  vertical-align: top;\n",
       "}\n",
       "\n",
       ".xr-preview {\n",
       "  color: var(--xr-font-color3);\n",
       "}\n",
       "\n",
       ".xr-array-preview,\n",
       ".xr-array-data {\n",
       "  padding: 0 5px !important;\n",
       "  grid-column: 2;\n",
       "}\n",
       "\n",
       ".xr-array-data,\n",
       ".xr-array-in:checked ~ .xr-array-preview {\n",
       "  display: none;\n",
       "}\n",
       "\n",
       ".xr-array-in:checked ~ .xr-array-data,\n",
       ".xr-array-preview {\n",
       "  display: inline-block;\n",
       "}\n",
       "\n",
       ".xr-dim-list {\n",
       "  display: inline-block !important;\n",
       "  list-style: none;\n",
       "  padding: 0 !important;\n",
       "  margin: 0;\n",
       "}\n",
       "\n",
       ".xr-dim-list li {\n",
       "  display: inline-block;\n",
       "  padding: 0;\n",
       "  margin: 0;\n",
       "}\n",
       "\n",
       ".xr-dim-list:before {\n",
       "  content: '(';\n",
       "}\n",
       "\n",
       ".xr-dim-list:after {\n",
       "  content: ')';\n",
       "}\n",
       "\n",
       ".xr-dim-list li:not(:last-child):after {\n",
       "  content: ',';\n",
       "  padding-right: 5px;\n",
       "}\n",
       "\n",
       ".xr-has-index {\n",
       "  font-weight: bold;\n",
       "}\n",
       "\n",
       ".xr-var-list,\n",
       ".xr-var-item {\n",
       "  display: contents;\n",
       "}\n",
       "\n",
       ".xr-var-item > div,\n",
       ".xr-var-item label,\n",
       ".xr-var-item > .xr-var-name span {\n",
       "  background-color: var(--xr-background-color-row-even);\n",
       "  margin-bottom: 0;\n",
       "}\n",
       "\n",
       ".xr-var-item > .xr-var-name:hover span {\n",
       "  padding-right: 5px;\n",
       "}\n",
       "\n",
       ".xr-var-list > li:nth-child(odd) > div,\n",
       ".xr-var-list > li:nth-child(odd) > label,\n",
       ".xr-var-list > li:nth-child(odd) > .xr-var-name span {\n",
       "  background-color: var(--xr-background-color-row-odd);\n",
       "}\n",
       "\n",
       ".xr-var-name {\n",
       "  grid-column: 1;\n",
       "}\n",
       "\n",
       ".xr-var-dims {\n",
       "  grid-column: 2;\n",
       "}\n",
       "\n",
       ".xr-var-dtype {\n",
       "  grid-column: 3;\n",
       "  text-align: right;\n",
       "  color: var(--xr-font-color2);\n",
       "}\n",
       "\n",
       ".xr-var-preview {\n",
       "  grid-column: 4;\n",
       "}\n",
       "\n",
       ".xr-var-name,\n",
       ".xr-var-dims,\n",
       ".xr-var-dtype,\n",
       ".xr-preview,\n",
       ".xr-attrs dt {\n",
       "  white-space: nowrap;\n",
       "  overflow: hidden;\n",
       "  text-overflow: ellipsis;\n",
       "  padding-right: 10px;\n",
       "}\n",
       "\n",
       ".xr-var-name:hover,\n",
       ".xr-var-dims:hover,\n",
       ".xr-var-dtype:hover,\n",
       ".xr-attrs dt:hover {\n",
       "  overflow: visible;\n",
       "  width: auto;\n",
       "  z-index: 1;\n",
       "}\n",
       "\n",
       ".xr-var-attrs,\n",
       ".xr-var-data {\n",
       "  display: none;\n",
       "  background-color: var(--xr-background-color) !important;\n",
       "  padding-bottom: 5px !important;\n",
       "}\n",
       "\n",
       ".xr-var-attrs-in:checked ~ .xr-var-attrs,\n",
       ".xr-var-data-in:checked ~ .xr-var-data {\n",
       "  display: block;\n",
       "}\n",
       "\n",
       ".xr-var-data > table {\n",
       "  float: right;\n",
       "}\n",
       "\n",
       ".xr-var-name span,\n",
       ".xr-var-data,\n",
       ".xr-attrs {\n",
       "  padding-left: 25px !important;\n",
       "}\n",
       "\n",
       ".xr-attrs,\n",
       ".xr-var-attrs,\n",
       ".xr-var-data {\n",
       "  grid-column: 1 / -1;\n",
       "}\n",
       "\n",
       "dl.xr-attrs {\n",
       "  padding: 0;\n",
       "  margin: 0;\n",
       "  display: grid;\n",
       "  grid-template-columns: 125px auto;\n",
       "}\n",
       "\n",
       ".xr-attrs dt,\n",
       ".xr-attrs dd {\n",
       "  padding: 0;\n",
       "  margin: 0;\n",
       "  float: left;\n",
       "  padding-right: 10px;\n",
       "  width: auto;\n",
       "}\n",
       "\n",
       ".xr-attrs dt {\n",
       "  font-weight: normal;\n",
       "  grid-column: 1;\n",
       "}\n",
       "\n",
       ".xr-attrs dt:hover span {\n",
       "  display: inline-block;\n",
       "  background: var(--xr-background-color);\n",
       "  padding-right: 10px;\n",
       "}\n",
       "\n",
       ".xr-attrs dd {\n",
       "  grid-column: 2;\n",
       "  white-space: pre-wrap;\n",
       "  word-break: break-all;\n",
       "}\n",
       "\n",
       ".xr-icon-database,\n",
       ".xr-icon-file-text2 {\n",
       "  display: inline-block;\n",
       "  vertical-align: middle;\n",
       "  width: 1em;\n",
       "  height: 1.5em !important;\n",
       "  stroke-width: 0;\n",
       "  stroke: currentColor;\n",
       "  fill: currentColor;\n",
       "}\n",
       "</style><pre class='xr-text-repr-fallback'>&lt;xarray.Dataset&gt;\n",
       "Dimensions:  (t: 6, z: 100, x: 200)\n",
       "Coordinates:\n",
       "  * t        (t) float64 0.0 2.333 4.333 6.333 8.333 10.01\n",
       "Dimensions without coordinates: z, x\n",
       "Data variables:\n",
       "    dens     (t, z, x) float64 ...\n",
       "    uwnd     (t, z, x) float64 ...\n",
       "    wwnd     (t, z, x) float64 ...\n",
       "    theta    (t, z, x) float64 ...</pre><div class='xr-wrap' style='display:none'><div class='xr-header'><div class='xr-obj-type'>xarray.Dataset</div></div><ul class='xr-sections'><li class='xr-section-item'><input id='section-98bb30a0-2f18-4c58-828d-b522cd485db9' class='xr-section-summary-in' type='checkbox' disabled ><label for='section-98bb30a0-2f18-4c58-828d-b522cd485db9' class='xr-section-summary'  title='Expand/collapse section'>Dimensions:</label><div class='xr-section-inline-details'><ul class='xr-dim-list'><li><span class='xr-has-index'>t</span>: 6</li><li><span>z</span>: 100</li><li><span>x</span>: 200</li></ul></div><div class='xr-section-details'></div></li><li class='xr-section-item'><input id='section-0b2ea4c7-72a8-47d0-a0a0-0bf4200eb8cb' class='xr-section-summary-in' type='checkbox'  checked><label for='section-0b2ea4c7-72a8-47d0-a0a0-0bf4200eb8cb' class='xr-section-summary' >Coordinates: <span>(1)</span></label><div class='xr-section-inline-details'></div><div class='xr-section-details'><ul class='xr-var-list'><li class='xr-var-item'><div class='xr-var-name'><span class='xr-has-index'>t</span></div><div class='xr-var-dims'>(t)</div><div class='xr-var-dtype'>float64</div><div class='xr-var-preview xr-preview'>0.0 2.333 4.333 6.333 8.333 10.01</div><input id='attrs-e8e3b1ce-4699-4f9f-ba7d-5d34e172bf18' class='xr-var-attrs-in' type='checkbox' disabled><label for='attrs-e8e3b1ce-4699-4f9f-ba7d-5d34e172bf18' title='Show/Hide attributes'><svg class='icon xr-icon-file-text2'><use xlink:href='#icon-file-text2'></use></svg></label><input id='data-748b921b-ad0a-40b8-9f24-f001aa036f64' class='xr-var-data-in' type='checkbox'><label for='data-748b921b-ad0a-40b8-9f24-f001aa036f64' title='Show/Hide data repr'><svg class='icon xr-icon-database'><use xlink:href='#icon-database'></use></svg></label><div class='xr-var-attrs'><dl class='xr-attrs'></dl></div><div class='xr-var-data'><pre>array([ 0.      ,  2.333333,  4.333333,  6.333333,  8.333333, 10.01    ])</pre></div></li></ul></div></li><li class='xr-section-item'><input id='section-f5ab4494-b6f7-4b04-adf3-984a3751d8c3' class='xr-section-summary-in' type='checkbox'  checked><label for='section-f5ab4494-b6f7-4b04-adf3-984a3751d8c3' class='xr-section-summary' >Data variables: <span>(4)</span></label><div class='xr-section-inline-details'></div><div class='xr-section-details'><ul class='xr-var-list'><li class='xr-var-item'><div class='xr-var-name'><span>dens</span></div><div class='xr-var-dims'>(t, z, x)</div><div class='xr-var-dtype'>float64</div><div class='xr-var-preview xr-preview'>...</div><input id='attrs-6bc7e706-fb13-4e17-a0b5-1479da4061b8' class='xr-var-attrs-in' type='checkbox' disabled><label for='attrs-6bc7e706-fb13-4e17-a0b5-1479da4061b8' title='Show/Hide attributes'><svg class='icon xr-icon-file-text2'><use xlink:href='#icon-file-text2'></use></svg></label><input id='data-00726978-0411-45c6-8f2d-251db3a36868' class='xr-var-data-in' type='checkbox'><label for='data-00726978-0411-45c6-8f2d-251db3a36868' title='Show/Hide data repr'><svg class='icon xr-icon-database'><use xlink:href='#icon-database'></use></svg></label><div class='xr-var-attrs'><dl class='xr-attrs'></dl></div><div class='xr-var-data'><pre>[120000 values with dtype=float64]</pre></div></li><li class='xr-var-item'><div class='xr-var-name'><span>uwnd</span></div><div class='xr-var-dims'>(t, z, x)</div><div class='xr-var-dtype'>float64</div><div class='xr-var-preview xr-preview'>...</div><input id='attrs-56fab786-3e92-4060-9d4d-d5c80521696c' class='xr-var-attrs-in' type='checkbox' disabled><label for='attrs-56fab786-3e92-4060-9d4d-d5c80521696c' title='Show/Hide attributes'><svg class='icon xr-icon-file-text2'><use xlink:href='#icon-file-text2'></use></svg></label><input id='data-bb8ea404-15c9-4acf-ba96-53c6b39726b6' class='xr-var-data-in' type='checkbox'><label for='data-bb8ea404-15c9-4acf-ba96-53c6b39726b6' title='Show/Hide data repr'><svg class='icon xr-icon-database'><use xlink:href='#icon-database'></use></svg></label><div class='xr-var-attrs'><dl class='xr-attrs'></dl></div><div class='xr-var-data'><pre>[120000 values with dtype=float64]</pre></div></li><li class='xr-var-item'><div class='xr-var-name'><span>wwnd</span></div><div class='xr-var-dims'>(t, z, x)</div><div class='xr-var-dtype'>float64</div><div class='xr-var-preview xr-preview'>...</div><input id='attrs-341fcb96-3fb9-43ab-8a8e-09591a2cc951' class='xr-var-attrs-in' type='checkbox' disabled><label for='attrs-341fcb96-3fb9-43ab-8a8e-09591a2cc951' title='Show/Hide attributes'><svg class='icon xr-icon-file-text2'><use xlink:href='#icon-file-text2'></use></svg></label><input id='data-d8546d52-3950-4b05-996e-7af24fbc3fd6' class='xr-var-data-in' type='checkbox'><label for='data-d8546d52-3950-4b05-996e-7af24fbc3fd6' title='Show/Hide data repr'><svg class='icon xr-icon-database'><use xlink:href='#icon-database'></use></svg></label><div class='xr-var-attrs'><dl class='xr-attrs'></dl></div><div class='xr-var-data'><pre>[120000 values with dtype=float64]</pre></div></li><li class='xr-var-item'><div class='xr-var-name'><span>theta</span></div><div class='xr-var-dims'>(t, z, x)</div><div class='xr-var-dtype'>float64</div><div class='xr-var-preview xr-preview'>...</div><input id='attrs-07a826b2-8f52-4853-97b2-d4f2acd1b2d8' class='xr-var-attrs-in' type='checkbox' disabled><label for='attrs-07a826b2-8f52-4853-97b2-d4f2acd1b2d8' title='Show/Hide attributes'><svg class='icon xr-icon-file-text2'><use xlink:href='#icon-file-text2'></use></svg></label><input id='data-5b8437d7-1d82-47b7-86db-c2515991e710' class='xr-var-data-in' type='checkbox'><label for='data-5b8437d7-1d82-47b7-86db-c2515991e710' title='Show/Hide data repr'><svg class='icon xr-icon-database'><use xlink:href='#icon-database'></use></svg></label><div class='xr-var-attrs'><dl class='xr-attrs'></dl></div><div class='xr-var-data'><pre>[120000 values with dtype=float64]</pre></div></li></ul></div></li><li class='xr-section-item'><input id='section-b9a06f6f-1da7-45f2-9e73-da3e60b5db55' class='xr-section-summary-in' type='checkbox' disabled ><label for='section-b9a06f6f-1da7-45f2-9e73-da3e60b5db55' class='xr-section-summary'  title='Expand/collapse section'>Attributes: <span>(0)</span></label><div class='xr-section-inline-details'></div><div class='xr-section-details'><dl class='xr-attrs'></dl></div></li></ul></div></div>"
      ],
      "text/plain": [
       "<xarray.Dataset>\n",
       "Dimensions:  (t: 6, z: 100, x: 200)\n",
       "Coordinates:\n",
       "  * t        (t) float64 0.0 2.333 4.333 6.333 8.333 10.01\n",
       "Dimensions without coordinates: z, x\n",
       "Data variables:\n",
       "    dens     (t, z, x) float64 ...\n",
       "    uwnd     (t, z, x) float64 ...\n",
       "    wwnd     (t, z, x) float64 ...\n",
       "    theta    (t, z, x) float64 ..."
      ]
     },
     "execution_count": 5,
     "metadata": {},
     "output_type": "execute_result"
    }
   ],
   "source": [
    "miniWeather_data = xr.open_dataset(\"output.nc\")\n",
    "time = miniWeather_data.t\n",
    "density = miniWeather_data.dens\n",
    "u_wind = miniWeather_data.uwnd\n",
    "w_wind = miniWeather_data.wwnd\n",
    "pot_temp = miniWeather_data.theta\n",
    "miniWeather_data"
   ]
  },
  {
   "cell_type": "markdown",
   "id": "c0177a2a-ed64-4364-b9ec-abb72124dcaf",
   "metadata": {
    "slideshow": {
     "slide_type": "slide"
    },
    "tags": []
   },
   "source": [
    "### Display static image plots across time for each variable\n",
    "Modify the arrangement of the images by specifying the `cw` variable."
   ]
  },
  {
   "cell_type": "code",
   "execution_count": 6,
   "id": "3d8a0f08-40c7-4947-8893-4f971ea47498",
   "metadata": {
    "slideshow": {
     "slide_type": "fragment"
    },
    "tags": []
   },
   "outputs": [],
   "source": [
    "cw = int(len(time)/2) # Specifies number of plots per row, divisor indicates number of rows"
   ]
  },
  {
   "cell_type": "markdown",
   "id": "a959feb7-82c0-4cbe-a225-58185d66851f",
   "metadata": {
    "slideshow": {
     "slide_type": "subslide"
    },
    "tags": []
   },
   "source": [
    "#### Density Variable"
   ]
  },
  {
   "cell_type": "code",
   "execution_count": 7,
   "id": "66e1d246-79bc-4b1e-9d3c-fe6158ddca98",
   "metadata": {
    "slideshow": {
     "slide_type": "fragment"
    },
    "tags": []
   },
   "outputs": [
    {
     "data": {
      "text/plain": [
       "<xarray.plot.facetgrid.FacetGrid at 0x2b225155ce50>"
      ]
     },
     "execution_count": 7,
     "metadata": {},
     "output_type": "execute_result"
    },
    {
     "data": {
      "image/png": "[encoded data removed]",
      "text/plain": [
       "<Figure size 720x432 with 7 Axes>"
      ]
     },
     "metadata": {
      "needs_background": "light"
     },
     "output_type": "display_data"
    }
   ],
   "source": [
    "density.plot(x=\"x\", y=\"z\", col=\"t\", col_wrap=cw)"
   ]
  },
  {
   "cell_type": "markdown",
   "id": "a5a3a266-bbe4-4295-9799-880212978549",
   "metadata": {
    "slideshow": {
     "slide_type": "subslide"
    },
    "tags": []
   },
   "source": [
    "#### U-direction Wind Speed Variable"
   ]
  },
  {
   "cell_type": "code",
   "execution_count": null,
   "id": "9a23574b-e30c-4365-9929-513593c7d9e8",
   "metadata": {
    "slideshow": {
     "slide_type": "fragment"
    },
    "tags": []
   },
   "outputs": [],
   "source": [
    "u_wind.plot(x=\"x\", y=\"z\", col=\"t\", col_wrap=cw)"
   ]
  },
  {
   "cell_type": "markdown",
   "id": "19d340a5-0a95-455b-847a-ce20fb7cb7bc",
   "metadata": {
    "slideshow": {
     "slide_type": "subslide"
    },
    "tags": []
   },
   "source": [
    "#### W-direction Wind Speed Variable"
   ]
  },
  {
   "cell_type": "code",
   "execution_count": null,
   "id": "e65eee26-61a1-41f6-9088-511bc4c9dea6",
   "metadata": {
    "slideshow": {
     "slide_type": "fragment"
    },
    "tags": []
   },
   "outputs": [],
   "source": [
    "w_wind.plot(x=\"x\", y=\"z\", col=\"t\", col_wrap=cw)"
   ]
  },
  {
   "cell_type": "markdown",
   "id": "a40e631f-159f-4d3b-ae92-73e9c7ffcc21",
   "metadata": {
    "slideshow": {
     "slide_type": "subslide"
    },
    "tags": []
   },
   "source": [
    "#### Potential Temperature Variable"
   ]
  },
  {
   "cell_type": "code",
   "execution_count": null,
   "id": "03960205-cb53-4c90-bfb0-76f6a5f3fa5b",
   "metadata": {
    "slideshow": {
     "slide_type": "fragment"
    },
    "tags": []
   },
   "outputs": [],
   "source": [
    "pot_temp.plot(x=\"x\", y=\"z\", col=\"t\", col_wrap=cw)"
   ]
  },
  {
   "cell_type": "markdown",
   "id": "d1efd33d-e141-4e1e-995e-22b29462f821",
   "metadata": {
    "slideshow": {
     "slide_type": "slide"
    },
    "tags": []
   },
   "source": [
    "### Display dynamic images for each variable\n",
    "Adjust the `vmin` and `vmax` variables as needed for each variable. Use the prior static plots for range suggestions."
   ]
  },
  {
   "cell_type": "markdown",
   "id": "460a5971-75a6-40af-baa4-cd5d555c38a8",
   "metadata": {
    "slideshow": {
     "slide_type": "slide"
    },
    "tags": []
   },
   "source": [
    "#### Density: Interactive"
   ]
  },
  {
   "cell_type": "code",
   "execution_count": null,
   "id": "9a64930b-46b2-415c-8ffd-2d85bfbfda6b",
   "metadata": {
    "slideshow": {
     "slide_type": "fragment"
    },
    "tags": []
   },
   "outputs": [],
   "source": [
    "%%capture\n",
    "# Get a handle on the figure and axes, set size of figure\n",
    "fig, ax = plt.subplots(figsize=(18,9))\n",
    "# Plot the initial frame. \n",
    "cax = density[0,:,:].plot(\n",
    "    add_colorbar=True, cmap='coolwarm',# Change colormap, see matplotlib.org/stable/tutorials/colors/colormaps.html\n",
    "    vmin=-0.0008, vmax=0.0008,         # Range of colorbar values\n",
    "    cbar_kwargs={ 'extend':'neither' } # Don't extend the colorbar in either direction.\n",
    "    )                                  # Other possibilities would be 'both', 'min', or 'max'"
   ]
  },
  {
   "cell_type": "code",
   "execution_count": null,
   "id": "62e28c79-23ac-4a70-8af8-d4faed0a2bef",
   "metadata": {
    "slideshow": {
     "slide_type": "subslide"
    },
    "tags": []
   },
   "outputs": [],
   "source": [
    "# Next we need to create a function that updates the values for the colormesh, as well as the title.\n",
    "def animate(frame):\n",
    "    cax.set_array(density[frame,:,:].values.flatten());\n",
    "    ax.set_title(\"Time = {:1.3e} sec\".format(time.values[frame]));\n",
    "\n",
    "# Finally, we use the animation module to create the animation.\n",
    "ani = animation.FuncAnimation(\n",
    "    fig,             # figure\n",
    "    animate,         # name of the function above\n",
    "    frames=len(time),# Could also be iterable or list\n",
    "    interval=250     # ms between frames\n",
    ");\n",
    "HTML(ani.to_jshtml())"
   ]
  },
  {
   "cell_type": "markdown",
   "id": "7bfd5bd4-a6c4-4d3e-afa6-f7d14e1c9a55",
   "metadata": {
    "slideshow": {
     "slide_type": "subslide"
    },
    "tags": []
   },
   "source": [
    "#### Density: Save GIF"
   ]
  },
  {
   "cell_type": "code",
   "execution_count": null,
   "id": "6ab3c8c0-8f9d-44c6-9972-6dc6cf0f3717",
   "metadata": {
    "slideshow": {
     "slide_type": "fragment"
    },
    "tags": []
   },
   "outputs": [],
   "source": [
    "for t in range(len(time)):\n",
    "    density[t,:,:].plot(\n",
    "        figsize = (12,6),                  # Make figure a bit bigger\n",
    "        vmin=-0.0008, vmax=0.0008,         # Range of colorbar values\n",
    "        cmap='coolwarm',                   # Change colormap, see matplotlib.org/stable/tutorials/colors/colormaps.html\n",
    "        cbar_kwargs={ 'extend':'neither' } # Don't extend the colorbar in either direction.\n",
    "                                           # Other possibilities would be 'both', 'min', or 'max'\n",
    "    )\n",
    "    plt.title(\"Time = {:1.3e} sec\".format(time.values[t]))\n",
    "    plt.savefig(f\"img_MiniWeather/frames/dens_{t:04}.png\")\n",
    "    plt.close()\n",
    "    \n",
    "# Use ImageMagick to create a GIF\n",
    "!convert -dispose background `pwd`/img_MiniWeather/frames/dens_*.png `pwd`/img_MiniWeather/dens.gif\n",
    "display(HTML(\"<img src='img_MiniWeather/dens.gif' />\"))"
   ]
  },
  {
   "cell_type": "markdown",
   "id": "667c5b10-90c9-467f-b4d0-0e22d84fb894",
   "metadata": {
    "slideshow": {
     "slide_type": "slide"
    },
    "tags": []
   },
   "source": [
    "#### U-direction Wind Speed: Interactive"
   ]
  },
  {
   "cell_type": "code",
   "execution_count": null,
   "id": "ef39cc52-ee61-4a16-94b0-0f6dd9ca2c30",
   "metadata": {
    "slideshow": {
     "slide_type": "fragment"
    },
    "tags": []
   },
   "outputs": [],
   "source": [
    "%%capture\n",
    "# Get a handle on the figure and axes, set size of figure\n",
    "fig, ax = plt.subplots(figsize=(18,9))\n",
    "# Plot the initial frame. \n",
    "cax = u_wind[0,:,:].plot(\n",
    "    add_colorbar=True, #cmap='coolwarm',# Change colormap, see matplotlib.org/stable/tutorials/colors/colormaps.html\n",
    "    vmin=14.75, vmax=15.25,            # Range of colorbar values\n",
    "    cbar_kwargs={ 'extend':'neither' } # Don't extend the colorbar in either direction.\n",
    "    )                                  # Other possibilities would be 'both', 'min', or 'max'"
   ]
  },
  {
   "cell_type": "code",
   "execution_count": null,
   "id": "6af762a5-944a-4914-b18a-86621177c403",
   "metadata": {
    "slideshow": {
     "slide_type": "subslide"
    },
    "tags": []
   },
   "outputs": [],
   "source": [
    "# Next we need to create a function that updates the values for the colormesh, as well as the title.\n",
    "def animate(frame):\n",
    "    cax.set_array(u_wind[frame,:,:].values.flatten())\n",
    "    ax.set_title(\"Time = {:1.3e} sec\".format(time.values[frame]))\n",
    "\n",
    "# Finally, we use the animation module to create the animation.\n",
    "ani = animation.FuncAnimation(\n",
    "    fig,             # figure\n",
    "    animate,         # name of the function above\n",
    "    frames=len(time),# Could also be iterable or list\n",
    "    interval=250     # ms between frames\n",
    ")\n",
    "HTML(ani.to_jshtml())"
   ]
  },
  {
   "cell_type": "markdown",
   "id": "36c3fac0-d555-4a9d-9cec-48f494cc7d29",
   "metadata": {
    "slideshow": {
     "slide_type": "subslide"
    },
    "tags": []
   },
   "source": [
    "#### U-direction Wind Speed: Save GIF"
   ]
  },
  {
   "cell_type": "code",
   "execution_count": null,
   "id": "018fe6dc-4a1b-466c-bae0-f8ce203747cc",
   "metadata": {
    "slideshow": {
     "slide_type": "fragment"
    },
    "tags": []
   },
   "outputs": [],
   "source": [
    "for t in range(len(time)):\n",
    "    u_wind[t,:,:].plot(\n",
    "        figsize = (12,6),                  # Make figure a bit bigger\n",
    "        vmin=14.75, vmax=15.25,            # Range of colorbar values\n",
    "        cmap='coolwarm',                   # Change colormap, see matplotlib.org/stable/tutorials/colors/colormaps.html\n",
    "        cbar_kwargs={ 'extend':'neither' } # Don't extend the colorbar in either direction.\n",
    "                                           # Other possibilities would be 'both', 'min', or 'max'\n",
    "    )\n",
    "    plt.title(\"Time = {:1.3e} sec\".format(time.values[t]))\n",
    "    plt.savefig(f\"img_MiniWeather/frames/uwnd_{t:04}.png\")\n",
    "    plt.close()\n",
    "    \n",
    "# Use ImageMagick to create a GIF\n",
    "!convert -dispose background `pwd`/img_MiniWeather/frames/uwnd_*.png `pwd`/img_MiniWeather/uwnd.gif\n",
    "display(HTML(\"<img src='img_MiniWeather/uwnd.gif' />\"))"
   ]
  },
  {
   "cell_type": "markdown",
   "id": "c377d624-6cd2-4621-a707-7bb7886314bf",
   "metadata": {
    "slideshow": {
     "slide_type": "slide"
    },
    "tags": []
   },
   "source": [
    "#### W-direction Wind Speed: Interactive"
   ]
  },
  {
   "cell_type": "code",
   "execution_count": null,
   "id": "f6cbdf5f-12aa-4444-943a-dbc57f2acba9",
   "metadata": {
    "slideshow": {
     "slide_type": "fragment"
    },
    "tags": []
   },
   "outputs": [],
   "source": [
    "%%capture\n",
    "# Get a handle on the figure and axes, set size of figure\n",
    "fig, ax = plt.subplots(figsize=(18,9))\n",
    "# Plot the initial frame. \n",
    "cax = w_wind[0,:,:].plot(\n",
    "    add_colorbar=True, cmap='coolwarm',# Change colormap, see matplotlib.org/stable/tutorials/colors/colormaps.html\n",
    "    vmin=-0.31, vmax=0.31,             # Range of colorbar values\n",
    "    cbar_kwargs={ 'extend':'neither' } # Don't extend the colorbar in either direction.\n",
    "    )                                  # Other possibilities would be 'both', 'min', or 'max'"
   ]
  },
  {
   "cell_type": "code",
   "execution_count": null,
   "id": "7b564928-7f7f-45fa-99fa-c3dd9cc80a08",
   "metadata": {
    "slideshow": {
     "slide_type": "subslide"
    },
    "tags": []
   },
   "outputs": [],
   "source": [
    "# Next we need to create a function that updates the values for the colormesh, as well as the title.\n",
    "def animate(frame):\n",
    "    cax.set_array(w_wind[frame,:,:].values.flatten())\n",
    "    ax.set_title(\"Time = {:1.3e} sec\".format(time.values[frame]))\n",
    "\n",
    "# Finally, we use the animation module to create the animation.\n",
    "ani = animation.FuncAnimation(\n",
    "    fig,             # figure\n",
    "    animate,         # name of the function above\n",
    "    frames=len(time),# Could also be iterable or list\n",
    "    interval=250     # ms between frames\n",
    ")\n",
    "HTML(ani.to_jshtml())"
   ]
  },
  {
   "cell_type": "markdown",
   "id": "ca0e7aa7-d8ce-404f-b5db-ec79252c4743",
   "metadata": {
    "slideshow": {
     "slide_type": "subslide"
    },
    "tags": []
   },
   "source": [
    "#### W-direction Wind Speed: Save GIF"
   ]
  },
  {
   "cell_type": "code",
   "execution_count": null,
   "id": "c655722f-6225-4f13-af37-85a52ba228fa",
   "metadata": {
    "slideshow": {
     "slide_type": "fragment"
    },
    "tags": []
   },
   "outputs": [],
   "source": [
    "for t in range(len(time)):\n",
    "    w_wind[t,:,:].plot(\n",
    "        figsize = (12,6),                  # Make figure a bit bigger\n",
    "        vmin=-0.31, vmax=0.31,             # Range of colorbar values\n",
    "        cmap='coolwarm',                   # Change colormap, see matplotlib.org/stable/tutorials/colors/colormaps.html\n",
    "        cbar_kwargs={ 'extend':'neither' } # Don't extend the colorbar in either direction.\n",
    "                                           # Other possibilities would be 'both', 'min', or 'max'\n",
    "    )\n",
    "    plt.title(\"Time = {:1.3e} sec\".format(time.values[t]))\n",
    "    plt.savefig(f\"img_MiniWeather/frames/wwnd_{t:04}.png\")\n",
    "    plt.close()\n",
    "    \n",
    "# Use ImageMagick to create a GIF\n",
    "!convert -dispose background `pwd`/img_MiniWeather/frames/wwnd_*.png `pwd`/img_MiniWeather/wwnd.gif\n",
    "display(HTML(\"<img src='img_MiniWeather/wwnd.gif' />\"))"
   ]
  },
  {
   "cell_type": "markdown",
   "id": "ce0d4378-709f-4501-9416-c0162db6cab0",
   "metadata": {
    "slideshow": {
     "slide_type": "slide"
    },
    "tags": []
   },
   "source": [
    "#### Potential Temperature: Interactive"
   ]
  },
  {
   "cell_type": "code",
   "execution_count": null,
   "id": "55f7873b-7e7d-4325-ba2e-9c9ba8643ce5",
   "metadata": {
    "slideshow": {
     "slide_type": "fragment"
    },
    "tags": []
   },
   "outputs": [],
   "source": [
    "%%capture\n",
    "# Get a handle on the figure and axes, set size of figure\n",
    "fig, ax = plt.subplots(figsize=(18,9))\n",
    "# Plot the initial frame. \n",
    "cax = pot_temp[0,:,:].plot(\n",
    "    add_colorbar=True, cmap='coolwarm',# Change colormap, see matplotlib.org/stable/tutorials/colors/colormaps.html\n",
    "    vmin=-0.21, vmax=0.21,             # Range of colorbar values\n",
    "    cbar_kwargs={ 'extend':'neither' } # Don't extend the colorbar in either direction.\n",
    "    )                                  # Other possibilities would be 'both', 'min', or 'max'"
   ]
  },
  {
   "cell_type": "code",
   "execution_count": null,
   "id": "3c7d65d4-c708-4c6b-ad3f-484c5b7667e6",
   "metadata": {
    "slideshow": {
     "slide_type": "subslide"
    },
    "tags": []
   },
   "outputs": [],
   "source": [
    "# Next we need to create a function that updates the values for the colormesh, as well as the title.\n",
    "def animate(frame):\n",
    "    cax.set_array(pot_temp[frame,:,:].values.flatten())\n",
    "    ax.set_title(\"Time = {:1.3e} sec\".format(time.values[frame]))\n",
    "\n",
    "# Finally, we use the animation module to create the animation.\n",
    "ani = animation.FuncAnimation(\n",
    "    fig,             # figure\n",
    "    animate,         # name of the function above\n",
    "    frames=len(time),# Could also be iterable or list\n",
    "    interval=250     # ms between frames\n",
    ")\n",
    "HTML(ani.to_jshtml())"
   ]
  },
  {
   "cell_type": "markdown",
   "id": "43384937-ae18-4bd0-ad3b-175e7c690072",
   "metadata": {
    "slideshow": {
     "slide_type": "subslide"
    },
    "tags": []
   },
   "source": [
    "#### Potential Temperature: Save GIF"
   ]
  },
  {
   "cell_type": "code",
   "execution_count": null,
   "id": "0fd9611a-90bd-44e1-b4c3-bea5307b250b",
   "metadata": {
    "slideshow": {
     "slide_type": "fragment"
    },
    "tags": []
   },
   "outputs": [],
   "source": [
    "for t in range(len(time)):\n",
    "    pot_temp[t,:,:].plot(\n",
    "        figsize = (12,6),                  # Make figure a bit bigger\n",
    "        vmin=-0.21, vmax=0.21,             # Range of colorbar values\n",
    "        cmap='coolwarm',                   # Change colormap, see matplotlib.org/stable/tutorials/colors/colormaps.html\n",
    "        cbar_kwargs={ 'extend':'neither' } # Don't extend the colorbar in either direction.\n",
    "                                           # Other possibilities would be 'both', 'min', or 'max'\n",
    "    )\n",
    "    plt.title(\"Time = {:1.3e} sec\".format(time.values[t]))\n",
    "    plt.savefig(f\"img_MiniWeather/frames/theta_{t:04}.png\")\n",
    "    plt.close()\n",
    "    \n",
    "# Use ImageMagick to create a GIF\n",
    "!convert -dispose background `pwd`/img_MiniWeather/frames/theta_*.png `pwd`/img_MiniWeather/theta.gif\n",
    "display(HTML(\"<img src='img_MiniWeather/theta.gif' />\"))"
   ]
  }
 ],
 "metadata": {
  "kernelspec": {
   "display_name": "NPL (conda)",
   "language": "python",
   "name": "npl-conda"
  },
  "language_info": {
   "codemirror_mode": {
    "name": "ipython",
    "version": 3
   },
   "file_extension": ".py",
   "mimetype": "text/x-python",
   "name": "python",
   "nbconvert_exporter": "python",
   "pygments_lexer": "ipython3",
   "version": "3.7.12"
  }
 },
 "nbformat": 4,
 "nbformat_minor": 5
}
