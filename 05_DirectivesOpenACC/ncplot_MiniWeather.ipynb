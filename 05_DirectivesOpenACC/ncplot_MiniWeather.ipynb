{
 "cells": [
  {
   "cell_type": "markdown",
   "id": "d5d244f5-715e-4126-a777-b73dc40e7787",
   "metadata": {
    "slideshow": {
     "slide_type": "slide"
    },
    "tags": []
   },
   "source": [
    "# Visualize Output from MiniWeather Application\n",
    "By: Daniel Howard\n",
    "Date: April 21st, 2022\n",
    "\n",
    "This notebook visualizes output generated from [MiniWeather](https://github.com/mrnorman/miniWeather)."
   ]
  },
  {
   "cell_type": "markdown",
   "id": "0b26990a-927f-4d35-88e5-a976b9510e28",
   "metadata": {
    "slideshow": {
     "slide_type": "slide"
    },
    "tags": []
   },
   "source": [
    "### Import needed packages and setup environment"
   ]
  },
  {
   "cell_type": "code",
   "execution_count": null,
   "id": "2d512e24-0c27-44c4-b95b-a9b924fcb779",
   "metadata": {
    "slideshow": {
     "slide_type": "fragment"
    },
    "tags": []
   },
   "outputs": [],
   "source": [
    "import xarray as xr\n",
    "\n",
    "# pyplot needed to plot the dataset, but animation only needed much further down.\n",
    "from matplotlib import pyplot as plt, animation\n",
    "%matplotlib inline\n",
    "\n",
    "# This is needed to display graphics calculated outside of jupyter notebook\n",
    "from IPython.display import HTML, display\n",
    "\n",
    "# In case we haven't created it yet, make sure that we have a directory for images and videos\n",
    "# and clear any prior images from the directory\n",
    "! test -d img_MiniWeather/frames && rm -rf img_MiniWeather/frames/* || mkdir -p img_MiniWeather/frames"
   ]
  },
  {
   "cell_type": "markdown",
   "id": "d17daae6-4919-48f4-9ca3-54310e796cd1",
   "metadata": {
    "slideshow": {
     "slide_type": "slide"
    },
    "tags": []
   },
   "source": [
    "### Read in MiniWeather data and create objects for each variable\n",
    "Uses the default MiniWeather output file `output.nc` located in the `$HOME` directory. Modify this as needed."
   ]
  },
  {
   "cell_type": "code",
   "execution_count": null,
   "id": "fd0ab1f9-f86d-42b3-95da-891703afdc2e",
   "metadata": {
    "slideshow": {
     "slide_type": "fragment"
    },
    "tags": []
   },
   "outputs": [],
   "source": [
    "miniWeather_data = xr.open_dataset(\"~/output.nc\")\n",
    "time = miniWeather_data.t\n",
    "density = miniWeather_data.dens\n",
    "u_wind = miniWeather_data.uwnd\n",
    "w_wind = miniWeather_data.wwnd\n",
    "pot_temp = miniWeather_data.theta\n",
    "miniWeather_data"
   ]
  },
  {
   "cell_type": "markdown",
   "id": "c0177a2a-ed64-4364-b9ec-abb72124dcaf",
   "metadata": {
    "slideshow": {
     "slide_type": "slide"
    },
    "tags": []
   },
   "source": [
    "### Display static image plots across time for each variable\n",
    "Modify the arrangement of the images by specifying the `cw` variable."
   ]
  },
  {
   "cell_type": "code",
   "execution_count": null,
   "id": "3d8a0f08-40c7-4947-8893-4f971ea47498",
   "metadata": {
    "slideshow": {
     "slide_type": "fragment"
    },
    "tags": []
   },
   "outputs": [],
   "source": [
    "cw = int(len(time)/2) # Specifies number of plots per row, divisor indicates number of rows"
   ]
  },
  {
   "cell_type": "markdown",
   "id": "a959feb7-82c0-4cbe-a225-58185d66851f",
   "metadata": {
    "slideshow": {
     "slide_type": "subslide"
    },
    "tags": []
   },
   "source": [
    "#### Density Variable"
   ]
  },
  {
   "cell_type": "code",
   "execution_count": null,
   "id": "66e1d246-79bc-4b1e-9d3c-fe6158ddca98",
   "metadata": {
    "slideshow": {
     "slide_type": "fragment"
    },
    "tags": []
   },
   "outputs": [],
   "source": [
    "density.plot(x=\"x\", y=\"z\", col=\"t\", col_wrap=cw)"
   ]
  },
  {
   "cell_type": "markdown",
   "id": "a5a3a266-bbe4-4295-9799-880212978549",
   "metadata": {
    "slideshow": {
     "slide_type": "subslide"
    },
    "tags": []
   },
   "source": [
    "#### U-direction Wind Speed Variable"
   ]
  },
  {
   "cell_type": "code",
   "execution_count": null,
   "id": "9a23574b-e30c-4365-9929-513593c7d9e8",
   "metadata": {
    "slideshow": {
     "slide_type": "fragment"
    },
    "tags": []
   },
   "outputs": [],
   "source": [
    "u_wind.plot(x=\"x\", y=\"z\", col=\"t\", col_wrap=cw)"
   ]
  },
  {
   "cell_type": "markdown",
   "id": "19d340a5-0a95-455b-847a-ce20fb7cb7bc",
   "metadata": {
    "slideshow": {
     "slide_type": "subslide"
    },
    "tags": []
   },
   "source": [
    "#### W-direction Wind Speed Variable"
   ]
  },
  {
   "cell_type": "code",
   "execution_count": null,
   "id": "e65eee26-61a1-41f6-9088-511bc4c9dea6",
   "metadata": {
    "slideshow": {
     "slide_type": "fragment"
    },
    "tags": []
   },
   "outputs": [],
   "source": [
    "w_wind.plot(x=\"x\", y=\"z\", col=\"t\", col_wrap=cw)"
   ]
  },
  {
   "cell_type": "markdown",
   "id": "a40e631f-159f-4d3b-ae92-73e9c7ffcc21",
   "metadata": {
    "slideshow": {
     "slide_type": "subslide"
    },
    "tags": []
   },
   "source": [
    "#### Potential Temperature Variable"
   ]
  },
  {
   "cell_type": "code",
   "execution_count": null,
   "id": "03960205-cb53-4c90-bfb0-76f6a5f3fa5b",
   "metadata": {
    "slideshow": {
     "slide_type": "fragment"
    },
    "tags": []
   },
   "outputs": [],
   "source": [
    "pot_temp.plot(x=\"x\", y=\"z\", col=\"t\", col_wrap=cw)"
   ]
  },
  {
   "cell_type": "markdown",
   "id": "d1efd33d-e141-4e1e-995e-22b29462f821",
   "metadata": {
    "slideshow": {
     "slide_type": "slide"
    },
    "tags": []
   },
   "source": [
    "### Display dynamic images for each variable\n",
    "Adjust the `vmin` and `vmax` variables as needed for each variable. Use the prior static plots for range suggestions."
   ]
  },
  {
   "cell_type": "markdown",
   "id": "460a5971-75a6-40af-baa4-cd5d555c38a8",
   "metadata": {
    "slideshow": {
     "slide_type": "slide"
    },
    "tags": []
   },
   "source": [
    "#### Density: Interactive"
   ]
  },
  {
   "cell_type": "code",
   "execution_count": null,
   "id": "9a64930b-46b2-415c-8ffd-2d85bfbfda6b",
   "metadata": {
    "slideshow": {
     "slide_type": "fragment"
    },
    "tags": []
   },
   "outputs": [],
   "source": [
    "%%capture\n",
    "# Get a handle on the figure and axes, set size of figure\n",
    "fig, ax = plt.subplots(figsize=(18,9))\n",
    "# Plot the initial frame. \n",
    "cax = density[0,:,:].plot(\n",
    "    add_colorbar=True, cmap='coolwarm',# Change colormap, see matplotlib.org/stable/tutorials/colors/colormaps.html\n",
    "    vmin=-0.0008, vmax=0.0008,         # Range of colorbar values\n",
    "    cbar_kwargs={ 'extend':'neither' } # Don't extend the colorbar in either direction.\n",
    "    )                                  # Other possibilities would be 'both', 'min', or 'max'"
   ]
  },
  {
   "cell_type": "code",
   "execution_count": null,
   "id": "62e28c79-23ac-4a70-8af8-d4faed0a2bef",
   "metadata": {
    "slideshow": {
     "slide_type": "subslide"
    },
    "tags": []
   },
   "outputs": [],
   "source": [
    "# Next we need to create a function that updates the values for the colormesh, as well as the title.\n",
    "def animate(frame):\n",
    "    cax.set_array(density[frame,:,:].values.flatten());\n",
    "    ax.set_title(\"Time = {:1.3e} sec\".format(time.values[frame]));\n",
    "\n",
    "# Finally, we use the animation module to create the animation.\n",
    "ani = animation.FuncAnimation(\n",
    "    fig,             # figure\n",
    "    animate,         # name of the function above\n",
    "    frames=len(time),# Could also be iterable or list\n",
    "    interval=250     # ms between frames\n",
    ");\n",
    "HTML(ani.to_jshtml())"
   ]
  },
  {
   "cell_type": "markdown",
   "id": "7bfd5bd4-a6c4-4d3e-afa6-f7d14e1c9a55",
   "metadata": {
    "slideshow": {
     "slide_type": "subslide"
    },
    "tags": []
   },
   "source": [
    "#### Density: Save GIF"
   ]
  },
  {
   "cell_type": "code",
   "execution_count": null,
   "id": "6ab3c8c0-8f9d-44c6-9972-6dc6cf0f3717",
   "metadata": {
    "slideshow": {
     "slide_type": "fragment"
    },
    "tags": []
   },
   "outputs": [],
   "source": [
    "for t in range(len(time)):\n",
    "    density[t,:,:].plot(\n",
    "        figsize = (12,6),                  # Make figure a bit bigger\n",
    "        vmin=-0.0008, vmax=0.0008,         # Range of colorbar values\n",
    "        cmap='coolwarm',                   # Change colormap, see matplotlib.org/stable/tutorials/colors/colormaps.html\n",
    "        cbar_kwargs={ 'extend':'neither' } # Don't extend the colorbar in either direction.\n",
    "                                           # Other possibilities would be 'both', 'min', or 'max'\n",
    "    )\n",
    "    plt.title(\"Time = {:1.3e} sec\".format(time.values[t]))\n",
    "    plt.savefig(f\"img_MiniWeather/frames/dens_{t:04}.png\")\n",
    "    plt.close()\n",
    "    \n",
    "# Use ImageMagick to create a GIF\n",
    "!convert -dispose background `pwd`/img_MiniWeather/frames/dens_*.png `pwd`/img_MiniWeather/dens.gif\n",
    "display(HTML(\"<img src='img_MiniWeather/dens.gif' />\"))"
   ]
  },
  {
   "cell_type": "markdown",
   "id": "667c5b10-90c9-467f-b4d0-0e22d84fb894",
   "metadata": {
    "slideshow": {
     "slide_type": "slide"
    },
    "tags": []
   },
   "source": [
    "#### U-direction Wind Speed: Interactive"
   ]
  },
  {
   "cell_type": "code",
   "execution_count": null,
   "id": "ef39cc52-ee61-4a16-94b0-0f6dd9ca2c30",
   "metadata": {
    "slideshow": {
     "slide_type": "fragment"
    },
    "tags": []
   },
   "outputs": [],
   "source": [
    "%%capture\n",
    "# Get a handle on the figure and axes, set size of figure\n",
    "fig, ax = plt.subplots(figsize=(18,9))\n",
    "# Plot the initial frame. \n",
    "cax = u_wind[0,:,:].plot(\n",
    "    add_colorbar=True, #cmap='coolwarm',# Change colormap, see matplotlib.org/stable/tutorials/colors/colormaps.html\n",
    "    vmin=14.75, vmax=15.25,            # Range of colorbar values\n",
    "    cbar_kwargs={ 'extend':'neither' } # Don't extend the colorbar in either direction.\n",
    "    )                                  # Other possibilities would be 'both', 'min', or 'max'"
   ]
  },
  {
   "cell_type": "code",
   "execution_count": null,
   "id": "6af762a5-944a-4914-b18a-86621177c403",
   "metadata": {
    "slideshow": {
     "slide_type": "subslide"
    },
    "tags": []
   },
   "outputs": [],
   "source": [
    "# Next we need to create a function that updates the values for the colormesh, as well as the title.\n",
    "def animate(frame):\n",
    "    cax.set_array(u_wind[frame,:,:].values.flatten())\n",
    "    ax.set_title(\"Time = {:1.3e} sec\".format(time.values[frame]))\n",
    "\n",
    "# Finally, we use the animation module to create the animation.\n",
    "ani = animation.FuncAnimation(\n",
    "    fig,             # figure\n",
    "    animate,         # name of the function above\n",
    "    frames=len(time),# Could also be iterable or list\n",
    "    interval=250     # ms between frames\n",
    ")\n",
    "HTML(ani.to_jshtml())"
   ]
  },
  {
   "cell_type": "markdown",
   "id": "36c3fac0-d555-4a9d-9cec-48f494cc7d29",
   "metadata": {
    "slideshow": {
     "slide_type": "subslide"
    },
    "tags": []
   },
   "source": [
    "#### U-direction Wind Speed: Save GIF"
   ]
  },
  {
   "cell_type": "code",
   "execution_count": null,
   "id": "018fe6dc-4a1b-466c-bae0-f8ce203747cc",
   "metadata": {
    "slideshow": {
     "slide_type": "fragment"
    },
    "tags": []
   },
   "outputs": [],
   "source": [
    "for t in range(len(time)):\n",
    "    u_wind[t,:,:].plot(\n",
    "        figsize = (12,6),                  # Make figure a bit bigger\n",
    "        vmin=14.75, vmax=15.25,            # Range of colorbar values\n",
    "        cmap='coolwarm',                   # Change colormap, see matplotlib.org/stable/tutorials/colors/colormaps.html\n",
    "        cbar_kwargs={ 'extend':'neither' } # Don't extend the colorbar in either direction.\n",
    "                                           # Other possibilities would be 'both', 'min', or 'max'\n",
    "    )\n",
    "    plt.title(\"Time = {:1.3e} sec\".format(time.values[t]))\n",
    "    plt.savefig(f\"img_MiniWeather/frames/uwnd_{t:04}.png\")\n",
    "    plt.close()\n",
    "    \n",
    "# Use ImageMagick to create a GIF\n",
    "!convert -dispose background `pwd`/img_MiniWeather/frames/uwnd_*.png `pwd`/img_MiniWeather/uwnd.gif\n",
    "display(HTML(\"<img src='img_MiniWeather/uwnd.gif' />\"))"
   ]
  },
  {
   "cell_type": "markdown",
   "id": "c377d624-6cd2-4621-a707-7bb7886314bf",
   "metadata": {
    "slideshow": {
     "slide_type": "slide"
    },
    "tags": []
   },
   "source": [
    "#### W-direction Wind Speed: Interactive"
   ]
  },
  {
   "cell_type": "code",
   "execution_count": null,
   "id": "f6cbdf5f-12aa-4444-943a-dbc57f2acba9",
   "metadata": {
    "slideshow": {
     "slide_type": "fragment"
    },
    "tags": []
   },
   "outputs": [],
   "source": [
    "%%capture\n",
    "# Get a handle on the figure and axes, set size of figure\n",
    "fig, ax = plt.subplots(figsize=(18,9))\n",
    "# Plot the initial frame. \n",
    "cax = w_wind[0,:,:].plot(\n",
    "    add_colorbar=True, cmap='coolwarm',# Change colormap, see matplotlib.org/stable/tutorials/colors/colormaps.html\n",
    "    vmin=-0.31, vmax=0.31,             # Range of colorbar values\n",
    "    cbar_kwargs={ 'extend':'neither' } # Don't extend the colorbar in either direction.\n",
    "    )                                  # Other possibilities would be 'both', 'min', or 'max'"
   ]
  },
  {
   "cell_type": "code",
   "execution_count": null,
   "id": "7b564928-7f7f-45fa-99fa-c3dd9cc80a08",
   "metadata": {
    "slideshow": {
     "slide_type": "subslide"
    },
    "tags": []
   },
   "outputs": [],
   "source": [
    "# Next we need to create a function that updates the values for the colormesh, as well as the title.\n",
    "def animate(frame):\n",
    "    cax.set_array(w_wind[frame,:,:].values.flatten())\n",
    "    ax.set_title(\"Time = {:1.3e} sec\".format(time.values[frame]))\n",
    "\n",
    "# Finally, we use the animation module to create the animation.\n",
    "ani = animation.FuncAnimation(\n",
    "    fig,             # figure\n",
    "    animate,         # name of the function above\n",
    "    frames=len(time),# Could also be iterable or list\n",
    "    interval=250     # ms between frames\n",
    ")\n",
    "HTML(ani.to_jshtml())"
   ]
  },
  {
   "cell_type": "markdown",
   "id": "ca0e7aa7-d8ce-404f-b5db-ec79252c4743",
   "metadata": {
    "slideshow": {
     "slide_type": "subslide"
    },
    "tags": []
   },
   "source": [
    "#### W-direction Wind Speed: Save GIF"
   ]
  },
  {
   "cell_type": "code",
   "execution_count": null,
   "id": "c655722f-6225-4f13-af37-85a52ba228fa",
   "metadata": {
    "slideshow": {
     "slide_type": "fragment"
    },
    "tags": []
   },
   "outputs": [],
   "source": [
    "for t in range(len(time)):\n",
    "    w_wind[t,:,:].plot(\n",
    "        figsize = (12,6),                  # Make figure a bit bigger\n",
    "        vmin=-0.31, vmax=0.31,             # Range of colorbar values\n",
    "        cmap='coolwarm',                   # Change colormap, see matplotlib.org/stable/tutorials/colors/colormaps.html\n",
    "        cbar_kwargs={ 'extend':'neither' } # Don't extend the colorbar in either direction.\n",
    "                                           # Other possibilities would be 'both', 'min', or 'max'\n",
    "    )\n",
    "    plt.title(\"Time = {:1.3e} sec\".format(time.values[t]))\n",
    "    plt.savefig(f\"img_MiniWeather/frames/wwnd_{t:04}.png\")\n",
    "    plt.close()\n",
    "    \n",
    "# Use ImageMagick to create a GIF\n",
    "!convert -dispose background `pwd`/img_MiniWeather/frames/wwnd_*.png `pwd`/img_MiniWeather/wwnd.gif\n",
    "display(HTML(\"<img src='img_MiniWeather/wwnd.gif' />\"))"
   ]
  },
  {
   "cell_type": "markdown",
   "id": "ce0d4378-709f-4501-9416-c0162db6cab0",
   "metadata": {
    "slideshow": {
     "slide_type": "slide"
    },
    "tags": []
   },
   "source": [
    "#### Potential Temperature: Interactive"
   ]
  },
  {
   "cell_type": "code",
   "execution_count": null,
   "id": "55f7873b-7e7d-4325-ba2e-9c9ba8643ce5",
   "metadata": {
    "slideshow": {
     "slide_type": "fragment"
    },
    "tags": []
   },
   "outputs": [],
   "source": [
    "%%capture\n",
    "# Get a handle on the figure and axes, set size of figure\n",
    "fig, ax = plt.subplots(figsize=(18,9))\n",
    "# Plot the initial frame. \n",
    "cax = pot_temp[0,:,:].plot(\n",
    "    add_colorbar=True, cmap='coolwarm',# Change colormap, see matplotlib.org/stable/tutorials/colors/colormaps.html\n",
    "    vmin=-0.21, vmax=0.21,             # Range of colorbar values\n",
    "    cbar_kwargs={ 'extend':'neither' } # Don't extend the colorbar in either direction.\n",
    "    )                                  # Other possibilities would be 'both', 'min', or 'max'"
   ]
  },
  {
   "cell_type": "code",
   "execution_count": null,
   "id": "3c7d65d4-c708-4c6b-ad3f-484c5b7667e6",
   "metadata": {
    "slideshow": {
     "slide_type": "subslide"
    },
    "tags": []
   },
   "outputs": [],
   "source": [
    "# Next we need to create a function that updates the values for the colormesh, as well as the title.\n",
    "def animate(frame):\n",
    "    cax.set_array(pot_temp[frame,:,:].values.flatten())\n",
    "    ax.set_title(\"Time = {:1.3e} sec\".format(time.values[frame]))\n",
    "\n",
    "# Finally, we use the animation module to create the animation.\n",
    "ani = animation.FuncAnimation(\n",
    "    fig,             # figure\n",
    "    animate,         # name of the function above\n",
    "    frames=len(time),# Could also be iterable or list\n",
    "    interval=250     # ms between frames\n",
    ")\n",
    "HTML(ani.to_jshtml())"
   ]
  },
  {
   "cell_type": "markdown",
   "id": "43384937-ae18-4bd0-ad3b-175e7c690072",
   "metadata": {
    "slideshow": {
     "slide_type": "subslide"
    },
    "tags": []
   },
   "source": [
    "#### Potential Temperature: Save GIF"
   ]
  },
  {
   "cell_type": "code",
   "execution_count": null,
   "id": "0fd9611a-90bd-44e1-b4c3-bea5307b250b",
   "metadata": {
    "slideshow": {
     "slide_type": "fragment"
    },
    "tags": []
   },
   "outputs": [],
   "source": [
    "for t in range(len(time)):\n",
    "    pot_temp[t,:,:].plot(\n",
    "        figsize = (12,6),                  # Make figure a bit bigger\n",
    "        vmin=-0.21, vmax=0.21,             # Range of colorbar values\n",
    "        cmap='coolwarm',                   # Change colormap, see matplotlib.org/stable/tutorials/colors/colormaps.html\n",
    "        cbar_kwargs={ 'extend':'neither' } # Don't extend the colorbar in either direction.\n",
    "                                           # Other possibilities would be 'both', 'min', or 'max'\n",
    "    )\n",
    "    plt.title(\"Time = {:1.3e} sec\".format(time.values[t]))\n",
    "    plt.savefig(f\"img_MiniWeather/frames/theta_{t:04}.png\")\n",
    "    plt.close()\n",
    "    \n",
    "# Use ImageMagick to create a GIF\n",
    "!convert -dispose background `pwd`/img_MiniWeather/frames/theta_*.png `pwd`/img_MiniWeather/theta.gif\n",
    "display(HTML(\"<img src='img_MiniWeather/theta.gif' />\"))"
   ]
  }
 ],
 "metadata": {
  "kernelspec": {
   "display_name": "NPL (conda)",
   "language": "python",
   "name": "npl-conda"
  },
  "language_info": {
   "codemirror_mode": {
    "name": "ipython",
    "version": 3
   },
   "file_extension": ".py",
   "mimetype": "text/x-python",
   "name": "python",
   "nbconvert_exporter": "python",
   "pygments_lexer": "ipython3",
   "version": "3.7.12"
  }
 },
 "nbformat": 4,
 "nbformat_minor": 5
}
